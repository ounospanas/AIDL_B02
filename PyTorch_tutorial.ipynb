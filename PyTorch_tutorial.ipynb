{
  "nbformat": 4,
  "nbformat_minor": 0,
  "metadata": {
    "colab": {
      "provenance": [],
      "gpuType": "T4",
      "include_colab_link": true
    },
    "kernelspec": {
      "name": "python3",
      "display_name": "Python 3"
    },
    "language_info": {
      "name": "python"
    },
    "accelerator": "GPU"
  },
  "cells": [
    {
      "cell_type": "markdown",
      "metadata": {
        "id": "view-in-github",
        "colab_type": "text"
      },
      "source": [
        "<a href=\"https://colab.research.google.com/github/ounospanas/AIDL_B02/blob/main/PyTorch_tutorial.ipynb\" target=\"_parent\"><img src=\"https://colab.research.google.com/assets/colab-badge.svg\" alt=\"Open In Colab\"/></a>"
      ]
    },
    {
      "cell_type": "markdown",
      "metadata": {
        "id": "TC8bXq5wqjDK"
      },
      "source": [
        "PyTorch is similar to numpy and is more imperative (you do not define graph statically before a model can run) and dynamic: you can define, change and execute nodes as you go, no special session interfaces or placeholders."
      ]
    },
    {
      "cell_type": "code",
      "metadata": {
        "id": "6nUv8o7tqZ3Z"
      },
      "source": [
        "import torch"
      ],
      "execution_count": null,
      "outputs": []
    },
    {
      "cell_type": "markdown",
      "metadata": {
        "id": "oG8w6SRYsVH2"
      },
      "source": [
        "# Custom layer"
      ]
    },
    {
      "cell_type": "code",
      "metadata": {
        "id": "rkLIf4YcqgX1"
      },
      "source": [
        "# sigmoid activation function\n",
        "def activation(x):\n",
        "    return 1/(1+torch.exp(-x))"
      ],
      "execution_count": null,
      "outputs": []
    },
    {
      "cell_type": "code",
      "metadata": {
        "id": "tUDmvuxpreCC"
      },
      "source": [
        "# define x_train\n",
        "x_features = torch.randn((1, 10))\n",
        "# random weights with same shape as features\n",
        "weights = torch.randn_like(x_features)\n",
        "# bias term\n",
        "bias = torch.randn((1, 1))"
      ],
      "execution_count": null,
      "outputs": []
    },
    {
      "cell_type": "code",
      "metadata": {
        "id": "GBDyjYfDr-7j"
      },
      "source": [
        "# linear layer\n",
        "# .view is similar to reshape\n",
        "a = activation(torch.mm(x_features, weights.view(10,1)) + bias)"
      ],
      "execution_count": null,
      "outputs": []
    },
    {
      "cell_type": "markdown",
      "metadata": {
        "id": "4-M__Er-sqQ7"
      },
      "source": [
        "# Dense Network"
      ]
    },
    {
      "cell_type": "code",
      "metadata": {
        "id": "xbQEAR0pspfn",
        "colab": {
          "base_uri": "https://localhost:8080/"
        },
        "outputId": "92d39e95-7b7a-426f-e10d-86726656c9cf"
      },
      "source": [
        "from torchvision import datasets, transforms\n",
        "\n",
        "# normalize the data\n",
        "transform = transforms.Compose([transforms.ToTensor(),\n",
        "                              transforms.Normalize((0.5,), (0.5,)), #(mean),(std) to execute (x-mean)/std\n",
        "                              ])\n",
        "# download and load the train FMNIST dataset\n",
        "trainset = datasets.FashionMNIST('~/.pytorch/MNIST_data/', download=True, train=True, transform=transform)\n",
        "trainloader = torch.utils.data.DataLoader(trainset, batch_size=64, shuffle=True)\n",
        "\n",
        "# download and load the test FMNIST data\n",
        "testset = datasets.FashionMNIST('~/.pytorch/F_MNIST_data/', download=True, train=False, transform=transform)\n",
        "testloader = torch.utils.data.DataLoader(testset, batch_size=64, shuffle=True)"
      ],
      "execution_count": null,
      "outputs": [
        {
          "output_type": "stream",
          "name": "stdout",
          "text": [
            "Downloading http://fashion-mnist.s3-website.eu-central-1.amazonaws.com/train-images-idx3-ubyte.gz\n",
            "Downloading http://fashion-mnist.s3-website.eu-central-1.amazonaws.com/train-images-idx3-ubyte.gz to /root/.pytorch/MNIST_data/FashionMNIST/raw/train-images-idx3-ubyte.gz\n"
          ]
        },
        {
          "output_type": "stream",
          "name": "stderr",
          "text": [
            "100%|██████████| 26.4M/26.4M [00:03<00:00, 7.82MB/s]\n"
          ]
        },
        {
          "output_type": "stream",
          "name": "stdout",
          "text": [
            "Extracting /root/.pytorch/MNIST_data/FashionMNIST/raw/train-images-idx3-ubyte.gz to /root/.pytorch/MNIST_data/FashionMNIST/raw\n",
            "\n",
            "Downloading http://fashion-mnist.s3-website.eu-central-1.amazonaws.com/train-labels-idx1-ubyte.gz\n",
            "Downloading http://fashion-mnist.s3-website.eu-central-1.amazonaws.com/train-labels-idx1-ubyte.gz to /root/.pytorch/MNIST_data/FashionMNIST/raw/train-labels-idx1-ubyte.gz\n"
          ]
        },
        {
          "output_type": "stream",
          "name": "stderr",
          "text": [
            "100%|██████████| 29.5k/29.5k [00:00<00:00, 210kB/s]\n"
          ]
        },
        {
          "output_type": "stream",
          "name": "stdout",
          "text": [
            "Extracting /root/.pytorch/MNIST_data/FashionMNIST/raw/train-labels-idx1-ubyte.gz to /root/.pytorch/MNIST_data/FashionMNIST/raw\n",
            "\n",
            "Downloading http://fashion-mnist.s3-website.eu-central-1.amazonaws.com/t10k-images-idx3-ubyte.gz\n",
            "Downloading http://fashion-mnist.s3-website.eu-central-1.amazonaws.com/t10k-images-idx3-ubyte.gz to /root/.pytorch/MNIST_data/FashionMNIST/raw/t10k-images-idx3-ubyte.gz\n"
          ]
        },
        {
          "output_type": "stream",
          "name": "stderr",
          "text": [
            "100%|██████████| 4.42M/4.42M [00:01<00:00, 3.88MB/s]\n"
          ]
        },
        {
          "output_type": "stream",
          "name": "stdout",
          "text": [
            "Extracting /root/.pytorch/MNIST_data/FashionMNIST/raw/t10k-images-idx3-ubyte.gz to /root/.pytorch/MNIST_data/FashionMNIST/raw\n",
            "\n",
            "Downloading http://fashion-mnist.s3-website.eu-central-1.amazonaws.com/t10k-labels-idx1-ubyte.gz\n",
            "Downloading http://fashion-mnist.s3-website.eu-central-1.amazonaws.com/t10k-labels-idx1-ubyte.gz to /root/.pytorch/MNIST_data/FashionMNIST/raw/t10k-labels-idx1-ubyte.gz\n"
          ]
        },
        {
          "output_type": "stream",
          "name": "stderr",
          "text": [
            "100%|██████████| 5.15k/5.15k [00:00<00:00, 8.10MB/s]\n"
          ]
        },
        {
          "output_type": "stream",
          "name": "stdout",
          "text": [
            "Extracting /root/.pytorch/MNIST_data/FashionMNIST/raw/t10k-labels-idx1-ubyte.gz to /root/.pytorch/MNIST_data/FashionMNIST/raw\n",
            "\n",
            "Downloading http://fashion-mnist.s3-website.eu-central-1.amazonaws.com/train-images-idx3-ubyte.gz\n",
            "Downloading http://fashion-mnist.s3-website.eu-central-1.amazonaws.com/train-images-idx3-ubyte.gz to /root/.pytorch/F_MNIST_data/FashionMNIST/raw/train-images-idx3-ubyte.gz\n"
          ]
        },
        {
          "output_type": "stream",
          "name": "stderr",
          "text": [
            "100%|██████████| 26.4M/26.4M [00:01<00:00, 13.2MB/s]\n"
          ]
        },
        {
          "output_type": "stream",
          "name": "stdout",
          "text": [
            "Extracting /root/.pytorch/F_MNIST_data/FashionMNIST/raw/train-images-idx3-ubyte.gz to /root/.pytorch/F_MNIST_data/FashionMNIST/raw\n",
            "\n",
            "Downloading http://fashion-mnist.s3-website.eu-central-1.amazonaws.com/train-labels-idx1-ubyte.gz\n",
            "Downloading http://fashion-mnist.s3-website.eu-central-1.amazonaws.com/train-labels-idx1-ubyte.gz to /root/.pytorch/F_MNIST_data/FashionMNIST/raw/train-labels-idx1-ubyte.gz\n"
          ]
        },
        {
          "output_type": "stream",
          "name": "stderr",
          "text": [
            "100%|██████████| 29.5k/29.5k [00:00<00:00, 209kB/s]\n"
          ]
        },
        {
          "output_type": "stream",
          "name": "stdout",
          "text": [
            "Extracting /root/.pytorch/F_MNIST_data/FashionMNIST/raw/train-labels-idx1-ubyte.gz to /root/.pytorch/F_MNIST_data/FashionMNIST/raw\n",
            "\n",
            "Downloading http://fashion-mnist.s3-website.eu-central-1.amazonaws.com/t10k-images-idx3-ubyte.gz\n",
            "Downloading http://fashion-mnist.s3-website.eu-central-1.amazonaws.com/t10k-images-idx3-ubyte.gz to /root/.pytorch/F_MNIST_data/FashionMNIST/raw/t10k-images-idx3-ubyte.gz\n"
          ]
        },
        {
          "output_type": "stream",
          "name": "stderr",
          "text": [
            "100%|██████████| 4.42M/4.42M [00:01<00:00, 2.38MB/s]\n"
          ]
        },
        {
          "output_type": "stream",
          "name": "stdout",
          "text": [
            "Extracting /root/.pytorch/F_MNIST_data/FashionMNIST/raw/t10k-images-idx3-ubyte.gz to /root/.pytorch/F_MNIST_data/FashionMNIST/raw\n",
            "\n",
            "Downloading http://fashion-mnist.s3-website.eu-central-1.amazonaws.com/t10k-labels-idx1-ubyte.gz\n",
            "Downloading http://fashion-mnist.s3-website.eu-central-1.amazonaws.com/t10k-labels-idx1-ubyte.gz to /root/.pytorch/F_MNIST_data/FashionMNIST/raw/t10k-labels-idx1-ubyte.gz\n"
          ]
        },
        {
          "output_type": "stream",
          "name": "stderr",
          "text": [
            "100%|██████████| 5.15k/5.15k [00:00<00:00, 23.8MB/s]"
          ]
        },
        {
          "output_type": "stream",
          "name": "stdout",
          "text": [
            "Extracting /root/.pytorch/F_MNIST_data/FashionMNIST/raw/t10k-labels-idx1-ubyte.gz to /root/.pytorch/F_MNIST_data/FashionMNIST/raw\n",
            "\n"
          ]
        },
        {
          "output_type": "stream",
          "name": "stderr",
          "text": [
            "\n"
          ]
        }
      ]
    },
    {
      "cell_type": "code",
      "metadata": {
        "id": "ga120hUwsJ4Y"
      },
      "source": [
        "from torch import nn\n",
        "import torch.nn.functional as F"
      ],
      "execution_count": null,
      "outputs": []
    },
    {
      "cell_type": "code",
      "source": [
        "# setting device on GPU if available, else CPU\n",
        "device = torch.device('cuda' if torch.cuda.is_available() else 'cpu')\n",
        "print('Using device:', device)"
      ],
      "metadata": {
        "colab": {
          "base_uri": "https://localhost:8080/"
        },
        "id": "WIfzP9hbUR-r",
        "outputId": "60c1b8e4-f276-4642-f041-f7eb911d1aa2"
      },
      "execution_count": null,
      "outputs": [
        {
          "output_type": "stream",
          "name": "stdout",
          "text": [
            "Using device: cuda\n"
          ]
        }
      ]
    },
    {
      "cell_type": "code",
      "metadata": {
        "id": "UmcVE61UukPb"
      },
      "source": [
        "class DenseNetwork(nn.Module):\n",
        "    def __init__(self):\n",
        "        super().__init__() # mandatory to inherit the same nn.Module  architecture and provide useful methods and attributes\n",
        "\n",
        "        # layers\n",
        "        self.fc1 = nn.Linear(784, 256)\n",
        "        self.fc2 = nn.Linear(256, 64)\n",
        "        self.fc3 = nn.Linear(64, 10)\n",
        "\n",
        "    def forward(self, x):\n",
        "        # pass the outputs of the previous layers to the next\n",
        "        # here the sequence of the operations is defined NOT in __init__\n",
        "        x = self.fc1(x)\n",
        "        x = F.relu(x)\n",
        "        x = self.fc2(x)\n",
        "        x = F.relu(x)\n",
        "        x = self.fc3(x)\n",
        "        x = F.log_softmax(x, dim=1)\n",
        "\n",
        "        return x"
      ],
      "execution_count": null,
      "outputs": []
    },
    {
      "cell_type": "code",
      "metadata": {
        "colab": {
          "base_uri": "https://localhost:8080/"
        },
        "id": "90ZmdaXYu9fu",
        "outputId": "7969b9de-f820-4296-cb03-022110507df2"
      },
      "source": [
        "# init network\n",
        "model = DenseNetwork()\n",
        "model"
      ],
      "execution_count": null,
      "outputs": [
        {
          "output_type": "execute_result",
          "data": {
            "text/plain": [
              "DenseNetwork(\n",
              "  (fc1): Linear(in_features=784, out_features=256, bias=True)\n",
              "  (fc2): Linear(in_features=256, out_features=64, bias=True)\n",
              "  (fc3): Linear(in_features=64, out_features=10, bias=True)\n",
              ")"
            ]
          },
          "metadata": {},
          "execution_count": 10
        }
      ]
    },
    {
      "cell_type": "code",
      "metadata": {
        "colab": {
          "base_uri": "https://localhost:8080/"
        },
        "id": "fWP5IqHhwovB",
        "outputId": "4b84e0d4-b876-47cf-dcec-f10f9522ba8d"
      },
      "source": [
        "# get layer\n",
        "model.fc1"
      ],
      "execution_count": null,
      "outputs": [
        {
          "output_type": "execute_result",
          "data": {
            "text/plain": [
              "Linear(in_features=784, out_features=256, bias=True)"
            ]
          },
          "metadata": {},
          "execution_count": 11
        }
      ]
    },
    {
      "cell_type": "code",
      "metadata": {
        "colab": {
          "base_uri": "https://localhost:8080/"
        },
        "id": "MSgSeybcyGKW",
        "outputId": "f5cb4a47-dd09-4241-f202-e85fe345a94a"
      },
      "source": [
        "# get layer params\n",
        "print(model.fc1.weight)\n",
        "print(model.fc1.bias)"
      ],
      "execution_count": null,
      "outputs": [
        {
          "output_type": "stream",
          "name": "stdout",
          "text": [
            "Parameter containing:\n",
            "tensor([[-0.0313, -0.0056,  0.0339,  ..., -0.0010, -0.0037, -0.0250],\n",
            "        [ 0.0134, -0.0135,  0.0073,  ...,  0.0027, -0.0026, -0.0223],\n",
            "        [ 0.0298, -0.0291, -0.0016,  ...,  0.0195, -0.0262,  0.0257],\n",
            "        ...,\n",
            "        [-0.0071, -0.0210,  0.0057,  ...,  0.0139,  0.0124, -0.0006],\n",
            "        [ 0.0189, -0.0268,  0.0070,  ...,  0.0170, -0.0089, -0.0042],\n",
            "        [-0.0166, -0.0271,  0.0029,  ...,  0.0311,  0.0023, -0.0099]],\n",
            "       requires_grad=True)\n",
            "Parameter containing:\n",
            "tensor([-0.0346,  0.0117,  0.0288, -0.0128, -0.0068,  0.0305, -0.0250,  0.0078,\n",
            "         0.0295,  0.0094,  0.0028,  0.0323,  0.0183,  0.0030, -0.0119,  0.0170,\n",
            "        -0.0310, -0.0312, -0.0053,  0.0311,  0.0125, -0.0180,  0.0283, -0.0072,\n",
            "        -0.0348,  0.0107,  0.0201,  0.0008,  0.0075,  0.0338,  0.0089,  0.0135,\n",
            "         0.0296, -0.0336,  0.0218,  0.0276,  0.0065, -0.0101,  0.0314, -0.0194,\n",
            "        -0.0229, -0.0278,  0.0301,  0.0154, -0.0099, -0.0021, -0.0320,  0.0159,\n",
            "         0.0091, -0.0022,  0.0044, -0.0260,  0.0223, -0.0102,  0.0008, -0.0206,\n",
            "         0.0341,  0.0166,  0.0344, -0.0082, -0.0245, -0.0261,  0.0257,  0.0085,\n",
            "         0.0178, -0.0270,  0.0149, -0.0183,  0.0152,  0.0246, -0.0038,  0.0294,\n",
            "        -0.0334, -0.0304,  0.0221,  0.0355, -0.0062, -0.0257,  0.0137, -0.0265,\n",
            "        -0.0005,  0.0165,  0.0322,  0.0245,  0.0304, -0.0339,  0.0072, -0.0126,\n",
            "        -0.0261, -0.0085,  0.0225, -0.0332, -0.0071, -0.0273, -0.0220, -0.0245,\n",
            "        -0.0007,  0.0039,  0.0050, -0.0161, -0.0333,  0.0020,  0.0087, -0.0160,\n",
            "         0.0296,  0.0281,  0.0043, -0.0215, -0.0185, -0.0089,  0.0162, -0.0339,\n",
            "        -0.0052,  0.0042, -0.0142, -0.0169, -0.0288,  0.0317, -0.0322, -0.0012,\n",
            "         0.0185, -0.0061, -0.0102,  0.0166, -0.0326,  0.0277,  0.0244,  0.0168,\n",
            "        -0.0309, -0.0210,  0.0002, -0.0143, -0.0258,  0.0129,  0.0126, -0.0124,\n",
            "        -0.0092, -0.0176, -0.0167, -0.0193, -0.0161, -0.0155,  0.0066, -0.0031,\n",
            "         0.0129,  0.0344, -0.0330,  0.0273, -0.0283,  0.0288, -0.0070,  0.0201,\n",
            "        -0.0265, -0.0173, -0.0176, -0.0357,  0.0017, -0.0165,  0.0169, -0.0257,\n",
            "        -0.0319, -0.0334, -0.0349,  0.0027,  0.0167,  0.0298, -0.0296, -0.0219,\n",
            "         0.0109,  0.0113, -0.0134,  0.0250, -0.0006,  0.0243, -0.0023,  0.0321,\n",
            "         0.0223, -0.0341,  0.0197, -0.0301,  0.0260, -0.0245,  0.0180, -0.0305,\n",
            "         0.0273, -0.0356,  0.0197, -0.0108, -0.0231,  0.0188,  0.0227,  0.0183,\n",
            "         0.0118, -0.0336, -0.0177, -0.0142,  0.0277, -0.0172, -0.0205,  0.0042,\n",
            "        -0.0164, -0.0109, -0.0075,  0.0017, -0.0321, -0.0159, -0.0008, -0.0101,\n",
            "        -0.0260,  0.0102,  0.0077,  0.0059, -0.0121, -0.0182,  0.0354,  0.0325,\n",
            "        -0.0128, -0.0074,  0.0221, -0.0149, -0.0291, -0.0121,  0.0158,  0.0274,\n",
            "         0.0323,  0.0246, -0.0248, -0.0356, -0.0205, -0.0333, -0.0216, -0.0095,\n",
            "         0.0210, -0.0315,  0.0085,  0.0101,  0.0234,  0.0025,  0.0134, -0.0254,\n",
            "        -0.0050,  0.0299, -0.0031,  0.0330, -0.0292,  0.0078, -0.0103, -0.0229,\n",
            "         0.0177, -0.0265,  0.0349,  0.0026,  0.0266,  0.0133,  0.0226,  0.0315],\n",
            "       requires_grad=True)\n"
          ]
        }
      ]
    },
    {
      "cell_type": "code",
      "metadata": {
        "colab": {
          "base_uri": "https://localhost:8080/"
        },
        "id": "-w79m-V7yRMp",
        "outputId": "76107d6a-f430-4b79-c76d-e65255e26e1c"
      },
      "source": [
        "# Sequential network example\n",
        "model = nn.Sequential(nn.Linear(784, 256),\n",
        "                      nn.ReLU(),\n",
        "                      nn.Linear(256, 64),\n",
        "                      nn.ReLU(),\n",
        "                      nn.Linear(64, 10),\n",
        "                      nn.LogSoftmax(dim=1))\n",
        "print(model)"
      ],
      "execution_count": null,
      "outputs": [
        {
          "output_type": "stream",
          "name": "stdout",
          "text": [
            "Sequential(\n",
            "  (0): Linear(in_features=784, out_features=256, bias=True)\n",
            "  (1): ReLU()\n",
            "  (2): Linear(in_features=256, out_features=64, bias=True)\n",
            "  (3): ReLU()\n",
            "  (4): Linear(in_features=64, out_features=10, bias=True)\n",
            "  (5): LogSoftmax(dim=1)\n",
            ")\n"
          ]
        }
      ]
    },
    {
      "cell_type": "code",
      "metadata": {
        "colab": {
          "base_uri": "https://localhost:8080/"
        },
        "id": "V5yV_AfVy23b",
        "outputId": "777ce120-41b1-47de-da6d-dba8183ff77e"
      },
      "source": [
        "# loss function\n",
        "criterion = nn.NLLLoss()\n",
        "\n",
        "# iter data\n",
        "images, labels = next(iter(trainloader))\n",
        "images = images.view(images.shape[0], -1)\n",
        "print(images.shape)\n",
        "\n",
        "# one forward pass\n",
        "logits = model(images)\n",
        "print(logits[0])\n",
        "# loss\n",
        "loss = criterion(logits, labels)\n",
        "print(loss)\n",
        "\n",
        "loss.backward()\n",
        "print(model[0].weight.grad)"
      ],
      "execution_count": null,
      "outputs": [
        {
          "output_type": "stream",
          "name": "stdout",
          "text": [
            "torch.Size([64, 784])\n",
            "tensor([-2.4117, -2.2472, -2.2092, -2.3188, -2.2870, -2.3024, -2.4907, -2.4538,\n",
            "        -2.1454, -2.2162], grad_fn=<SelectBackward0>)\n",
            "tensor(2.3127, grad_fn=<NllLossBackward0>)\n",
            "tensor([[ 0.0010,  0.0010,  0.0010,  ...,  0.0010,  0.0010,  0.0010],\n",
            "        [-0.0004, -0.0004, -0.0004,  ..., -0.0004, -0.0004, -0.0004],\n",
            "        [-0.0003, -0.0003, -0.0003,  ..., -0.0003, -0.0003, -0.0003],\n",
            "        ...,\n",
            "        [-0.0017, -0.0017, -0.0017,  ..., -0.0017, -0.0017, -0.0017],\n",
            "        [ 0.0002,  0.0002,  0.0002,  ...,  0.0002,  0.0002,  0.0002],\n",
            "        [-0.0022, -0.0022, -0.0022,  ..., -0.0022, -0.0022, -0.0022]])\n"
          ]
        }
      ]
    },
    {
      "cell_type": "code",
      "metadata": {
        "id": "6e6RcJfWzjkb"
      },
      "source": [
        "from torch import optim\n",
        "\n",
        "# optimizer MUST have the parameters as input and the lr\n",
        "optimizer = optim.SGD(model.parameters(), lr=0.001)"
      ],
      "execution_count": null,
      "outputs": []
    },
    {
      "cell_type": "code",
      "metadata": {
        "colab": {
          "base_uri": "https://localhost:8080/"
        },
        "id": "-VGWQ3r12D3A",
        "outputId": "48ae0640-f33a-4d12-dd33-c9f181ff1f9b"
      },
      "source": [
        "model = nn.Sequential(nn.Linear(784, 256),\n",
        "                      nn.ReLU(),\n",
        "                      nn.Linear(256, 64),\n",
        "                      nn.ReLU(),\n",
        "                      nn.Linear(64, 10),\n",
        "                      nn.LogSoftmax(dim=1))\n",
        "model.to(device)\n",
        "criterion = nn.NLLLoss()\n",
        "optimizer = optim.SGD(model.parameters(), lr=0.003)\n",
        "\n",
        "epochs = 10\n",
        "for e in range(epochs):\n",
        "    running_loss = 0\n",
        "    for images, labels in trainloader:\n",
        "        # flatten images\n",
        "        images = images.view(images.shape[0], -1).to(device)\n",
        "\n",
        "        # training pass\n",
        "        # backwards passes with the same parameters, the gradients are accumulated!!! So zero them\n",
        "        optimizer.zero_grad()\n",
        "\n",
        "        output = model(images)\n",
        "        loss = criterion(output, labels.to(device))\n",
        "        loss.backward()\n",
        "        optimizer.step()\n",
        "\n",
        "        running_loss += loss.item()\n",
        "    else:\n",
        "        print(\"Training loss {}\".format(running_loss/len(trainloader)))"
      ],
      "execution_count": null,
      "outputs": [
        {
          "output_type": "stream",
          "name": "stdout",
          "text": [
            "Training loss 1.5770802086096074\n",
            "Training loss 0.7916779769763255\n",
            "Training loss 0.6529216215427496\n",
            "Training loss 0.5934974533408436\n",
            "Training loss 0.5547961311808018\n",
            "Training loss 0.5264973247419796\n",
            "Training loss 0.5048465041527107\n",
            "Training loss 0.4884200979079773\n",
            "Training loss 0.47431878863113014\n",
            "Training loss 0.46296621237927155\n"
          ]
        }
      ]
    },
    {
      "cell_type": "code",
      "metadata": {
        "colab": {
          "base_uri": "https://localhost:8080/"
        },
        "id": "PRiIkW7n2TVP",
        "outputId": "4e174330-f875-408a-f522-4d8099e28f09"
      },
      "source": [
        "model = nn.Sequential(nn.Linear(784, 256),\n",
        "                      nn.ReLU(),\n",
        "                      nn.Linear(256, 64),\n",
        "                      nn.ReLU(),\n",
        "                      nn.Linear(64, 10),\n",
        "                      nn.LogSoftmax(dim=1))\n",
        "model.to(device)\n",
        "criterion = nn.NLLLoss()\n",
        "optimizer = optim.SGD(model.parameters(), lr=0.003)\n",
        "\n",
        "epochs = 30\n",
        "\n",
        "train_losses, test_losses = [], []\n",
        "for e in range(epochs):\n",
        "    tot_train_loss = 0\n",
        "    for images, labels in trainloader:\n",
        "\n",
        "        # flatten images\n",
        "        images = images.view(images.shape[0], -1).to(device)\n",
        "\n",
        "        # training pass\n",
        "        # backwards passes with the same parameters, the gradients are accumulated!!! So zero them\n",
        "        optimizer.zero_grad()\n",
        "\n",
        "        log_ps = model(images)\n",
        "        loss = criterion(log_ps, labels.to(device))\n",
        "        tot_train_loss += loss.item()\n",
        "\n",
        "        loss.backward()\n",
        "        optimizer.step()\n",
        "    else:\n",
        "        tot_test_loss = 0\n",
        "        test_correct = 0  # Number of correct predictions on the test set\n",
        "\n",
        "        # Turn off gradients for validation, saves memory and computations\n",
        "        with torch.no_grad():\n",
        "            for images, labels in testloader:\n",
        "                # flatten images\n",
        "                images = images.view(images.shape[0], -1).to(device)\n",
        "                labels = labels.to(device)\n",
        "\n",
        "                log_ps = model(images)\n",
        "                loss = criterion(log_ps, labels)\n",
        "                tot_test_loss += loss.item()\n",
        "\n",
        "                ps = torch.exp(log_ps)\n",
        "                top_p, top_class = ps.topk(1, dim=1)\n",
        "                equals = top_class == labels.view(*top_class.shape)\n",
        "                test_correct += equals.sum().item()\n",
        "\n",
        "        # Get mean loss to enable comparison between train and test sets\n",
        "        train_loss = tot_train_loss / len(trainloader.dataset)\n",
        "        test_loss = tot_test_loss / len(testloader.dataset)\n",
        "\n",
        "        # At completion of epoch\n",
        "        train_losses.append(train_loss)\n",
        "        test_losses.append(test_loss)\n",
        "\n",
        "        print(\"Epoch: {}/{}.. \".format(e+1, epochs),\n",
        "              \"Training Loss: {:.3f}.. \".format(train_loss),\n",
        "              \"Test Loss: {:.3f}.. \".format(test_loss),\n",
        "              \"Test Accuracy: {:.3f}\".format(test_correct / len(testloader.dataset)))"
      ],
      "execution_count": null,
      "outputs": [
        {
          "output_type": "stream",
          "name": "stdout",
          "text": [
            "Epoch: 1/30..  Training Loss: 0.025..  Test Loss: 0.016..  Test Accuracy: 0.689\n",
            "Epoch: 2/30..  Training Loss: 0.013..  Test Loss: 0.011..  Test Accuracy: 0.744\n",
            "Epoch: 3/30..  Training Loss: 0.010..  Test Loss: 0.010..  Test Accuracy: 0.766\n",
            "Epoch: 4/30..  Training Loss: 0.009..  Test Loss: 0.009..  Test Accuracy: 0.783\n",
            "Epoch: 5/30..  Training Loss: 0.009..  Test Loss: 0.009..  Test Accuracy: 0.797\n",
            "Epoch: 6/30..  Training Loss: 0.008..  Test Loss: 0.009..  Test Accuracy: 0.805\n",
            "Epoch: 7/30..  Training Loss: 0.008..  Test Loss: 0.008..  Test Accuracy: 0.812\n",
            "Epoch: 8/30..  Training Loss: 0.008..  Test Loss: 0.008..  Test Accuracy: 0.817\n",
            "Epoch: 9/30..  Training Loss: 0.007..  Test Loss: 0.008..  Test Accuracy: 0.820\n",
            "Epoch: 10/30..  Training Loss: 0.007..  Test Loss: 0.008..  Test Accuracy: 0.823\n",
            "Epoch: 11/30..  Training Loss: 0.007..  Test Loss: 0.008..  Test Accuracy: 0.825\n",
            "Epoch: 12/30..  Training Loss: 0.007..  Test Loss: 0.007..  Test Accuracy: 0.831\n",
            "Epoch: 13/30..  Training Loss: 0.007..  Test Loss: 0.007..  Test Accuracy: 0.830\n",
            "Epoch: 14/30..  Training Loss: 0.007..  Test Loss: 0.007..  Test Accuracy: 0.836\n",
            "Epoch: 15/30..  Training Loss: 0.007..  Test Loss: 0.007..  Test Accuracy: 0.837\n",
            "Epoch: 16/30..  Training Loss: 0.006..  Test Loss: 0.007..  Test Accuracy: 0.841\n",
            "Epoch: 17/30..  Training Loss: 0.006..  Test Loss: 0.007..  Test Accuracy: 0.840\n",
            "Epoch: 18/30..  Training Loss: 0.006..  Test Loss: 0.007..  Test Accuracy: 0.843\n",
            "Epoch: 19/30..  Training Loss: 0.006..  Test Loss: 0.007..  Test Accuracy: 0.842\n",
            "Epoch: 20/30..  Training Loss: 0.006..  Test Loss: 0.007..  Test Accuracy: 0.847\n",
            "Epoch: 21/30..  Training Loss: 0.006..  Test Loss: 0.007..  Test Accuracy: 0.846\n",
            "Epoch: 22/30..  Training Loss: 0.006..  Test Loss: 0.007..  Test Accuracy: 0.850\n",
            "Epoch: 23/30..  Training Loss: 0.006..  Test Loss: 0.007..  Test Accuracy: 0.851\n",
            "Epoch: 24/30..  Training Loss: 0.006..  Test Loss: 0.007..  Test Accuracy: 0.850\n",
            "Epoch: 25/30..  Training Loss: 0.006..  Test Loss: 0.007..  Test Accuracy: 0.850\n",
            "Epoch: 26/30..  Training Loss: 0.006..  Test Loss: 0.007..  Test Accuracy: 0.851\n",
            "Epoch: 27/30..  Training Loss: 0.006..  Test Loss: 0.006..  Test Accuracy: 0.852\n",
            "Epoch: 28/30..  Training Loss: 0.006..  Test Loss: 0.006..  Test Accuracy: 0.854\n",
            "Epoch: 29/30..  Training Loss: 0.006..  Test Loss: 0.006..  Test Accuracy: 0.856\n",
            "Epoch: 30/30..  Training Loss: 0.006..  Test Loss: 0.006..  Test Accuracy: 0.856\n"
          ]
        }
      ]
    },
    {
      "cell_type": "code",
      "metadata": {
        "colab": {
          "base_uri": "https://localhost:8080/",
          "height": 448
        },
        "id": "H6dkqEL93suL",
        "outputId": "ca261531-448e-4566-b78b-5cd1e090d13e"
      },
      "source": [
        "%matplotlib inline\n",
        "import matplotlib.pyplot as plt\n",
        "\n",
        "plt.plot(train_losses, label='Training loss')\n",
        "plt.plot(test_losses, label='Validation loss')"
      ],
      "execution_count": null,
      "outputs": [
        {
          "output_type": "execute_result",
          "data": {
            "text/plain": [
              "[<matplotlib.lines.Line2D at 0x7a95f4933310>]"
            ]
          },
          "metadata": {},
          "execution_count": 20
        },
        {
          "output_type": "display_data",
          "data": {
            "text/plain": [
              "<Figure size 640x480 with 1 Axes>"
            ],
            "image/png": "[encoded data removed]"
          },
          "metadata": {}
        }
      ]
    },
    {
      "cell_type": "markdown",
      "metadata": {
        "id": "FdO8jGyU6L4c"
      },
      "source": [
        "# save and load model"
      ]
    },
    {
      "cell_type": "code",
      "metadata": {
        "id": "-zx-r_r74CCS"
      },
      "source": [
        "torch.save(model.state_dict(), 'checkpoint.pt')"
      ],
      "execution_count": null,
      "outputs": []
    },
    {
      "cell_type": "code",
      "metadata": {
        "colab": {
          "base_uri": "https://localhost:8080/"
        },
        "id": "wggHGhdW6KFR",
        "outputId": "9854c1db-9f31-4f87-9167-2c015d2c21a2"
      },
      "source": [
        "state_dict = torch.load('checkpoint.pt')\n",
        "model.load_state_dict(state_dict)"
      ],
      "execution_count": null,
      "outputs": [
        {
          "output_type": "stream",
          "name": "stderr",
          "text": [
            "<ipython-input-22-eb1f86a8ed74>:1: FutureWarning: You are using `torch.load` with `weights_only=False` (the current default value), which uses the default pickle module implicitly. It is possible to construct malicious pickle data which will execute arbitrary code during unpickling (See https://github.com/pytorch/pytorch/blob/main/SECURITY.md#untrusted-models for more details). In a future release, the default value for `weights_only` will be flipped to `True`. This limits the functions that could be executed during unpickling. Arbitrary objects will no longer be allowed to be loaded via this mode unless they are explicitly allowlisted by the user via `torch.serialization.add_safe_globals`. We recommend you start setting `weights_only=True` for any use case where you don't have full control of the loaded file. Please open an issue on GitHub for any issues related to this experimental feature.\n",
            "  state_dict = torch.load('checkpoint.pt')\n"
          ]
        },
        {
          "output_type": "execute_result",
          "data": {
            "text/plain": [
              "<All keys matched successfully>"
            ]
          },
          "metadata": {},
          "execution_count": 22
        }
      ]
    },
    {
      "cell_type": "markdown",
      "metadata": {
        "id": "HBHg6E3V6hwL"
      },
      "source": [
        "# Inference"
      ]
    },
    {
      "cell_type": "code",
      "metadata": {
        "id": "asWLriy_6kaa"
      },
      "source": [
        "# set the model in inference mode to not use some layers such as dropout\n",
        "model.eval()\n",
        "\n",
        "dataiter = iter(testloader)\n",
        "images, labels = next(dataiter)\n",
        "img = images[0]\n",
        "img = img.view(1, 784).to(device)\n",
        "\n",
        "# compute class probabilities (softmax) for img\n",
        "with torch.no_grad():\n",
        "    output = model.forward(img)\n",
        "\n",
        "ps = torch.exp(output)"
      ],
      "execution_count": null,
      "outputs": []
    },
    {
      "cell_type": "code",
      "source": [
        "print(labels[0])\n",
        "plt.imshow(images[0][0])"
      ],
      "metadata": {
        "id": "FndJfKGTYaQ2",
        "outputId": "718c113d-e3f1-430c-8c98-0fb39ebaa3d8",
        "colab": {
          "base_uri": "https://localhost:8080/",
          "height": 466
        }
      },
      "execution_count": null,
      "outputs": [
        {
          "output_type": "stream",
          "name": "stdout",
          "text": [
            "tensor(2)\n"
          ]
        },
        {
          "output_type": "execute_result",
          "data": {
            "text/plain": [
              "<matplotlib.image.AxesImage at 0x7a95f48783d0>"
            ]
          },
          "metadata": {},
          "execution_count": 25
        },
        {
          "output_type": "display_data",
          "data": {
            "text/plain": [
              "<Figure size 640x480 with 1 Axes>"
            ],
            "image/png": "[encoded data removed]"
          },
          "metadata": {}
        }
      ]
    },
    {
      "cell_type": "code",
      "metadata": {
        "colab": {
          "base_uri": "https://localhost:8080/"
        },
        "id": "oMvarkBc7nDA",
        "outputId": "28a4f974-f276-4150-a90c-35f1f3c8306e"
      },
      "source": [
        "torch.argmax(ps)"
      ],
      "execution_count": null,
      "outputs": [
        {
          "output_type": "execute_result",
          "data": {
            "text/plain": [
              "tensor(2, device='cuda:0')"
            ]
          },
          "metadata": {},
          "execution_count": 26
        }
      ]
    },
    {
      "cell_type": "code",
      "metadata": {
        "colab": {
          "base_uri": "https://localhost:8080/"
        },
        "id": "TR04VMLZ7noi",
        "outputId": "9bde5fe4-6f9c-454d-befa-d48eefaf2cd8"
      },
      "source": [
        "ps.topk(1, dim=1)"
      ],
      "execution_count": null,
      "outputs": [
        {
          "output_type": "execute_result",
          "data": {
            "text/plain": [
              "torch.return_types.topk(\n",
              "values=tensor([[0.7296]], device='cuda:0'),\n",
              "indices=tensor([[2]], device='cuda:0'))"
            ]
          },
          "metadata": {},
          "execution_count": 27
        }
      ]
    },
    {
      "cell_type": "markdown",
      "metadata": {
        "id": "rbXbs4d28req"
      },
      "source": [
        "# CNN\n",
        "https://pytorch.org/tutorials/beginner/blitz/neural_networks_tutorial.html#sphx-glr-beginner-blitz-neural-networks-tutorial-py"
      ]
    },
    {
      "cell_type": "code",
      "metadata": {
        "colab": {
          "base_uri": "https://localhost:8080/"
        },
        "id": "UJSWbOnh8sT6",
        "outputId": "11c3d40d-88ca-4d71-fb1c-88cb63a290d7"
      },
      "source": [
        "import torch\n",
        "import torch.nn as nn\n",
        "import torch.nn.functional as F\n",
        "\n",
        "\n",
        "class Net(nn.Module):\n",
        "\n",
        "    def __init__(self):\n",
        "        super(Net, self).__init__()\n",
        "        # 1 input image channel, 6 output channels, 5x5 square convolution\n",
        "        # kernel\n",
        "        self.conv1 = nn.Conv2d(1, 6, 5)\n",
        "        self.conv2 = nn.Conv2d(6, 16, 5)\n",
        "        # an affine operation: y = Wx + b\n",
        "        self.fc1 = nn.Linear(16 * 5 * 5, 120)  # 5*5 from image dimension\n",
        "        self.fc2 = nn.Linear(120, 84)\n",
        "        self.fc3 = nn.Linear(84, 10)\n",
        "\n",
        "    def forward(self, x):\n",
        "        # Max pooling over a (2, 2) window\n",
        "        x = F.max_pool2d(F.relu(self.conv1(x)), (2, 2))\n",
        "        # If the size is a square, you can specify with a single number\n",
        "        x = F.max_pool2d(F.relu(self.conv2(x)), 2)\n",
        "        x = torch.flatten(x, 1) # flatten all dimensions except the batch dimension\n",
        "        x = F.relu(self.fc1(x))\n",
        "        x = F.relu(self.fc2(x))\n",
        "        x = self.fc3(x)\n",
        "        return x\n",
        "\n",
        "\n",
        "net = Net()\n",
        "print(net)"
      ],
      "execution_count": null,
      "outputs": [
        {
          "output_type": "stream",
          "name": "stdout",
          "text": [
            "Net(\n",
            "  (conv1): Conv2d(1, 6, kernel_size=(5, 5), stride=(1, 1))\n",
            "  (conv2): Conv2d(6, 16, kernel_size=(5, 5), stride=(1, 1))\n",
            "  (fc1): Linear(in_features=400, out_features=120, bias=True)\n",
            "  (fc2): Linear(in_features=120, out_features=84, bias=True)\n",
            "  (fc3): Linear(in_features=84, out_features=10, bias=True)\n",
            ")\n"
          ]
        }
      ]
    },
    {
      "cell_type": "code",
      "metadata": {
        "id": "hc5a7Dn_83EI"
      },
      "source": [],
      "execution_count": null,
      "outputs": []
    }
  ]
}