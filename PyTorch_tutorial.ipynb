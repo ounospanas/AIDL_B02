{
  "nbformat": 4,
  "nbformat_minor": 0,
  "metadata": {
    "colab": {
      "name": "PyTorch_tutorial.ipynb",
      "provenance": [],
      "authorship_tag": "ABX9TyMyfHAeJTGjUMwhsiZ4NnsV",
      "include_colab_link": true
    },
    "kernelspec": {
      "name": "python3",
      "display_name": "Python 3"
    },
    "language_info": {
      "name": "python"
    }
  },
  "cells": [
    {
      "cell_type": "markdown",
      "metadata": {
        "id": "view-in-github",
        "colab_type": "text"
      },
      "source": [
        "<a href=\"https://colab.research.google.com/github/ounospanas/AIDL_B02/blob/main/PyTorch_tutorial.ipynb\" target=\"_parent\"><img src=\"https://colab.research.google.com/assets/colab-badge.svg\" alt=\"Open In Colab\"/></a>"
      ]
    },
    {
      "cell_type": "markdown",
      "metadata": {
        "id": "TC8bXq5wqjDK"
      },
      "source": [
        "PyTorch is similar to numpy and is more imperative (you do not define graph statically before a model can run) and dynamic: you can define, change and execute nodes as you go, no special session interfaces or placeholders."
      ]
    },
    {
      "cell_type": "code",
      "metadata": {
        "id": "6nUv8o7tqZ3Z"
      },
      "source": [
        "import torch"
      ],
      "execution_count": 20,
      "outputs": []
    },
    {
      "cell_type": "markdown",
      "metadata": {
        "id": "oG8w6SRYsVH2"
      },
      "source": [
        "# Custom layer"
      ]
    },
    {
      "cell_type": "code",
      "metadata": {
        "id": "rkLIf4YcqgX1"
      },
      "source": [
        "# sigmoid activation function\n",
        "def activation(x):\n",
        "    return 1/(1+torch.exp(-x))"
      ],
      "execution_count": 21,
      "outputs": []
    },
    {
      "cell_type": "code",
      "metadata": {
        "id": "tUDmvuxpreCC"
      },
      "source": [
        "# define x_train\n",
        "x_features = torch.randn((1, 10))\n",
        "# random weights with same shape as features\n",
        "weights = torch.randn_like(x_features)\n",
        "# bias term\n",
        "bias = torch.randn((1, 1))"
      ],
      "execution_count": 22,
      "outputs": []
    },
    {
      "cell_type": "code",
      "metadata": {
        "id": "GBDyjYfDr-7j"
      },
      "source": [
        "# linear layer\n",
        "# .view is similar to reshape\n",
        "a = activation(torch.mm(x_features, weights.view(10,1)) + bias)"
      ],
      "execution_count": 23,
      "outputs": []
    },
    {
      "cell_type": "markdown",
      "metadata": {
        "id": "4-M__Er-sqQ7"
      },
      "source": [
        "# Dense Network"
      ]
    },
    {
      "cell_type": "code",
      "metadata": {
        "id": "xbQEAR0pspfn"
      },
      "source": [
        "from torchvision import datasets, transforms\n",
        "\n",
        "# normalize the data\n",
        "transform = transforms.Compose([transforms.ToTensor(),\n",
        "                              transforms.Normalize((0.5,), (0.5,)), #(mean),(std) to execute (x-mean)/std\n",
        "                              ])\n",
        "# download and load the train FMNIST dataset\n",
        "trainset = datasets.FashionMNIST('~/.pytorch/MNIST_data/', download=True, train=True, transform=transform)\n",
        "trainloader = torch.utils.data.DataLoader(trainset, batch_size=64, shuffle=True)\n",
        "\n",
        "# download and load the test FMNIST data\n",
        "testset = datasets.FashionMNIST('~/.pytorch/F_MNIST_data/', download=True, train=False, transform=transform)\n",
        "testloader = torch.utils.data.DataLoader(testset, batch_size=64, shuffle=True)"
      ],
      "execution_count": 24,
      "outputs": []
    },
    {
      "cell_type": "code",
      "metadata": {
        "id": "ga120hUwsJ4Y"
      },
      "source": [
        "from torch import nn\n",
        "import torch.nn.functional as F"
      ],
      "execution_count": 25,
      "outputs": []
    },
    {
      "cell_type": "code",
      "metadata": {
        "id": "UmcVE61UukPb"
      },
      "source": [
        "class DenseNetwork(nn.Module):\n",
        "    def __init__(self):\n",
        "        super().__init__() # mandatory to inherit the same nn.Module  architecture and provide useful methods and attributes\n",
        "\n",
        "        # layers\n",
        "        self.fc1 = nn.Linear(784, 256)\n",
        "        self.fc2 = nn.Linear(256, 64)\n",
        "        self.fc3 = nn.Linear(64, 10)\n",
        "\n",
        "    def forward(self, x):\n",
        "        # pass the outputs of the previous layers to the next\n",
        "        # here the sequence of the operations is defined NOT in __init__\n",
        "        x = self.fc1(x)\n",
        "        x = F.relu(x)\n",
        "        x = self.fc2(x)\n",
        "        x = F.relu(x)\n",
        "        x = self.fc3(x)\n",
        "        x = F.log_softmax(x, dim=1)\n",
        "\n",
        "        return x"
      ],
      "execution_count": 27,
      "outputs": []
    },
    {
      "cell_type": "code",
      "metadata": {
        "colab": {
          "base_uri": "https://localhost:8080/"
        },
        "id": "90ZmdaXYu9fu",
        "outputId": "1495cc13-58ca-4ff6-c7fc-287e814e86b1"
      },
      "source": [
        "# init network\n",
        "model = DenseNetwork()\n",
        "model"
      ],
      "execution_count": 28,
      "outputs": [
        {
          "output_type": "execute_result",
          "data": {
            "text/plain": [
              "DenseNetwork(\n",
              "  (fc1): Linear(in_features=784, out_features=256, bias=True)\n",
              "  (fc2): Linear(in_features=256, out_features=64, bias=True)\n",
              "  (fc3): Linear(in_features=64, out_features=10, bias=True)\n",
              ")"
            ]
          },
          "metadata": {},
          "execution_count": 28
        }
      ]
    },
    {
      "cell_type": "code",
      "metadata": {
        "colab": {
          "base_uri": "https://localhost:8080/"
        },
        "id": "fWP5IqHhwovB",
        "outputId": "90abdddd-499d-41d8-a718-94a932ee5dda"
      },
      "source": [
        "# get layer\n",
        "model.fc1"
      ],
      "execution_count": 29,
      "outputs": [
        {
          "output_type": "execute_result",
          "data": {
            "text/plain": [
              "Linear(in_features=784, out_features=256, bias=True)"
            ]
          },
          "metadata": {},
          "execution_count": 29
        }
      ]
    },
    {
      "cell_type": "code",
      "metadata": {
        "colab": {
          "base_uri": "https://localhost:8080/"
        },
        "id": "MSgSeybcyGKW",
        "outputId": "6ae25a68-66cd-44e4-971d-4e190f174c57"
      },
      "source": [
        "# get layer params\n",
        "print(model.fc1.weight)\n",
        "print(model.fc1.bias)"
      ],
      "execution_count": 30,
      "outputs": [
        {
          "output_type": "stream",
          "name": "stdout",
          "text": [
            "Parameter containing:\n",
            "tensor([[ 0.0226,  0.0232,  0.0343,  ...,  0.0128,  0.0195,  0.0104],\n",
            "        [-0.0345, -0.0198,  0.0215,  ...,  0.0032, -0.0128, -0.0224],\n",
            "        [ 0.0083,  0.0282,  0.0059,  ...,  0.0016,  0.0292,  0.0037],\n",
            "        ...,\n",
            "        [-0.0156, -0.0106,  0.0255,  ...,  0.0079, -0.0301,  0.0255],\n",
            "        [ 0.0093, -0.0023, -0.0356,  ..., -0.0056, -0.0003,  0.0344],\n",
            "        [ 0.0030,  0.0174, -0.0145,  ..., -0.0086,  0.0296,  0.0106]],\n",
            "       requires_grad=True)\n",
            "Parameter containing:\n",
            "tensor([-3.1809e-04, -7.9031e-03,  1.5535e-02, -2.8792e-02,  1.8996e-02,\n",
            "         2.8213e-02, -2.0748e-02, -2.9116e-02, -9.6460e-03, -3.4888e-02,\n",
            "         2.4986e-02,  2.0182e-02, -2.3285e-02,  8.9166e-03,  3.3204e-02,\n",
            "        -1.8650e-02, -2.8709e-02,  2.0516e-02,  2.5090e-02,  1.1833e-02,\n",
            "        -1.4344e-02,  9.0859e-03, -2.5162e-02,  2.2634e-02, -3.3926e-02,\n",
            "         2.5404e-02,  1.7217e-02,  6.4440e-03,  8.9191e-03, -1.9167e-02,\n",
            "        -1.2990e-02,  3.1534e-02,  7.7004e-03,  7.2955e-03,  3.7431e-03,\n",
            "         2.2076e-03, -1.1264e-02, -1.7322e-02,  9.4356e-03, -2.5600e-02,\n",
            "        -1.3556e-02, -8.5158e-05, -3.1864e-02, -2.8656e-02, -3.1951e-02,\n",
            "         8.8400e-03,  3.2997e-02,  3.9354e-03,  1.3224e-02,  1.4258e-02,\n",
            "        -2.5764e-02,  6.1520e-03, -2.3544e-02,  1.3947e-02, -2.8821e-02,\n",
            "        -1.4219e-02,  1.2274e-02,  5.3900e-03,  3.0361e-02,  8.5893e-03,\n",
            "         1.7204e-02, -1.5991e-02,  4.0708e-03,  1.2036e-02, -5.8565e-04,\n",
            "        -1.6810e-02,  1.2402e-02,  3.0271e-02, -7.7925e-05, -1.5165e-02,\n",
            "         6.5081e-03, -2.8800e-02, -2.4532e-02, -2.3621e-02,  2.9742e-02,\n",
            "        -1.5793e-02, -3.2450e-02,  2.6639e-02, -1.1380e-02,  1.0891e-02,\n",
            "        -2.6167e-02, -2.0972e-03,  3.4232e-02, -1.4625e-02, -2.6102e-02,\n",
            "        -3.0421e-02,  1.5483e-02, -3.0467e-02, -1.8883e-03,  9.9721e-03,\n",
            "        -6.5749e-03,  2.3049e-03, -3.1019e-02, -5.5402e-03,  2.6061e-03,\n",
            "        -5.0995e-03,  2.8866e-02, -3.5594e-02, -3.4178e-02,  6.4915e-03,\n",
            "        -1.3312e-02, -9.9673e-03,  1.5850e-02, -2.8560e-02,  3.7251e-03,\n",
            "         3.4817e-02,  3.3881e-03,  2.0694e-02,  8.3837e-03,  1.0978e-02,\n",
            "         2.3307e-02,  1.0409e-02,  7.9471e-03, -2.9956e-03, -8.6693e-03,\n",
            "        -1.9718e-02, -2.0245e-02,  2.4379e-02,  2.2374e-02, -9.1274e-04,\n",
            "         2.9247e-02, -9.0100e-03,  1.5234e-02, -2.6221e-02,  4.9667e-03,\n",
            "        -1.4584e-02,  2.9629e-02,  2.0543e-02, -3.4202e-02,  1.3508e-02,\n",
            "        -2.9125e-02,  9.3582e-03,  2.9064e-02,  7.3816e-03,  1.2527e-02,\n",
            "         3.2735e-02, -7.8521e-03, -2.0798e-02, -1.1165e-02,  3.4978e-02,\n",
            "        -6.2380e-03,  9.4963e-04, -7.5091e-03, -2.8894e-02,  9.1443e-03,\n",
            "         9.2242e-03,  2.8186e-02, -1.2160e-03, -1.6076e-02,  4.1166e-03,\n",
            "        -2.1634e-02, -5.0355e-03,  1.9576e-02,  2.8731e-02, -8.9103e-03,\n",
            "        -1.8202e-02, -9.9684e-03, -3.1927e-02, -3.5596e-02,  4.5771e-03,\n",
            "        -3.3873e-02, -1.9026e-02, -2.0202e-02,  3.1497e-02,  2.7307e-02,\n",
            "         5.0067e-03,  2.0861e-03,  1.1090e-02, -2.6801e-03,  2.4073e-03,\n",
            "        -1.2588e-03,  1.7450e-02, -2.8554e-02, -5.0420e-03, -3.2733e-02,\n",
            "        -2.9490e-02,  1.4307e-02, -1.6181e-02,  3.2972e-02,  1.0447e-02,\n",
            "         1.5403e-02,  1.9064e-02, -1.8518e-02,  2.6104e-02, -1.3168e-02,\n",
            "        -9.5277e-03, -2.1897e-02, -9.8874e-03,  3.1844e-02,  2.9435e-02,\n",
            "         1.5535e-02, -3.4333e-02, -3.2844e-02, -3.1465e-02, -1.5686e-02,\n",
            "        -1.1275e-02, -1.7265e-02, -7.9222e-04, -1.0055e-02,  1.7737e-02,\n",
            "         1.0778e-02, -5.3849e-03,  2.2263e-02, -2.2606e-03, -2.9791e-02,\n",
            "         2.7995e-03,  1.1436e-02, -2.3182e-02, -3.4577e-02,  1.4450e-02,\n",
            "        -1.3939e-02, -1.3014e-02, -3.3505e-03,  1.8953e-02, -3.5063e-02,\n",
            "        -1.5592e-02, -1.9913e-02,  2.2701e-02,  4.1091e-03, -2.5443e-02,\n",
            "         1.5492e-02,  3.2371e-02,  1.5459e-02,  1.9921e-02,  1.6246e-02,\n",
            "        -2.2270e-02, -3.0013e-02,  6.3156e-03,  3.1843e-02,  2.3849e-02,\n",
            "        -3.1145e-02, -2.6910e-02,  1.6265e-02, -2.1811e-03,  2.5052e-02,\n",
            "        -2.2080e-02,  1.6979e-02, -1.9240e-02, -1.4717e-02,  1.9057e-02,\n",
            "        -2.3231e-02, -2.7346e-02, -2.2704e-02,  2.6894e-02,  1.4439e-02,\n",
            "        -3.2434e-02,  2.3541e-02,  2.4735e-02,  2.3334e-02,  1.4942e-02,\n",
            "        -2.0760e-02,  6.9262e-03, -3.1344e-02, -2.2857e-03, -2.7738e-02,\n",
            "         9.8274e-03], requires_grad=True)\n"
          ]
        }
      ]
    },
    {
      "cell_type": "code",
      "metadata": {
        "colab": {
          "base_uri": "https://localhost:8080/"
        },
        "id": "-w79m-V7yRMp",
        "outputId": "0d32213e-e50e-47fa-c39b-a28e15cd7f26"
      },
      "source": [
        "# Sequential network example\n",
        "model = nn.Sequential(nn.Linear(784, 256),\n",
        "                      nn.ReLU(),\n",
        "                      nn.Linear(256, 64),\n",
        "                      nn.ReLU(),\n",
        "                      nn.Linear(64, 10),\n",
        "                      nn.LogSoftmax(dim=1))\n",
        "print(model)"
      ],
      "execution_count": 31,
      "outputs": [
        {
          "output_type": "stream",
          "name": "stdout",
          "text": [
            "Sequential(\n",
            "  (0): Linear(in_features=784, out_features=256, bias=True)\n",
            "  (1): ReLU()\n",
            "  (2): Linear(in_features=256, out_features=64, bias=True)\n",
            "  (3): ReLU()\n",
            "  (4): Linear(in_features=64, out_features=10, bias=True)\n",
            "  (5): LogSoftmax(dim=1)\n",
            ")\n"
          ]
        }
      ]
    },
    {
      "cell_type": "code",
      "metadata": {
        "colab": {
          "base_uri": "https://localhost:8080/"
        },
        "id": "V5yV_AfVy23b",
        "outputId": "f4d15b51-ad24-41f3-aabf-17bfcde0e414"
      },
      "source": [
        "# loss function\n",
        "criterion = nn.NLLLoss()\n",
        "\n",
        "# iter data\n",
        "images, labels = next(iter(trainloader))\n",
        "images = images.view(images.shape[0], -1)\n",
        "print(images.shape)\n",
        "\n",
        "# one forward pass\n",
        "logits = model(images)\n",
        "print(logits[0])\n",
        "# loss\n",
        "loss = criterion(logits, labels)\n",
        "print(loss)\n",
        "\n",
        "loss.backward()\n",
        "print(model[0].weight.grad)"
      ],
      "execution_count": 39,
      "outputs": [
        {
          "output_type": "stream",
          "name": "stdout",
          "text": [
            "torch.Size([64, 784])\n",
            "tensor([-2.2392, -2.1687, -2.3918, -2.4865, -2.3104, -2.3344, -2.3641, -2.2665,\n",
            "        -2.1022, -2.4249], grad_fn=<SelectBackward0>)\n",
            "tensor(2.3292, grad_fn=<NllLossBackward0>)\n",
            "tensor([[ 0.0034,  0.0034,  0.0034,  ...,  0.0037,  0.0034,  0.0034],\n",
            "        [-0.0063, -0.0063, -0.0063,  ..., -0.0060, -0.0063, -0.0063],\n",
            "        [ 0.0077,  0.0077,  0.0077,  ...,  0.0078,  0.0077,  0.0077],\n",
            "        ...,\n",
            "        [ 0.0034,  0.0034,  0.0034,  ...,  0.0032,  0.0031,  0.0034],\n",
            "        [-0.0077, -0.0077, -0.0077,  ..., -0.0062, -0.0072, -0.0077],\n",
            "        [ 0.0008,  0.0008,  0.0008,  ...,  0.0003,  0.0006,  0.0008]])\n"
          ]
        }
      ]
    },
    {
      "cell_type": "code",
      "metadata": {
        "id": "6e6RcJfWzjkb"
      },
      "source": [
        "from torch import optim\n",
        "\n",
        "# optimizer MUST have the parameters as input and the lr\n",
        "optimizer = optim.SGD(model.parameters(), lr=0.001)"
      ],
      "execution_count": null,
      "outputs": []
    },
    {
      "cell_type": "code",
      "metadata": {
        "colab": {
          "base_uri": "https://localhost:8080/"
        },
        "id": "-VGWQ3r12D3A",
        "outputId": "0c777761-26af-4e76-b6b3-a64dd5b4ea44"
      },
      "source": [
        "model = nn.Sequential(nn.Linear(784, 256),\n",
        "                      nn.ReLU(),\n",
        "                      nn.Linear(256, 64),\n",
        "                      nn.ReLU(),\n",
        "                      nn.Linear(64, 10),\n",
        "                      nn.LogSoftmax(dim=1))\n",
        "\n",
        "criterion = nn.NLLLoss()\n",
        "optimizer = optim.SGD(model.parameters(), lr=0.003)\n",
        "\n",
        "epochs = 10\n",
        "for e in range(epochs):\n",
        "    running_loss = 0\n",
        "    for images, labels in trainloader:\n",
        "        # flatten images\n",
        "        images = images.view(images.shape[0], -1)\n",
        "\n",
        "        # training pass\n",
        "        # backwards passes with the same parameters, the gradients are accumulated!!! So zero them\n",
        "        optimizer.zero_grad()\n",
        "\n",
        "        output = model(images)\n",
        "        loss = criterion(output, labels)\n",
        "        loss.backward()\n",
        "        optimizer.step()\n",
        "\n",
        "        running_loss += loss.item()\n",
        "    else:\n",
        "        print(\"Training loss {}\".format(running_loss/len(trainloader)))"
      ],
      "execution_count": null,
      "outputs": [
        {
          "output_type": "stream",
          "name": "stdout",
          "text": [
            "Training loss 1.650742727174942\n",
            "Training loss 0.8484923669905551\n",
            "Training loss 0.67926261235656\n",
            "Training loss 0.6098924789156741\n",
            "Training loss 0.5662092517243266\n",
            "Training loss 0.5344411495652026\n",
            "Training loss 0.5097485205003702\n",
            "Training loss 0.4913943463455894\n",
            "Training loss 0.4766071529181273\n",
            "Training loss 0.4637609955662095\n"
          ]
        }
      ]
    },
    {
      "cell_type": "code",
      "metadata": {
        "colab": {
          "base_uri": "https://localhost:8080/"
        },
        "id": "PRiIkW7n2TVP",
        "outputId": "d18dcd52-dde7-4be5-c9c8-536996085981"
      },
      "source": [
        "model = nn.Sequential(nn.Linear(784, 256),\n",
        "                      nn.ReLU(),\n",
        "                      nn.Linear(256, 64),\n",
        "                      nn.ReLU(),\n",
        "                      nn.Linear(64, 10),\n",
        "                      nn.LogSoftmax(dim=1))\n",
        "\n",
        "criterion = nn.NLLLoss()\n",
        "optimizer = optim.SGD(model.parameters(), lr=0.003)\n",
        "\n",
        "epochs = 30\n",
        "\n",
        "train_losses, test_losses = [], []\n",
        "for e in range(epochs):\n",
        "    tot_train_loss = 0\n",
        "    for images, labels in trainloader:\n",
        "\n",
        "        # flatten images\n",
        "        images = images.view(images.shape[0], -1)\n",
        "\n",
        "        # training pass\n",
        "        # backwards passes with the same parameters, the gradients are accumulated!!! So zero them\n",
        "        optimizer.zero_grad()\n",
        "\n",
        "        log_ps = model(images)\n",
        "        loss = criterion(log_ps, labels)\n",
        "        tot_train_loss += loss.item()\n",
        "\n",
        "        loss.backward()\n",
        "        optimizer.step()\n",
        "    else:\n",
        "        tot_test_loss = 0\n",
        "        test_correct = 0  # Number of correct predictions on the test set\n",
        "\n",
        "        # Turn off gradients for validation, saves memory and computations\n",
        "        with torch.no_grad():\n",
        "            for images, labels in testloader:\n",
        "                # flatten images\n",
        "                images = images.view(images.shape[0], -1)\n",
        "\n",
        "                log_ps = model(images)\n",
        "                loss = criterion(log_ps, labels)\n",
        "                tot_test_loss += loss.item()\n",
        "\n",
        "                ps = torch.exp(log_ps)\n",
        "                top_p, top_class = ps.topk(1, dim=1)\n",
        "                equals = top_class == labels.view(*top_class.shape)\n",
        "                test_correct += equals.sum().item()\n",
        "\n",
        "        # Get mean loss to enable comparison between train and test sets\n",
        "        train_loss = tot_train_loss / len(trainloader.dataset)\n",
        "        test_loss = tot_test_loss / len(testloader.dataset)\n",
        "\n",
        "        # At completion of epoch\n",
        "        train_losses.append(train_loss)\n",
        "        test_losses.append(test_loss)\n",
        "\n",
        "        print(\"Epoch: {}/{}.. \".format(e+1, epochs),\n",
        "              \"Training Loss: {:.3f}.. \".format(train_loss),\n",
        "              \"Test Loss: {:.3f}.. \".format(test_loss),\n",
        "              \"Test Accuracy: {:.3f}\".format(test_correct / len(testloader.dataset)))"
      ],
      "execution_count": null,
      "outputs": [
        {
          "output_type": "stream",
          "name": "stdout",
          "text": [
            "Epoch: 1/30..  Training Loss: 0.027..  Test Loss: 0.017..  Test Accuracy: 0.706\n",
            "Epoch: 2/30..  Training Loss: 0.013..  Test Loss: 0.011..  Test Accuracy: 0.746\n",
            "Epoch: 3/30..  Training Loss: 0.010..  Test Loss: 0.010..  Test Accuracy: 0.771\n",
            "Epoch: 4/30..  Training Loss: 0.009..  Test Loss: 0.009..  Test Accuracy: 0.784\n",
            "Epoch: 5/30..  Training Loss: 0.009..  Test Loss: 0.009..  Test Accuracy: 0.792\n",
            "Epoch: 6/30..  Training Loss: 0.008..  Test Loss: 0.009..  Test Accuracy: 0.805\n",
            "Epoch: 7/30..  Training Loss: 0.008..  Test Loss: 0.008..  Test Accuracy: 0.811\n",
            "Epoch: 8/30..  Training Loss: 0.008..  Test Loss: 0.008..  Test Accuracy: 0.815\n",
            "Epoch: 9/30..  Training Loss: 0.007..  Test Loss: 0.008..  Test Accuracy: 0.820\n",
            "Epoch: 10/30..  Training Loss: 0.007..  Test Loss: 0.008..  Test Accuracy: 0.823\n",
            "Epoch: 11/30..  Training Loss: 0.007..  Test Loss: 0.008..  Test Accuracy: 0.828\n",
            "Epoch: 12/30..  Training Loss: 0.007..  Test Loss: 0.008..  Test Accuracy: 0.824\n",
            "Epoch: 13/30..  Training Loss: 0.007..  Test Loss: 0.007..  Test Accuracy: 0.827\n",
            "Epoch: 14/30..  Training Loss: 0.007..  Test Loss: 0.007..  Test Accuracy: 0.833\n",
            "Epoch: 15/30..  Training Loss: 0.007..  Test Loss: 0.007..  Test Accuracy: 0.836\n",
            "Epoch: 16/30..  Training Loss: 0.007..  Test Loss: 0.007..  Test Accuracy: 0.838\n",
            "Epoch: 17/30..  Training Loss: 0.006..  Test Loss: 0.007..  Test Accuracy: 0.841\n",
            "Epoch: 18/30..  Training Loss: 0.006..  Test Loss: 0.007..  Test Accuracy: 0.843\n",
            "Epoch: 19/30..  Training Loss: 0.006..  Test Loss: 0.007..  Test Accuracy: 0.841\n",
            "Epoch: 20/30..  Training Loss: 0.006..  Test Loss: 0.007..  Test Accuracy: 0.844\n",
            "Epoch: 21/30..  Training Loss: 0.006..  Test Loss: 0.007..  Test Accuracy: 0.845\n",
            "Epoch: 22/30..  Training Loss: 0.006..  Test Loss: 0.007..  Test Accuracy: 0.848\n",
            "Epoch: 23/30..  Training Loss: 0.006..  Test Loss: 0.007..  Test Accuracy: 0.848\n",
            "Epoch: 24/30..  Training Loss: 0.006..  Test Loss: 0.007..  Test Accuracy: 0.851\n",
            "Epoch: 25/30..  Training Loss: 0.006..  Test Loss: 0.007..  Test Accuracy: 0.849\n",
            "Epoch: 26/30..  Training Loss: 0.006..  Test Loss: 0.006..  Test Accuracy: 0.852\n",
            "Epoch: 27/30..  Training Loss: 0.006..  Test Loss: 0.006..  Test Accuracy: 0.855\n",
            "Epoch: 28/30..  Training Loss: 0.006..  Test Loss: 0.006..  Test Accuracy: 0.852\n",
            "Epoch: 29/30..  Training Loss: 0.006..  Test Loss: 0.006..  Test Accuracy: 0.858\n",
            "Epoch: 30/30..  Training Loss: 0.006..  Test Loss: 0.006..  Test Accuracy: 0.856\n"
          ]
        }
      ]
    },
    {
      "cell_type": "code",
      "metadata": {
        "colab": {
          "base_uri": "https://localhost:8080/",
          "height": 447
        },
        "id": "H6dkqEL93suL",
        "outputId": "5c5830f7-1f37-4ed3-d8d5-a6c29f249c25"
      },
      "source": [
        "%matplotlib inline\n",
        "import matplotlib.pyplot as plt\n",
        "\n",
        "plt.plot(train_losses, label='Training loss')\n",
        "plt.plot(test_losses, label='Validation loss')"
      ],
      "execution_count": null,
      "outputs": [
        {
          "output_type": "execute_result",
          "data": {
            "text/plain": [
              "[<matplotlib.lines.Line2D at 0x781542226bf0>]"
            ]
          },
          "metadata": {},
          "execution_count": 17
        },
        {
          "output_type": "display_data",
          "data": {
            "text/plain": [
              "<Figure size 640x480 with 1 Axes>"
            ],
            "image/png": "[encoded data removed]"
          },
          "metadata": {}
        }
      ]
    },
    {
      "cell_type": "markdown",
      "metadata": {
        "id": "FdO8jGyU6L4c"
      },
      "source": [
        "# save and load model"
      ]
    },
    {
      "cell_type": "code",
      "metadata": {
        "id": "-zx-r_r74CCS"
      },
      "source": [
        "torch.save(model.state_dict(), 'checkpoint.pt')"
      ],
      "execution_count": null,
      "outputs": []
    },
    {
      "cell_type": "code",
      "metadata": {
        "colab": {
          "base_uri": "https://localhost:8080/"
        },
        "id": "wggHGhdW6KFR",
        "outputId": "f710a1c3-3979-47f0-a671-d8b2be14fd4e"
      },
      "source": [
        "state_dict = torch.load('checkpoint.pt')\n",
        "model.load_state_dict(state_dict)"
      ],
      "execution_count": null,
      "outputs": [
        {
          "output_type": "execute_result",
          "data": {
            "text/plain": [
              "<All keys matched successfully>"
            ]
          },
          "metadata": {},
          "execution_count": 19
        }
      ]
    },
    {
      "cell_type": "markdown",
      "metadata": {
        "id": "HBHg6E3V6hwL"
      },
      "source": [
        "# Inference"
      ]
    },
    {
      "cell_type": "code",
      "metadata": {
        "id": "asWLriy_6kaa"
      },
      "source": [
        "# set the model in inference mode\n",
        "model.eval()\n",
        "\n",
        "dataiter = iter(testloader)\n",
        "images, labels = next(dataiter)\n",
        "img = images[0]\n",
        "img = img.view(1, 784)\n",
        "\n",
        "# compute class probabilities (softmax) for img\n",
        "with torch.no_grad():\n",
        "    output = model.forward(img)\n",
        "\n",
        "ps = torch.exp(output)"
      ],
      "execution_count": null,
      "outputs": []
    },
    {
      "cell_type": "code",
      "source": [
        "print(labels[0])\n",
        "plt.imshow(images[0][0])"
      ],
      "metadata": {
        "id": "FndJfKGTYaQ2",
        "outputId": "3bcc3179-a312-40a1-9a4f-3aec6a0cd334",
        "colab": {
          "base_uri": "https://localhost:8080/",
          "height": 465
        }
      },
      "execution_count": null,
      "outputs": [
        {
          "output_type": "stream",
          "name": "stdout",
          "text": [
            "tensor(2)\n"
          ]
        },
        {
          "output_type": "execute_result",
          "data": {
            "text/plain": [
              "<matplotlib.image.AxesImage at 0x781541789cf0>"
            ]
          },
          "metadata": {},
          "execution_count": 29
        },
        {
          "output_type": "display_data",
          "data": {
            "text/plain": [
              "<Figure size 640x480 with 1 Axes>"
            ],
            "image/png": "[encoded data removed]"
          },
          "metadata": {}
        }
      ]
    },
    {
      "cell_type": "code",
      "metadata": {
        "colab": {
          "base_uri": "https://localhost:8080/"
        },
        "id": "oMvarkBc7nDA",
        "outputId": "2fbd6105-e223-48ef-e113-4c86bb4a6963"
      },
      "source": [
        "torch.argmax(ps)"
      ],
      "execution_count": null,
      "outputs": [
        {
          "output_type": "execute_result",
          "data": {
            "text/plain": [
              "tensor(2)"
            ]
          },
          "metadata": {},
          "execution_count": 30
        }
      ]
    },
    {
      "cell_type": "code",
      "metadata": {
        "colab": {
          "base_uri": "https://localhost:8080/"
        },
        "id": "TR04VMLZ7noi",
        "outputId": "657b5843-436f-4a92-aeee-4e948f06d5b8"
      },
      "source": [
        "ps.topk(1, dim=1)"
      ],
      "execution_count": null,
      "outputs": [
        {
          "output_type": "execute_result",
          "data": {
            "text/plain": [
              "torch.return_types.topk(\n",
              "values=tensor([[0.5898]]),\n",
              "indices=tensor([[2]]))"
            ]
          },
          "metadata": {},
          "execution_count": 31
        }
      ]
    },
    {
      "cell_type": "markdown",
      "metadata": {
        "id": "rbXbs4d28req"
      },
      "source": [
        "# CNN\n",
        "https://pytorch.org/tutorials/beginner/blitz/neural_networks_tutorial.html#sphx-glr-beginner-blitz-neural-networks-tutorial-py"
      ]
    },
    {
      "cell_type": "code",
      "metadata": {
        "colab": {
          "base_uri": "https://localhost:8080/"
        },
        "id": "UJSWbOnh8sT6",
        "outputId": "0a92c7fb-041d-48ec-e3b8-5d52046ffabc"
      },
      "source": [
        "import torch\n",
        "import torch.nn as nn\n",
        "import torch.nn.functional as F\n",
        "\n",
        "\n",
        "class Net(nn.Module):\n",
        "\n",
        "    def __init__(self):\n",
        "        super(Net, self).__init__()\n",
        "        # 1 input image channel, 6 output channels, 5x5 square convolution\n",
        "        # kernel\n",
        "        self.conv1 = nn.Conv2d(1, 6, 5)\n",
        "        self.conv2 = nn.Conv2d(6, 16, 5)\n",
        "        # an affine operation: y = Wx + b\n",
        "        self.fc1 = nn.Linear(16 * 5 * 5, 120)  # 5*5 from image dimension\n",
        "        self.fc2 = nn.Linear(120, 84)\n",
        "        self.fc3 = nn.Linear(84, 10)\n",
        "\n",
        "    def forward(self, x):\n",
        "        # Max pooling over a (2, 2) window\n",
        "        x = F.max_pool2d(F.relu(self.conv1(x)), (2, 2))\n",
        "        # If the size is a square, you can specify with a single number\n",
        "        x = F.max_pool2d(F.relu(self.conv2(x)), 2)\n",
        "        x = torch.flatten(x, 1) # flatten all dimensions except the batch dimension\n",
        "        x = F.relu(self.fc1(x))\n",
        "        x = F.relu(self.fc2(x))\n",
        "        x = self.fc3(x)\n",
        "        return x\n",
        "\n",
        "\n",
        "net = Net()\n",
        "print(net)"
      ],
      "execution_count": null,
      "outputs": [
        {
          "output_type": "stream",
          "name": "stdout",
          "text": [
            "Net(\n",
            "  (conv1): Conv2d(1, 6, kernel_size=(5, 5), stride=(1, 1))\n",
            "  (conv2): Conv2d(6, 16, kernel_size=(5, 5), stride=(1, 1))\n",
            "  (fc1): Linear(in_features=400, out_features=120, bias=True)\n",
            "  (fc2): Linear(in_features=120, out_features=84, bias=True)\n",
            "  (fc3): Linear(in_features=84, out_features=10, bias=True)\n",
            ")\n"
          ]
        }
      ]
    },
    {
      "cell_type": "code",
      "metadata": {
        "id": "hc5a7Dn_83EI"
      },
      "source": [],
      "execution_count": null,
      "outputs": []
    }
  ]
}