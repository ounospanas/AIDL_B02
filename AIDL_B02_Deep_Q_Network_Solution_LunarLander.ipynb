{
  "nbformat": 4,
  "nbformat_minor": 0,
  "metadata": {
    "kernelspec": {
      "display_name": "Python 3",
      "language": "python",
      "name": "python3"
    },
    "language_info": {
      "codemirror_mode": {
        "name": "ipython",
        "version": 3
      },
      "file_extension": ".py",
      "mimetype": "text/x-python",
      "name": "python",
      "nbconvert_exporter": "python",
      "pygments_lexer": "ipython3",
      "version": "3.6.4"
    },
    "colab": {
      "name": "AIDL_B02_Deep_Q_Network_Solution_LunarLander.ipynb",
      "provenance": [],
      "include_colab_link": true
    },
    "accelerator": "GPU"
  },
  "cells": [
    {
      "cell_type": "markdown",
      "metadata": {
        "id": "view-in-github",
        "colab_type": "text"
      },
      "source": [
        "<a href=\"https://colab.research.google.com/github/ounospanas/AIDL_B02/blob/main/AIDL_B02_Deep_Q_Network_Solution_LunarLander.ipynb\" target=\"_parent\"><img src=\"https://colab.research.google.com/assets/colab-badge.svg\" alt=\"Open In Colab\"/></a>"
      ]
    },
    {
      "cell_type": "markdown",
      "metadata": {
        "id": "PxD_WbgoQZZd"
      },
      "source": [
        "# Deep Q-Network (DQN)\n",
        "---\n",
        "In this notebook, you will implement a DQN agent with OpenAI Gym's LunarLander-v2 environment.\n",
        "This is an edited version of the [original](://github.com/udacity/deep-reinforcement-learning/blob/master/dqn/solution/Deep_Q_Network_Solution.ipynb) .ipynb, enabling gym rendering in colab.\n",
        "\n",
        "### 1. Import the Necessary Packages"
      ]
    },
    {
      "cell_type": "code",
      "metadata": {
        "id": "RLsVmF-lQZZj",
        "colab": {
          "base_uri": "https://localhost:8080/"
        },
        "outputId": "550657e4-01f6-4677-d659-c5ce66c383ca"
      },
      "source": [
        "!sudo apt install swig\n",
        "!pip install box2d-py\n",
        "!pip install gym[Box_2D]==0.21.0\n",
        "!apt-get install -y xvfb python-opengl > /dev/null 2>&1\n",
        "!pip install gym pyvirtualdisplay > /dev/null 2>&1\n",
        "\n",
        "\n",
        "import gym\n",
        "import random\n",
        "import torch\n",
        "import numpy as np\n",
        "from collections import deque\n",
        "import matplotlib.pyplot as plt\n",
        "%matplotlib inline\n",
        "\n",
        "from IPython import display as ipythondisplay\n",
        "from pyvirtualdisplay import Display\n",
        "display = Display(visible=0, size=(400, 300))\n",
        "display.start()"
      ],
      "execution_count": 1,
      "outputs": [
        {
          "output_type": "stream",
          "name": "stdout",
          "text": [
            "Reading package lists... Done\n",
            "Building dependency tree       \n",
            "Reading state information... Done\n",
            "The following additional packages will be installed:\n",
            "  swig4.0\n",
            "Suggested packages:\n",
            "  swig-doc swig-examples swig4.0-examples swig4.0-doc\n",
            "The following NEW packages will be installed:\n",
            "  swig swig4.0\n",
            "0 upgraded, 2 newly installed, 0 to remove and 27 not upgraded.\n",
            "Need to get 1,086 kB of archives.\n",
            "After this operation, 5,413 kB of additional disk space will be used.\n",
            "Get:1 http://archive.ubuntu.com/ubuntu focal/universe amd64 swig4.0 amd64 4.0.1-5build1 [1,081 kB]\n",
            "Get:2 http://archive.ubuntu.com/ubuntu focal/universe amd64 swig all 4.0.1-5build1 [5,528 B]\n",
            "Fetched 1,086 kB in 2s (443 kB/s)\n",
            "debconf: unable to initialize frontend: Dialog\n",
            "debconf: (No usable dialog-like program is installed, so the dialog based frontend cannot be used. at /usr/share/perl5/Debconf/FrontEnd/Dialog.pm line 76, <> line 2.)\n",
            "debconf: falling back to frontend: Readline\n",
            "debconf: unable to initialize frontend: Readline\n",
            "debconf: (This frontend requires a controlling tty.)\n",
            "debconf: falling back to frontend: Teletype\n",
            "dpkg-preconfigure: unable to re-open stdin: \n",
            "Selecting previously unselected package swig4.0.\n",
            "(Reading database ... 129499 files and directories currently installed.)\n",
            "Preparing to unpack .../swig4.0_4.0.1-5build1_amd64.deb ...\n",
            "Unpacking swig4.0 (4.0.1-5build1) ...\n",
            "Selecting previously unselected package swig.\n",
            "Preparing to unpack .../swig_4.0.1-5build1_all.deb ...\n",
            "Unpacking swig (4.0.1-5build1) ...\n",
            "Setting up swig4.0 (4.0.1-5build1) ...\n",
            "Setting up swig (4.0.1-5build1) ...\n",
            "Processing triggers for man-db (2.9.1-1) ...\n",
            "Looking in indexes: https://pypi.org/simple, https://us-python.pkg.dev/colab-wheels/public/simple/\n",
            "Collecting box2d-py\n",
            "  Downloading box2d-py-2.3.8.tar.gz (374 kB)\n",
            "\u001b[2K     \u001b[90m━━━━━━━━━━━━━━━━━━━━━━━━━━━━━━━━━━━━━\u001b[0m \u001b[32m374.5/374.5 KB\u001b[0m \u001b[31m818.1 kB/s\u001b[0m eta \u001b[36m0:00:00\u001b[0m\n",
            "\u001b[?25h  Preparing metadata (setup.py) ... \u001b[?25l\u001b[?25hdone\n",
            "Building wheels for collected packages: box2d-py\n",
            "  Building wheel for box2d-py (setup.py) ... \u001b[?25l\u001b[?25hdone\n",
            "  Created wheel for box2d-py: filename=box2d_py-2.3.8-cp38-cp38-linux_x86_64.whl size=2803886 sha256=71c6c886b31921f4587f927a313ecd96bf3075ec6f42effa921e4995c4b4f79c\n",
            "  Stored in directory: /root/.cache/pip/wheels/cc/4f/d6/44eb0a9e6fea384e58f19cb0c4125e46a23af2b33fe3a7e81c\n",
            "Successfully built box2d-py\n",
            "Installing collected packages: box2d-py\n",
            "Successfully installed box2d-py-2.3.8\n",
            "Looking in indexes: https://pypi.org/simple, https://us-python.pkg.dev/colab-wheels/public/simple/\n",
            "Collecting gym[Box_2D]==0.21.0\n",
            "  Downloading gym-0.21.0.tar.gz (1.5 MB)\n",
            "\u001b[2K     \u001b[90m━━━━━━━━━━━━━━━━━━━━━━━━━━━━━━━━━━━━━━━━\u001b[0m \u001b[32m1.5/1.5 MB\u001b[0m \u001b[31m61.7 MB/s\u001b[0m eta \u001b[36m0:00:00\u001b[0m\n",
            "\u001b[?25h  Preparing metadata (setup.py) ... \u001b[?25l\u001b[?25hdone\n",
            "\u001b[33mWARNING: gym 0.21.0 does not provide the extra 'box_2d'\u001b[0m\u001b[33m\n",
            "\u001b[0mRequirement already satisfied: numpy>=1.18.0 in /usr/local/lib/python3.8/dist-packages (from gym[Box_2D]==0.21.0) (1.21.6)\n",
            "Requirement already satisfied: cloudpickle>=1.2.0 in /usr/local/lib/python3.8/dist-packages (from gym[Box_2D]==0.21.0) (2.2.0)\n",
            "Building wheels for collected packages: gym\n",
            "  Building wheel for gym (setup.py) ... \u001b[?25l\u001b[?25hdone\n",
            "  Created wheel for gym: filename=gym-0.21.0-py3-none-any.whl size=1616822 sha256=ab42d10e00b114aefae8ad8567e8e9bc6cac1544c21b98b5e80622abd4d09456\n",
            "  Stored in directory: /root/.cache/pip/wheels/27/6d/b3/a3a6e10704795c9b9000f1ab2dc480dfe7bed42f5972806e73\n",
            "Successfully built gym\n",
            "Installing collected packages: gym\n",
            "  Attempting uninstall: gym\n",
            "    Found existing installation: gym 0.25.2\n",
            "    Uninstalling gym-0.25.2:\n",
            "      Successfully uninstalled gym-0.25.2\n",
            "Successfully installed gym-0.21.0\n"
          ]
        },
        {
          "output_type": "execute_result",
          "data": {
            "text/plain": [
              "<pyvirtualdisplay.display.Display at 0x7fd2e7e01700>"
            ]
          },
          "metadata": {},
          "execution_count": 1
        }
      ]
    },
    {
      "cell_type": "markdown",
      "metadata": {
        "id": "1Q5-_lmKQZZl"
      },
      "source": [
        "### 2. Instantiate the Environment and Agent\n",
        "\n",
        "Initialize the environment in the code cell below."
      ]
    },
    {
      "cell_type": "code",
      "metadata": {
        "id": "GQQKo9k5QZZq",
        "outputId": "91dd8131-064b-4456-bc26-2837819250a5",
        "colab": {
          "base_uri": "https://localhost:8080/"
        }
      },
      "source": [
        "env = gym.make('LunarLander-v2')\n",
        "env.seed(0)\n",
        "print('State shape: ', env.observation_space.shape)\n",
        "print('Number of actions: ', env.action_space.n)"
      ],
      "execution_count": 2,
      "outputs": [
        {
          "output_type": "stream",
          "name": "stdout",
          "text": [
            "State shape:  (8,)\n",
            "Number of actions:  4\n"
          ]
        }
      ]
    },
    {
      "cell_type": "markdown",
      "source": [
        "# Game Info"
      ],
      "metadata": {
        "id": "EGagFtjnZr1f"
      }
    },
    {
      "cell_type": "markdown",
      "source": [
        "Landing pad is always at coordinates (0,0). Coordinates are the first two numbers in state vector. Reward for moving from the top of the screen to landing pad and zero speed is about 100..140 points. If lander moves away from landing pad it loses reward back. Episode finishes if the lander crashes or comes to rest, receiving additional -100 or +100 points. Each leg ground contact is +10. Firing main engine is -0.3 points each frame. Solved is 200 points. Landing outside landing pad is possible. Fuel is infinite, so an agent can learn to fly and then land on its first attempt."
      ],
      "metadata": {
        "id": "HyEn6FepR4Ar"
      }
    },
    {
      "cell_type": "markdown",
      "source": [
        "State space: \n",
        "\n",
        "*   x coordinate of the lander\n",
        "*   y coordinate of the lander\n",
        "*   vx, the horizontal velocity\n",
        "*   vy, the vertical velocity\n",
        "*   θ, the orientation in space\n",
        "*   vθ, the angular velocity\n",
        "*   Left leg touching the ground (Boolean)\n",
        "*   Right leg touching the ground (Boolean)\n",
        "\n"
      ],
      "metadata": {
        "id": "Ioio7TWNSGhF"
      }
    },
    {
      "cell_type": "markdown",
      "source": [
        "Discrete actions space: \n",
        "1.   do nothing\n",
        "2.   fire left orientation engine\n",
        "3.   fire main engine, \n",
        "4.   fire right orientation engine.\n",
        "\n"
      ],
      "metadata": {
        "id": "EAp8kj-CIyLb"
      }
    },
    {
      "cell_type": "code",
      "source": [
        "import torch\n",
        "import torch.nn as nn\n",
        "import torch.nn.functional as F\n",
        "\n",
        "class QNetwork(nn.Module):\n",
        "    \"\"\"Actor (Policy) Model.\"\"\"\n",
        "\n",
        "    def __init__(self, state_size, action_size, seed, fc1_units=64, fc2_units=64):\n",
        "        \"\"\"Initialize parameters and build model.\n",
        "        Params\n",
        "        ======\n",
        "            state_size (int): Dimension of each state\n",
        "            action_size (int): Dimension of each action\n",
        "            seed (int): Random seed\n",
        "            fc1_units (int): Number of nodes in first hidden layer\n",
        "            fc2_units (int): Number of nodes in second hidden layer\n",
        "        \"\"\"\n",
        "        super(QNetwork, self).__init__()\n",
        "        self.seed = torch.manual_seed(seed)\n",
        "        self.fc1 = nn.Linear(state_size, fc1_units)\n",
        "        self.fc2 = nn.Linear(fc1_units, fc2_units)\n",
        "        self.fc3 = nn.Linear(fc2_units, action_size)\n",
        "\n",
        "    def forward(self, state):\n",
        "        \"\"\"Build a network that maps state -> action values.\"\"\"\n",
        "        x = F.relu(self.fc1(state))\n",
        "        x = F.relu(self.fc2(x))\n",
        "        return self.fc3(x)"
      ],
      "metadata": {
        "id": "v5iObkmuJWND"
      },
      "execution_count": 3,
      "outputs": []
    },
    {
      "cell_type": "code",
      "source": [
        "from collections import namedtuple\n",
        "\n",
        "import torch\n",
        "import torch.nn.functional as F\n",
        "import torch.optim as optim\n",
        "\n",
        "BUFFER_SIZE = int(1e5)  # replay buffer size\n",
        "BATCH_SIZE = 64         # minibatch size\n",
        "GAMMA = 0.99            # discount factor\n",
        "TAU = 1e-3              # for soft update of target parameters\n",
        "LR = 5e-4               # learning rate \n",
        "UPDATE_EVERY = 4        # how often to update the network\n",
        "\n",
        "device = torch.device(\"cuda:0\" if torch.cuda.is_available() else \"cpu\")\n",
        "\n",
        "class Agent():\n",
        "    \"\"\"Interacts with and learns from the environment.\"\"\"\n",
        "\n",
        "    def __init__(self, state_size, action_size, seed):\n",
        "        \"\"\"Initialize an Agent object.\n",
        "        \n",
        "        Params\n",
        "        ======\n",
        "            state_size (int): dimension of each state\n",
        "            action_size (int): dimension of each action\n",
        "            seed (int): random seed\n",
        "        \"\"\"\n",
        "        self.state_size = state_size\n",
        "        self.action_size = action_size\n",
        "        self.seed = random.seed(seed)\n",
        "\n",
        "        # Q-Network\n",
        "        self.qnetwork_local = QNetwork(state_size, action_size, seed).to(device)\n",
        "        self.qnetwork_target = QNetwork(state_size, action_size, seed).to(device)\n",
        "        self.optimizer = optim.Adam(self.qnetwork_local.parameters(), lr=LR)\n",
        "\n",
        "        # Replay memory\n",
        "        self.memory = ReplayBuffer(action_size, BUFFER_SIZE, BATCH_SIZE, seed)\n",
        "        # Initialize time step (for updating every UPDATE_EVERY steps)\n",
        "        self.t_step = 0\n",
        "    \n",
        "    def step(self, state, action, reward, next_state, done):\n",
        "        # Save experience in replay memory\n",
        "        self.memory.add(state, action, reward, next_state, done)\n",
        "        \n",
        "        # Learn every UPDATE_EVERY time steps.\n",
        "        self.t_step = (self.t_step + 1) % UPDATE_EVERY\n",
        "        if self.t_step == 0:\n",
        "            # If enough samples are available in memory, get random subset and learn\n",
        "            if len(self.memory) > BATCH_SIZE:\n",
        "                experiences = self.memory.sample()\n",
        "                self.learn(experiences, GAMMA)\n",
        "\n",
        "    def act(self, state, eps=0.):\n",
        "        \"\"\"Returns actions for given state as per current policy.\n",
        "        \n",
        "        Params\n",
        "        ======\n",
        "            state (array_like): current state\n",
        "            eps (float): epsilon, for epsilon-greedy action selection\n",
        "        \"\"\"\n",
        "        state = torch.from_numpy(state).float().unsqueeze(0).to(device) #prepare input data\n",
        "        self.qnetwork_local.eval()\n",
        "        with torch.no_grad():\n",
        "            action_values = self.qnetwork_local(state)\n",
        "        self.qnetwork_local.train()\n",
        "\n",
        "        # Epsilon-greedy action selection\n",
        "        if random.random() > eps:\n",
        "            return np.argmax(action_values.cpu().data.numpy())\n",
        "        else:\n",
        "            return random.choice(np.arange(self.action_size))\n",
        "\n",
        "    def learn(self, experiences, gamma):\n",
        "        \"\"\"Update value parameters using given batch of experience tuples.\n",
        "        Params\n",
        "        ======\n",
        "            experiences (Tuple[torch.Tensor]): tuple of (s, a, r, s', done) tuples \n",
        "            gamma (float): discount factor\n",
        "        \"\"\"\n",
        "        states, actions, rewards, next_states, dones = experiences\n",
        "\n",
        "        # set to zero the grads\n",
        "        self.optimizer.zero_grad()\n",
        "\n",
        "        # Get max predicted Q values (for next states) from target model\n",
        "        Q_targets_next = self.qnetwork_target(next_states).detach().max(1)[0].unsqueeze(1) # detach it from the computation graph\n",
        "        # Compute Q targets for current states \n",
        "        Q_targets = rewards + (gamma * Q_targets_next * (1 - dones))\n",
        "\n",
        "        # Get expected Q values from local model\n",
        "        Q_expected = self.qnetwork_local(states).gather(1, actions) # gather the values along an 1 axis\n",
        "\n",
        "        # Compute loss\n",
        "        loss = F.mse_loss(Q_expected, Q_targets)\n",
        "        # Minimize the loss\n",
        "        loss.backward()\n",
        "        self.optimizer.step()\n",
        "\n",
        "        # ------------------- update target network ------------------- #\n",
        "        self.soft_update(self.qnetwork_local, self.qnetwork_target, TAU)                     \n",
        "\n",
        "    def soft_update(self, local_model, target_model, tau):\n",
        "        \"\"\"Soft update model parameters.\n",
        "        θ_target = τ*θ_local + (1 - τ)*θ_target\n",
        "        Params\n",
        "        ======\n",
        "            local_model (PyTorch model): weights will be copied from\n",
        "            target_model (PyTorch model): weights will be copied to\n",
        "            tau (float): interpolation parameter \n",
        "        \"\"\"\n",
        "        for target_param, local_param in zip(target_model.parameters(), local_model.parameters()):\n",
        "            target_param.data.copy_(tau*local_param.data + (1.0-tau)*target_param.data)\n",
        "\n",
        "\n",
        "class ReplayBuffer:\n",
        "    \"\"\"Fixed-size buffer to store experience tuples.\"\"\"\n",
        "\n",
        "    def __init__(self, action_size, buffer_size, batch_size, seed):\n",
        "        \"\"\"Initialize a ReplayBuffer object.\n",
        "        Params\n",
        "        ======\n",
        "            action_size (int): dimension of each action\n",
        "            buffer_size (int): maximum size of buffer\n",
        "            batch_size (int): size of each training batch\n",
        "            seed (int): random seed\n",
        "        \"\"\"\n",
        "        self.action_size = action_size\n",
        "        self.memory = deque(maxlen=buffer_size)  \n",
        "        self.batch_size = batch_size\n",
        "        self.experience = namedtuple(\"Experience\", field_names=[\"state\", \"action\", \"reward\", \"next_state\", \"done\"])\n",
        "        self.seed = random.seed(seed)\n",
        "    \n",
        "    def add(self, state, action, reward, next_state, done):\n",
        "        \"\"\"Add a new experience to memory.\"\"\"\n",
        "        e = self.experience(state, action, reward, next_state, done)\n",
        "        self.memory.append(e)\n",
        "    \n",
        "    def sample(self):\n",
        "        \"\"\"Randomly sample a batch of experiences from memory.\"\"\"\n",
        "        experiences = random.sample(self.memory, k=self.batch_size)\n",
        "\n",
        "        states = torch.from_numpy(np.vstack([e.state for e in experiences if e is not None])).float().to(device)\n",
        "        actions = torch.from_numpy(np.vstack([e.action for e in experiences if e is not None])).long().to(device)\n",
        "        rewards = torch.from_numpy(np.vstack([e.reward for e in experiences if e is not None])).float().to(device)\n",
        "        next_states = torch.from_numpy(np.vstack([e.next_state for e in experiences if e is not None])).float().to(device)\n",
        "        dones = torch.from_numpy(np.vstack([e.done for e in experiences if e is not None]).astype(np.uint8)).float().to(device)\n",
        "  \n",
        "        return (states, actions, rewards, next_states, dones)\n",
        "\n",
        "    def __len__(self):\n",
        "        \"\"\"Return the current size of internal memory.\"\"\"\n",
        "        return len(self.memory)"
      ],
      "metadata": {
        "id": "WyZ4Q5nxJI4_"
      },
      "execution_count": null,
      "outputs": []
    },
    {
      "cell_type": "code",
      "source": [
        "agent = Agent(state_size=8, action_size=4, seed=0)"
      ],
      "metadata": {
        "id": "EC7wXZD1hqE3"
      },
      "execution_count": null,
      "outputs": []
    },
    {
      "cell_type": "code",
      "metadata": {
        "id": "WBFf8xnwQZZs"
      },
      "source": [
        "# agent = Agent(state_size=8, action_size=4, seed=0)\n",
        "\n",
        "# # watch an untrained agent\n",
        "# state = env.reset()\n",
        "# prev_screen = env.render(mode='rgb_array')\n",
        "# plt.imshow(prev_screen)\n",
        "\n",
        "# for j in range(200):\n",
        "#     action = agent.act(state)\n",
        "#     env.render()\n",
        "#     state, reward, done, _ = env.step(action)\n",
        "#     screen = env.render(mode='rgb_array')\n",
        "  \n",
        "#     plt.imshow(screen)\n",
        "#     ipythondisplay.clear_output(wait=True)\n",
        "#     ipythondisplay.display(plt.gcf())\n",
        "\n",
        "#     if done:\n",
        "#       break\n",
        "    \n",
        "# ipythondisplay.clear_output(wait=True)\n",
        "# env.close()"
      ],
      "execution_count": null,
      "outputs": []
    },
    {
      "cell_type": "markdown",
      "metadata": {
        "id": "_oeCIVToQZZt"
      },
      "source": [
        "### 3. Train the Agent with DQN\n",
        "\n",
        "Run the code cell below to train the agent from scratch.  You are welcome to amend the supplied values of the parameters in the function, to try to see if you can get better performance!\n",
        "\n",
        "Alternatively, you can skip to the next step below (**4. Watch a Smart Agent!**), to load the saved model weights from a pre-trained agent."
      ]
    },
    {
      "cell_type": "code",
      "metadata": {
        "id": "F_hwnANiQZZu",
        "outputId": "2a3be44e-340a-4c6b-e1aa-1f4af754f7fe",
        "colab": {
          "base_uri": "https://localhost:8080/",
          "height": 435
        }
      },
      "source": [
        "def dqn(n_episodes=2000, max_t=1000, eps_start=1.0, eps_end=0.01, eps_decay=0.995):\n",
        "    \"\"\"Deep Q-Learning.\n",
        "    \n",
        "    Params\n",
        "    ======\n",
        "        n_episodes (int): maximum number of training episodes\n",
        "        max_t (int): maximum number of timesteps per episode\n",
        "        eps_start (float): starting value of epsilon, for epsilon-greedy action selection\n",
        "        eps_end (float): minimum value of epsilon\n",
        "        eps_decay (float): multiplicative factor (per episode) for decreasing epsilon\n",
        "    \"\"\"\n",
        "    scores = []                        # list containing scores from each episode\n",
        "    scores_window = deque(maxlen=100)  # last 100 scores\n",
        "    eps = eps_start                    # initialize epsilon\n",
        "    for i_episode in range(1, n_episodes+1):\n",
        "        state = env.reset()\n",
        "        score = 0\n",
        "        for t in range(max_t):\n",
        "            action = agent.act(state, eps)\n",
        "            next_state, reward, done, _ = env.step(action)\n",
        "            agent.step(state, action, reward, next_state, done)\n",
        "            state = next_state\n",
        "            score += reward\n",
        "            if done:\n",
        "                break \n",
        "        scores_window.append(score)       # save most recent score\n",
        "        scores.append(score)              # save most recent score\n",
        "        eps = max(eps_end, eps_decay*eps) # decrease epsilon\n",
        "        print('\\rEpisode {}\\tAverage Score: {:.2f}'.format(i_episode, np.mean(scores_window)), end=\"\")\n",
        "        if i_episode % 100 == 0:\n",
        "            print('\\rEpisode {}\\tAverage Score: {:.2f}'.format(i_episode, np.mean(scores_window)))\n",
        "        if np.mean(scores_window)>=200.0:\n",
        "            print('\\nEnvironment solved in {:d} episodes!\\tAverage Score: {:.2f}'.format(i_episode-100, np.mean(scores_window)))\n",
        "            torch.save(agent.qnetwork_local.state_dict(), 'checkpoint.pth')\n",
        "            break\n",
        "    return scores\n",
        "\n",
        "scores = dqn()\n",
        "\n",
        "# plot the scores\n",
        "fig = plt.figure()\n",
        "ax = fig.add_subplot(111)\n",
        "plt.plot(np.arange(len(scores)), scores)\n",
        "plt.ylabel('Score')\n",
        "plt.xlabel('Episode #')\n",
        "plt.show()"
      ],
      "execution_count": null,
      "outputs": [
        {
          "output_type": "stream",
          "name": "stdout",
          "text": [
            "Episode 100\tAverage Score: -180.37\n",
            "Episode 200\tAverage Score: -113.46\n",
            "Episode 300\tAverage Score: -26.59\n",
            "Episode 400\tAverage Score: 47.74\n",
            "Episode 500\tAverage Score: 134.95\n",
            "Episode 600\tAverage Score: 147.93\n",
            "Episode 700\tAverage Score: 179.20\n",
            "Episode 761\tAverage Score: 202.27\n",
            "Environment solved in 661 episodes!\tAverage Score: 202.27\n"
          ]
        },
        {
          "output_type": "display_data",
          "data": {
            "text/plain": [
              "<Figure size 432x288 with 1 Axes>"
            ],
            "image/png": "[encoded data removed]"
          },
          "metadata": {
            "needs_background": "light"
          }
        }
      ]
    },
    {
      "cell_type": "markdown",
      "metadata": {
        "id": "gpJwVvXDQZZw"
      },
      "source": [
        "### 4. Watch a Smart Agent!\n",
        "\n",
        "In the next code cell, you will load the trained weights from file to watch a smart agent!"
      ]
    },
    {
      "cell_type": "code",
      "source": [
        "# load the weights from file\n",
        "agent.qnetwork_local.load_state_dict(torch.load('checkpoint.pth'))"
      ],
      "metadata": {
        "colab": {
          "base_uri": "https://localhost:8080/"
        },
        "id": "trUMtgqoj6UQ",
        "outputId": "a044922d-bc02-43eb-c2d0-2b30e301a2dc"
      },
      "execution_count": null,
      "outputs": [
        {
          "output_type": "execute_result",
          "data": {
            "text/plain": [
              "<All keys matched successfully>"
            ]
          },
          "metadata": {},
          "execution_count": 8
        }
      ]
    },
    {
      "cell_type": "code",
      "metadata": {
        "id": "Pc1BBWd1QZZx"
      },
      "source": [
        "# for i in range(1):\n",
        "#     state = env.reset()\n",
        "#     prev_screen = env.render(mode='rgb_array')\n",
        "#     plt.imshow(prev_screen)\n",
        "#     for j in range(200):\n",
        "#         action = agent.act(state)\n",
        "#         state, reward, done, _ = env.step(action)\n",
        "#         #env.render()\n",
        "#         screen = env.render(mode='rgb_array')\n",
        "  \n",
        "#         plt.imshow(screen)\n",
        "#         ipythondisplay.clear_output(wait=True)\n",
        "#         ipythondisplay.display(plt.gcf())\n",
        "        \n",
        "#         if done:\n",
        "#             break \n",
        "#     ipythondisplay.clear_output(wait=True)    \n",
        "# env.close()"
      ],
      "execution_count": null,
      "outputs": []
    },
    {
      "cell_type": "code",
      "source": [
        "#https://stackoverflow.com/questions/52726475/display-openai-gym-in-jupyter-notebook-only\n",
        "!pip install pyglet==\"1.5.26\"\n",
        "\n",
        "from gym import wrappers\n",
        "\n",
        "state = env.reset()\n",
        "env = wrappers.Monitor(env, \"./gym-results\", force=True)\n",
        "env.reset()\n",
        "score = 0\n",
        "for _ in range(1000):\n",
        "    action = agent.act(state)\n",
        "    state, reward, done, _ = env.step(action)\n",
        "    score += reward\n",
        "    if done: break\n",
        "env.close()\n",
        "\n",
        "print(\"Total score was\", score)"
      ],
      "metadata": {
        "id": "fRq1jaeezvht",
        "outputId": "9d9bd8a0-f043-4dd9-cfb4-d8cf84c848f4",
        "colab": {
          "base_uri": "https://localhost:8080/"
        }
      },
      "execution_count": null,
      "outputs": [
        {
          "output_type": "stream",
          "name": "stdout",
          "text": [
            "Looking in indexes: https://pypi.org/simple, https://us-python.pkg.dev/colab-wheels/public/simple/\n",
            "Requirement already satisfied: pyglet==1.5.26 in /usr/local/lib/python3.7/dist-packages (1.5.26)\n",
            "275.29085501555755\n"
          ]
        }
      ]
    },
    {
      "cell_type": "code",
      "source": [
        "import io\n",
        "import base64\n",
        "from IPython.display import HTML\n",
        "\n",
        "video = io.open('./gym-results/openaigym.video.%s.video000000.mp4' % env.file_infix, 'r+b').read()\n",
        "encoded = base64.b64encode(video)\n",
        "HTML(data='''\n",
        "    <video width=\"360\" height=\"auto\" alt=\"test\" controls><source src=\"data:video/mp4;base64,{0}\" type=\"video/mp4\" /></video>'''\n",
        ".format(encoded.decode('ascii')))"
      ],
      "metadata": {
        "colab": {
          "base_uri": "https://localhost:8080/",
          "height": 261
        },
        "id": "BfCByu5zz0vf",
        "outputId": "757f2b57-0b50-4680-e55a-bbc26995dbc0"
      },
      "execution_count": null,
      "outputs": [
        {
          "output_type": "execute_result",
          "data": {
            "text/plain": [
              "<IPython.core.display.HTML object>"
            ],
            "text/html": [
              "\n",
              "    <video width=\"360\" height=\"auto\" alt=\"test\" controls><source src=\"data:video/mp4;base64,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\" type=\"video/mp4\" /></video>"
            ]
          },
          "metadata": {},
          "execution_count": 19
        }
      ]
    },
    {
      "cell_type": "markdown",
      "metadata": {
        "id": "znRMHGZ9QZZy"
      },
      "source": [
        "### 5. Explore\n",
        "\n",
        "In this exercise, you have implemented a DQN agent and demonstrated how to use it to solve an OpenAI Gym environment.  To continue your learning, you are encouraged to complete any (or all!) of the following tasks:\n",
        "- Amend the various hyperparameters and network architecture to see if you can get your agent to solve the environment faster.  Once you build intuition for the hyperparameters that work well with this environment, try solving a different OpenAI Gym task with discrete actions!\n",
        "- You may like to implement some improvements such as prioritized experience replay, Double DQN, or Dueling DQN! \n",
        "- Write a blog post explaining the intuition behind the DQN algorithm and demonstrating how to use it to solve an RL environment of your choosing.  "
      ]
    }
  ]
}