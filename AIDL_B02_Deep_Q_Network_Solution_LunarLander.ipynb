{
  "nbformat": 4,
  "nbformat_minor": 0,
  "metadata": {
    "kernelspec": {
      "display_name": "Python 3",
      "language": "python",
      "name": "python3"
    },
    "language_info": {
      "codemirror_mode": {
        "name": "ipython",
        "version": 3
      },
      "file_extension": ".py",
      "mimetype": "text/x-python",
      "name": "python",
      "nbconvert_exporter": "python",
      "pygments_lexer": "ipython3",
      "version": "3.6.4"
    },
    "colab": {
      "name": "AIDL_B02_Deep_Q_Network_Solution_LunarLander.ipynb",
      "provenance": [],
      "collapsed_sections": [],
      "include_colab_link": true
    },
    "accelerator": "GPU"
  },
  "cells": [
    {
      "cell_type": "markdown",
      "metadata": {
        "id": "view-in-github",
        "colab_type": "text"
      },
      "source": [
        "<a href=\"https://colab.research.google.com/github/ounospanas/AIDL_B02/blob/main/AIDL_B02_Deep_Q_Network_Solution_LunarLander.ipynb\" target=\"_parent\"><img src=\"https://colab.research.google.com/assets/colab-badge.svg\" alt=\"Open In Colab\"/></a>"
      ]
    },
    {
      "cell_type": "markdown",
      "metadata": {
        "id": "PxD_WbgoQZZd"
      },
      "source": [
        "# Deep Q-Network (DQN)\n",
        "---\n",
        "In this notebook, you will implement a DQN agent with OpenAI Gym's LunarLander-v2 environment.\n",
        "This is an edited version of the [original](://github.com/udacity/deep-reinforcement-learning/blob/master/dqn/solution/Deep_Q_Network_Solution.ipynb) .ipynb, enabling gym rendering in colab.\n",
        "\n",
        "### 1. Import the Necessary Packages"
      ]
    },
    {
      "cell_type": "code",
      "metadata": {
        "id": "RLsVmF-lQZZj",
        "colab": {
          "base_uri": "https://localhost:8080/"
        },
        "outputId": "51120c9a-c619-4d7e-8475-4c9ae09a35fc"
      },
      "source": [
        "!pip install box2d-py\n",
        "!pip install gym[Box_2D]\n",
        "!apt-get install -y xvfb python-opengl > /dev/null 2>&1\n",
        "!pip install gym pyvirtualdisplay > /dev/null 2>&1\n",
        "\n",
        "import gym\n",
        "import random\n",
        "import torch\n",
        "import numpy as np\n",
        "from collections import deque\n",
        "import matplotlib.pyplot as plt\n",
        "%matplotlib inline\n",
        "\n",
        "from IPython import display as ipythondisplay\n",
        "from pyvirtualdisplay import Display\n",
        "display = Display(visible=0, size=(400, 300))\n",
        "display.start()"
      ],
      "execution_count": 7,
      "outputs": [
        {
          "output_type": "stream",
          "name": "stdout",
          "text": [
            "Requirement already satisfied: box2d-py in /usr/local/lib/python3.7/dist-packages (2.3.8)\n",
            "Requirement already satisfied: gym[Box_2D] in /usr/local/lib/python3.7/dist-packages (0.17.3)\n",
            "\u001b[33mWARNING: gym 0.17.3 does not provide the extra 'box_2d'\u001b[0m\n",
            "Requirement already satisfied: cloudpickle<1.7.0,>=1.2.0 in /usr/local/lib/python3.7/dist-packages (from gym[Box_2D]) (1.3.0)\n",
            "Requirement already satisfied: pyglet<=1.5.0,>=1.4.0 in /usr/local/lib/python3.7/dist-packages (from gym[Box_2D]) (1.5.0)\n",
            "Requirement already satisfied: numpy>=1.10.4 in /usr/local/lib/python3.7/dist-packages (from gym[Box_2D]) (1.19.5)\n",
            "Requirement already satisfied: scipy in /usr/local/lib/python3.7/dist-packages (from gym[Box_2D]) (1.4.1)\n",
            "Requirement already satisfied: future in /usr/local/lib/python3.7/dist-packages (from pyglet<=1.5.0,>=1.4.0->gym[Box_2D]) (0.16.0)\n"
          ]
        },
        {
          "output_type": "execute_result",
          "data": {
            "text/plain": [
              "<pyvirtualdisplay.display.Display at 0x7f97f4814fd0>"
            ]
          },
          "metadata": {},
          "execution_count": 7
        }
      ]
    },
    {
      "cell_type": "markdown",
      "metadata": {
        "id": "1Q5-_lmKQZZl"
      },
      "source": [
        "### 2. Instantiate the Environment and Agent\n",
        "\n",
        "Initialize the environment in the code cell below."
      ]
    },
    {
      "cell_type": "code",
      "metadata": {
        "id": "GQQKo9k5QZZq",
        "outputId": "f4defbae-87e5-44ff-b08d-075d23c15203",
        "colab": {
          "base_uri": "https://localhost:8080/"
        }
      },
      "source": [
        "env = gym.make('LunarLander-v2')\n",
        "env.seed(0)\n",
        "print('State shape: ', env.observation_space.shape)\n",
        "print('Number of actions: ', env.action_space.n)"
      ],
      "execution_count": 8,
      "outputs": [
        {
          "output_type": "stream",
          "name": "stdout",
          "text": [
            "State shape:  (8,)\n",
            "Number of actions:  4\n"
          ]
        }
      ]
    },
    {
      "cell_type": "markdown",
      "source": [
        "Landing pad is always at coordinates (0,0). Coordinates are the first two numbers in state vector. Reward for moving from the top of the screen to landing pad and zero speed is about 100..140 points. If lander moves away from landing pad it loses reward back. Episode finishes if the lander crashes or comes to rest, receiving additional -100 or +100 points. Each leg ground contact is +10. Firing main engine is -0.3 points each frame. Solved is 200 points. Landing outside landing pad is possible. Fuel is infinite, so an agent can learn to fly and then land on its first attempt. Four discrete actions available: do nothing, fire left orientation engine, fire main engine, fire right orientation engine."
      ],
      "metadata": {
        "id": "HyEn6FepR4Ar"
      }
    },
    {
      "cell_type": "markdown",
      "source": [
        "State space: \n",
        "\n",
        "*   x coordinate of the lander\n",
        "*   y coordinate of the lander\n",
        "*   vx, the horizontal velocity\n",
        "*   vy, the vertical velocity\n",
        "*   θ, the orientation in space\n",
        "*   vθ, the angular velocity\n",
        "*   Left leg touching the ground (Boolean)\n",
        "*   Right leg touching the ground (Boolean)\n",
        "\n"
      ],
      "metadata": {
        "id": "Ioio7TWNSGhF"
      }
    },
    {
      "cell_type": "markdown",
      "metadata": {
        "id": "LM6s45XcQZZs"
      },
      "source": [
        "Please refer to the instructions in `Deep_Q_Network.ipynb` if you would like to write your own DQN agent.  Otherwise, run the code cell below to load the solution files."
      ]
    },
    {
      "cell_type": "code",
      "source": [
        "import torch\n",
        "import torch.nn as nn\n",
        "import torch.nn.functional as F\n",
        "\n",
        "class QNetwork(nn.Module):\n",
        "    \"\"\"Actor (Policy) Model.\"\"\"\n",
        "\n",
        "    def __init__(self, state_size, action_size, seed, fc1_units=64, fc2_units=64):\n",
        "        \"\"\"Initialize parameters and build model.\n",
        "        Params\n",
        "        ======\n",
        "            state_size (int): Dimension of each state\n",
        "            action_size (int): Dimension of each action\n",
        "            seed (int): Random seed\n",
        "            fc1_units (int): Number of nodes in first hidden layer\n",
        "            fc2_units (int): Number of nodes in second hidden layer\n",
        "        \"\"\"\n",
        "        super(QNetwork, self).__init__()\n",
        "        self.seed = torch.manual_seed(seed)\n",
        "        self.fc1 = nn.Linear(state_size, fc1_units)\n",
        "        self.fc2 = nn.Linear(fc1_units, fc2_units)\n",
        "        self.fc3 = nn.Linear(fc2_units, action_size)\n",
        "\n",
        "    def forward(self, state):\n",
        "        \"\"\"Build a network that maps state -> action values.\"\"\"\n",
        "        x = F.relu(self.fc1(state))\n",
        "        x = F.relu(self.fc2(x))\n",
        "        return self.fc3(x)"
      ],
      "metadata": {
        "id": "v5iObkmuJWND"
      },
      "execution_count": 9,
      "outputs": []
    },
    {
      "cell_type": "code",
      "source": [
        "from collections import namedtuple\n",
        "\n",
        "import torch\n",
        "import torch.nn.functional as F\n",
        "import torch.optim as optim\n",
        "\n",
        "BUFFER_SIZE = int(1e5)  # replay buffer size\n",
        "BATCH_SIZE = 64         # minibatch size\n",
        "GAMMA = 0.99            # discount factor\n",
        "TAU = 1e-3              # for soft update of target parameters\n",
        "LR = 5e-4               # learning rate \n",
        "UPDATE_EVERY = 4        # how often to update the network\n",
        "\n",
        "device = torch.device(\"cuda:0\" if torch.cuda.is_available() else \"cpu\")\n",
        "\n",
        "class Agent():\n",
        "    \"\"\"Interacts with and learns from the environment.\"\"\"\n",
        "\n",
        "    def __init__(self, state_size, action_size, seed):\n",
        "        \"\"\"Initialize an Agent object.\n",
        "        \n",
        "        Params\n",
        "        ======\n",
        "            state_size (int): dimension of each state\n",
        "            action_size (int): dimension of each action\n",
        "            seed (int): random seed\n",
        "        \"\"\"\n",
        "        self.state_size = state_size\n",
        "        self.action_size = action_size\n",
        "        self.seed = random.seed(seed)\n",
        "\n",
        "        # Q-Network\n",
        "        self.qnetwork_local = QNetwork(state_size, action_size, seed).to(device)\n",
        "        self.qnetwork_target = QNetwork(state_size, action_size, seed).to(device)\n",
        "        self.optimizer = optim.Adam(self.qnetwork_local.parameters(), lr=LR)\n",
        "\n",
        "        # Replay memory\n",
        "        self.memory = ReplayBuffer(action_size, BUFFER_SIZE, BATCH_SIZE, seed)\n",
        "        # Initialize time step (for updating every UPDATE_EVERY steps)\n",
        "        self.t_step = 0\n",
        "    \n",
        "    def step(self, state, action, reward, next_state, done):\n",
        "        # Save experience in replay memory\n",
        "        self.memory.add(state, action, reward, next_state, done)\n",
        "        \n",
        "        # Learn every UPDATE_EVERY time steps.\n",
        "        self.t_step = (self.t_step + 1) % UPDATE_EVERY\n",
        "        if self.t_step == 0:\n",
        "            # If enough samples are available in memory, get random subset and learn\n",
        "            if len(self.memory) > BATCH_SIZE:\n",
        "                experiences = self.memory.sample()\n",
        "                self.learn(experiences, GAMMA)\n",
        "\n",
        "    def act(self, state, eps=0.):\n",
        "        \"\"\"Returns actions for given state as per current policy.\n",
        "        \n",
        "        Params\n",
        "        ======\n",
        "            state (array_like): current state\n",
        "            eps (float): epsilon, for epsilon-greedy action selection\n",
        "        \"\"\"\n",
        "        state = torch.from_numpy(state).float().unsqueeze(0).to(device)\n",
        "        self.qnetwork_local.eval()\n",
        "        with torch.no_grad():\n",
        "            action_values = self.qnetwork_local(state)\n",
        "        self.qnetwork_local.train()\n",
        "\n",
        "        # Epsilon-greedy action selection\n",
        "        if random.random() > eps:\n",
        "            return np.argmax(action_values.cpu().data.numpy())\n",
        "        else:\n",
        "            return random.choice(np.arange(self.action_size))\n",
        "\n",
        "    def learn(self, experiences, gamma):\n",
        "        \"\"\"Update value parameters using given batch of experience tuples.\n",
        "        Params\n",
        "        ======\n",
        "            experiences (Tuple[torch.Tensor]): tuple of (s, a, r, s', done) tuples \n",
        "            gamma (float): discount factor\n",
        "        \"\"\"\n",
        "        states, actions, rewards, next_states, dones = experiences\n",
        "\n",
        "        # Get max predicted Q values (for next states) from target model\n",
        "        Q_targets_next = self.qnetwork_target(next_states).detach().max(1)[0].unsqueeze(1)\n",
        "        # Compute Q targets for current states \n",
        "        Q_targets = rewards + (gamma * Q_targets_next * (1 - dones))\n",
        "\n",
        "        # Get expected Q values from local model\n",
        "        Q_expected = self.qnetwork_local(states).gather(1, actions)\n",
        "\n",
        "        # Compute loss\n",
        "        loss = F.mse_loss(Q_expected, Q_targets)\n",
        "        # Minimize the loss\n",
        "        self.optimizer.zero_grad()\n",
        "        loss.backward()\n",
        "        self.optimizer.step()\n",
        "\n",
        "        # ------------------- update target network ------------------- #\n",
        "        self.soft_update(self.qnetwork_local, self.qnetwork_target, TAU)                     \n",
        "\n",
        "    def soft_update(self, local_model, target_model, tau):\n",
        "        \"\"\"Soft update model parameters.\n",
        "        θ_target = τ*θ_local + (1 - τ)*θ_target\n",
        "        Params\n",
        "        ======\n",
        "            local_model (PyTorch model): weights will be copied from\n",
        "            target_model (PyTorch model): weights will be copied to\n",
        "            tau (float): interpolation parameter \n",
        "        \"\"\"\n",
        "        for target_param, local_param in zip(target_model.parameters(), local_model.parameters()):\n",
        "            target_param.data.copy_(tau*local_param.data + (1.0-tau)*target_param.data)\n",
        "\n",
        "\n",
        "class ReplayBuffer:\n",
        "    \"\"\"Fixed-size buffer to store experience tuples.\"\"\"\n",
        "\n",
        "    def __init__(self, action_size, buffer_size, batch_size, seed):\n",
        "        \"\"\"Initialize a ReplayBuffer object.\n",
        "        Params\n",
        "        ======\n",
        "            action_size (int): dimension of each action\n",
        "            buffer_size (int): maximum size of buffer\n",
        "            batch_size (int): size of each training batch\n",
        "            seed (int): random seed\n",
        "        \"\"\"\n",
        "        self.action_size = action_size\n",
        "        self.memory = deque(maxlen=buffer_size)  \n",
        "        self.batch_size = batch_size\n",
        "        self.experience = namedtuple(\"Experience\", field_names=[\"state\", \"action\", \"reward\", \"next_state\", \"done\"])\n",
        "        self.seed = random.seed(seed)\n",
        "    \n",
        "    def add(self, state, action, reward, next_state, done):\n",
        "        \"\"\"Add a new experience to memory.\"\"\"\n",
        "        e = self.experience(state, action, reward, next_state, done)\n",
        "        self.memory.append(e)\n",
        "    \n",
        "    def sample(self):\n",
        "        \"\"\"Randomly sample a batch of experiences from memory.\"\"\"\n",
        "        experiences = random.sample(self.memory, k=self.batch_size)\n",
        "\n",
        "        states = torch.from_numpy(np.vstack([e.state for e in experiences if e is not None])).float().to(device)\n",
        "        actions = torch.from_numpy(np.vstack([e.action for e in experiences if e is not None])).long().to(device)\n",
        "        rewards = torch.from_numpy(np.vstack([e.reward for e in experiences if e is not None])).float().to(device)\n",
        "        next_states = torch.from_numpy(np.vstack([e.next_state for e in experiences if e is not None])).float().to(device)\n",
        "        dones = torch.from_numpy(np.vstack([e.done for e in experiences if e is not None]).astype(np.uint8)).float().to(device)\n",
        "  \n",
        "        return (states, actions, rewards, next_states, dones)\n",
        "\n",
        "    def __len__(self):\n",
        "        \"\"\"Return the current size of internal memory.\"\"\"\n",
        "        return len(self.memory)"
      ],
      "metadata": {
        "id": "WyZ4Q5nxJI4_"
      },
      "execution_count": 10,
      "outputs": []
    },
    {
      "cell_type": "code",
      "metadata": {
        "id": "WBFf8xnwQZZs",
        "colab": {
          "base_uri": "https://localhost:8080/",
          "height": 269
        },
        "outputId": "e0614b22-48ad-4ae7-8a2b-441fae7a8ea2"
      },
      "source": [
        "agent = Agent(state_size=8, action_size=4, seed=0)\n",
        "\n",
        "# watch an untrained agent\n",
        "state = env.reset()\n",
        "prev_screen = env.render(mode='rgb_array')\n",
        "plt.imshow(prev_screen)\n",
        "\n",
        "for j in range(200):\n",
        "    action = agent.act(state)\n",
        "    env.render()\n",
        "    state, reward, done, _ = env.step(action)\n",
        "    screen = env.render(mode='rgb_array')\n",
        "  \n",
        "    plt.imshow(screen)\n",
        "    ipythondisplay.clear_output(wait=True)\n",
        "    ipythondisplay.display(plt.gcf())\n",
        "\n",
        "    if done:\n",
        "      break\n",
        "    \n",
        "ipythondisplay.clear_output(wait=True)\n",
        "env.close()"
      ],
      "execution_count": 11,
      "outputs": [
        {
          "output_type": "display_data",
          "data": {
            "image/png": "[encoded data removed]",
            "text/plain": [
              "<Figure size 432x288 with 1 Axes>"
            ]
          },
          "metadata": {
            "needs_background": "light"
          }
        }
      ]
    },
    {
      "cell_type": "markdown",
      "metadata": {
        "id": "_oeCIVToQZZt"
      },
      "source": [
        "### 3. Train the Agent with DQN\n",
        "\n",
        "Run the code cell below to train the agent from scratch.  You are welcome to amend the supplied values of the parameters in the function, to try to see if you can get better performance!\n",
        "\n",
        "Alternatively, you can skip to the next step below (**4. Watch a Smart Agent!**), to load the saved model weights from a pre-trained agent."
      ]
    },
    {
      "cell_type": "code",
      "metadata": {
        "id": "F_hwnANiQZZu",
        "outputId": "4c822656-5876-4894-b809-940449b79c79",
        "colab": {
          "base_uri": "https://localhost:8080/",
          "height": 435
        }
      },
      "source": [
        "def dqn(n_episodes=2000, max_t=1000, eps_start=1.0, eps_end=0.01, eps_decay=0.995):\n",
        "    \"\"\"Deep Q-Learning.\n",
        "    \n",
        "    Params\n",
        "    ======\n",
        "        n_episodes (int): maximum number of training episodes\n",
        "        max_t (int): maximum number of timesteps per episode\n",
        "        eps_start (float): starting value of epsilon, for epsilon-greedy action selection\n",
        "        eps_end (float): minimum value of epsilon\n",
        "        eps_decay (float): multiplicative factor (per episode) for decreasing epsilon\n",
        "    \"\"\"\n",
        "    scores = []                        # list containing scores from each episode\n",
        "    scores_window = deque(maxlen=100)  # last 100 scores\n",
        "    eps = eps_start                    # initialize epsilon\n",
        "    for i_episode in range(1, n_episodes+1):\n",
        "        state = env.reset()\n",
        "        score = 0\n",
        "        for t in range(max_t):\n",
        "            action = agent.act(state, eps)\n",
        "            next_state, reward, done, _ = env.step(action)\n",
        "            agent.step(state, action, reward, next_state, done)\n",
        "            state = next_state\n",
        "            score += reward\n",
        "            if done:\n",
        "                break \n",
        "        scores_window.append(score)       # save most recent score\n",
        "        scores.append(score)              # save most recent score\n",
        "        eps = max(eps_end, eps_decay*eps) # decrease epsilon\n",
        "        print('\\rEpisode {}\\tAverage Score: {:.2f}'.format(i_episode, np.mean(scores_window)), end=\"\")\n",
        "        if i_episode % 100 == 0:\n",
        "            print('\\rEpisode {}\\tAverage Score: {:.2f}'.format(i_episode, np.mean(scores_window)))\n",
        "        if np.mean(scores_window)>=200.0:\n",
        "            print('\\nEnvironment solved in {:d} episodes!\\tAverage Score: {:.2f}'.format(i_episode-100, np.mean(scores_window)))\n",
        "            torch.save(agent.qnetwork_local.state_dict(), 'checkpoint.pth')\n",
        "            break\n",
        "    return scores\n",
        "\n",
        "scores = dqn()\n",
        "\n",
        "# plot the scores\n",
        "fig = plt.figure()\n",
        "ax = fig.add_subplot(111)\n",
        "plt.plot(np.arange(len(scores)), scores)\n",
        "plt.ylabel('Score')\n",
        "plt.xlabel('Episode #')\n",
        "plt.show()"
      ],
      "execution_count": 6,
      "outputs": [
        {
          "output_type": "stream",
          "name": "stdout",
          "text": [
            "Episode 100\tAverage Score: -175.08\n",
            "Episode 200\tAverage Score: -119.87\n",
            "Episode 300\tAverage Score: -39.89\n",
            "Episode 400\tAverage Score: -46.59\n",
            "Episode 500\tAverage Score: -15.56\n",
            "Episode 600\tAverage Score: -2.12\n",
            "Episode 700\tAverage Score: 29.88\n",
            "Episode 790\tAverage Score: 200.80\n",
            "Environment solved in 690 episodes!\tAverage Score: 200.80\n"
          ]
        },
        {
          "output_type": "display_data",
          "data": {
            "image/png": "[encoded data removed]",
            "text/plain": [
              "<Figure size 432x288 with 1 Axes>"
            ]
          },
          "metadata": {
            "needs_background": "light"
          }
        }
      ]
    },
    {
      "cell_type": "markdown",
      "metadata": {
        "id": "gpJwVvXDQZZw"
      },
      "source": [
        "### 4. Watch a Smart Agent!\n",
        "\n",
        "In the next code cell, you will load the trained weights from file to watch a smart agent!"
      ]
    },
    {
      "cell_type": "code",
      "metadata": {
        "id": "Pc1BBWd1QZZx"
      },
      "source": [
        "# load the weights from file\n",
        "agent.qnetwork_local.load_state_dict(torch.load('checkpoint.pth'))\n",
        "\n",
        "for i in range(1):\n",
        "    state = env.reset()\n",
        "    prev_screen = env.render(mode='rgb_array')\n",
        "    plt.imshow(prev_screen)\n",
        "    for j in range(200):\n",
        "        action = agent.act(state)\n",
        "        state, reward, done, _ = env.step(action)\n",
        "        #env.render()\n",
        "        screen = env.render(mode='rgb_array')\n",
        "  \n",
        "        plt.imshow(screen)\n",
        "        ipythondisplay.clear_output(wait=True)\n",
        "        ipythondisplay.display(plt.gcf())\n",
        "        \n",
        "        if done:\n",
        "            break \n",
        "    ipythondisplay.clear_output(wait=True)    \n",
        "env.close()"
      ],
      "execution_count": null,
      "outputs": []
    },
    {
      "cell_type": "code",
      "source": [
        "#https://stackoverflow.com/questions/52726475/display-openai-gym-in-jupyter-notebook-only\n",
        "from gym import wrappers\n",
        "\n",
        "env = wrappers.Monitor(env, \"./gym-results\", force=True)\n",
        "env.reset()\n",
        "for _ in range(1000):\n",
        "    action = agent.act(state)\n",
        "    state, reward, done, _ = env.step(action)\n",
        "    if done: break\n",
        "env.close()"
      ],
      "metadata": {
        "id": "fRq1jaeezvht"
      },
      "execution_count": 24,
      "outputs": []
    },
    {
      "cell_type": "code",
      "source": [
        "import io\n",
        "import base64\n",
        "from IPython.display import HTML\n",
        "\n",
        "video = io.open('./gym-results/openaigym.video.%s.video000000.mp4' % env.file_infix, 'r+b').read()\n",
        "encoded = base64.b64encode(video)\n",
        "HTML(data='''\n",
        "    <video width=\"360\" height=\"auto\" alt=\"test\" controls><source src=\"data:video/mp4;base64,{0}\" type=\"video/mp4\" /></video>'''\n",
        ".format(encoded.decode('ascii')))"
      ],
      "metadata": {
        "colab": {
          "base_uri": "https://localhost:8080/",
          "height": 261
        },
        "id": "BfCByu5zz0vf",
        "outputId": "a851052f-f516-4631-d84d-5057c16568be"
      },
      "execution_count": 25,
      "outputs": [
        {
          "output_type": "execute_result",
          "data": {
            "text/html": [
              "\n",
              "    <video width=\"360\" height=\"auto\" alt=\"test\" controls><source src=\"data:video/mp4;base64,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\" type=\"video/mp4\" /></video>"
            ],
            "text/plain": [
              "<IPython.core.display.HTML object>"
            ]
          },
          "metadata": {},
          "execution_count": 25
        }
      ]
    },
    {
      "cell_type": "markdown",
      "metadata": {
        "id": "znRMHGZ9QZZy"
      },
      "source": [
        "### 5. Explore\n",
        "\n",
        "In this exercise, you have implemented a DQN agent and demonstrated how to use it to solve an OpenAI Gym environment.  To continue your learning, you are encouraged to complete any (or all!) of the following tasks:\n",
        "- Amend the various hyperparameters and network architecture to see if you can get your agent to solve the environment faster.  Once you build intuition for the hyperparameters that work well with this environment, try solving a different OpenAI Gym task with discrete actions!\n",
        "- You may like to implement some improvements such as prioritized experience replay, Double DQN, or Dueling DQN! \n",
        "- Write a blog post explaining the intuition behind the DQN algorithm and demonstrating how to use it to solve an RL environment of your choosing.  "
      ]
    }
  ]
}