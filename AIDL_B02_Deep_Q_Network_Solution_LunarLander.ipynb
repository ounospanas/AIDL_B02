{
  "nbformat": 4,
  "nbformat_minor": 0,
  "metadata": {
    "kernelspec": {
      "display_name": "Python 3",
      "name": "python3"
    },
    "language_info": {
      "codemirror_mode": {
        "name": "ipython",
        "version": 3
      },
      "file_extension": ".py",
      "mimetype": "text/x-python",
      "name": "python",
      "nbconvert_exporter": "python",
      "pygments_lexer": "ipython3",
      "version": "3.6.4"
    },
    "colab": {
      "name": "AIDL_B02_Deep_Q_Network_Solution_LunarLander.ipynb",
      "provenance": [],
      "gpuType": "T4",
      "include_colab_link": true
    },
    "accelerator": "GPU"
  },
  "cells": [
    {
      "cell_type": "markdown",
      "metadata": {
        "id": "view-in-github",
        "colab_type": "text"
      },
      "source": [
        "<a href=\"https://colab.research.google.com/github/ounospanas/AIDL_B02/blob/main/AIDL_B02_Deep_Q_Network_Solution_LunarLander.ipynb\" target=\"_parent\"><img src=\"https://colab.research.google.com/assets/colab-badge.svg\" alt=\"Open In Colab\"/></a>"
      ]
    },
    {
      "cell_type": "markdown",
      "metadata": {
        "id": "PxD_WbgoQZZd"
      },
      "source": [
        "# Deep Q-Network (DQN)\n",
        "---\n",
        "In this notebook, you will implement a DQN agent with OpenAI Gym's LunarLander-v2 environment.\n",
        "This is an edited version of the [original](://github.com/udacity/deep-reinforcement-learning/blob/master/dqn/solution/Deep_Q_Network_Solution.ipynb) .ipynb, enabling gym rendering in colab.\n",
        "\n",
        "### 1. Import the Necessary Packages"
      ]
    },
    {
      "cell_type": "code",
      "metadata": {
        "id": "RLsVmF-lQZZj",
        "colab": {
          "base_uri": "https://localhost:8080/"
        },
        "outputId": "c6baf9ed-36b2-4ab4-bd49-b6f19a5e4179"
      },
      "source": [
        "!sudo apt install swig\n",
        "!pip install box2d-py\n",
        "!pip install gym[Box_2D]\n",
        "!apt-get install -y xvfb x11-utils\n",
        "!pip install pyvirtualdisplay==0.2.*"
      ],
      "execution_count": 1,
      "outputs": [
        {
          "output_type": "stream",
          "name": "stdout",
          "text": [
            "Reading package lists... Done\n",
            "Building dependency tree... Done\n",
            "Reading state information... Done\n",
            "The following additional packages will be installed:\n",
            "  swig4.0\n",
            "Suggested packages:\n",
            "  swig-doc swig-examples swig4.0-examples swig4.0-doc\n",
            "The following NEW packages will be installed:\n",
            "  swig swig4.0\n",
            "0 upgraded, 2 newly installed, 0 to remove and 19 not upgraded.\n",
            "Need to get 1,116 kB of archives.\n",
            "After this operation, 5,542 kB of additional disk space will be used.\n",
            "Get:1 http://archive.ubuntu.com/ubuntu jammy/universe amd64 swig4.0 amd64 4.0.2-1ubuntu1 [1,110 kB]\n",
            "Get:2 http://archive.ubuntu.com/ubuntu jammy/universe amd64 swig all 4.0.2-1ubuntu1 [5,632 B]\n",
            "Fetched 1,116 kB in 2s (514 kB/s)\n",
            "debconf: unable to initialize frontend: Dialog\n",
            "debconf: (No usable dialog-like program is installed, so the dialog based frontend cannot be used. at /usr/share/perl5/Debconf/FrontEnd/Dialog.pm line 78, <> line 2.)\n",
            "debconf: falling back to frontend: Readline\n",
            "debconf: unable to initialize frontend: Readline\n",
            "debconf: (This frontend requires a controlling tty.)\n",
            "debconf: falling back to frontend: Teletype\n",
            "dpkg-preconfigure: unable to re-open stdin: \n",
            "Selecting previously unselected package swig4.0.\n",
            "(Reading database ... 120874 files and directories currently installed.)\n",
            "Preparing to unpack .../swig4.0_4.0.2-1ubuntu1_amd64.deb ...\n",
            "Unpacking swig4.0 (4.0.2-1ubuntu1) ...\n",
            "Selecting previously unselected package swig.\n",
            "Preparing to unpack .../swig_4.0.2-1ubuntu1_all.deb ...\n",
            "Unpacking swig (4.0.2-1ubuntu1) ...\n",
            "Setting up swig4.0 (4.0.2-1ubuntu1) ...\n",
            "Setting up swig (4.0.2-1ubuntu1) ...\n",
            "Processing triggers for man-db (2.10.2-1) ...\n",
            "Collecting box2d-py\n",
            "  Downloading box2d-py-2.3.8.tar.gz (374 kB)\n",
            "\u001b[2K     \u001b[90m━━━━━━━━━━━━━━━━━━━━━━━━━━━━━━━━━━━━━━━━\u001b[0m \u001b[32m374.5/374.5 kB\u001b[0m \u001b[31m3.9 MB/s\u001b[0m eta \u001b[36m0:00:00\u001b[0m\n",
            "\u001b[?25h  Preparing metadata (setup.py) ... \u001b[?25l\u001b[?25hdone\n",
            "Building wheels for collected packages: box2d-py\n",
            "  Building wheel for box2d-py (setup.py) ... \u001b[?25l\u001b[?25hdone\n",
            "  Created wheel for box2d-py: filename=box2d_py-2.3.8-cp310-cp310-linux_x86_64.whl size=2349116 sha256=122d51574de6d5fd98e18f0e2d10e828e6d1a7306bf941c236f227d2a6f30b64\n",
            "  Stored in directory: /root/.cache/pip/wheels/47/01/d2/6a780da77ccb98b1d2facdd520a8d10838a03b590f6f8d50c0\n",
            "Successfully built box2d-py\n",
            "Installing collected packages: box2d-py\n",
            "Successfully installed box2d-py-2.3.8\n",
            "Requirement already satisfied: gym[Box_2D] in /usr/local/lib/python3.10/dist-packages (0.25.2)\n",
            "\u001b[33mWARNING: gym 0.25.2 does not provide the extra 'box_2d'\u001b[0m\u001b[33m\n",
            "\u001b[0mRequirement already satisfied: numpy>=1.18.0 in /usr/local/lib/python3.10/dist-packages (from gym[Box_2D]) (1.23.5)\n",
            "Requirement already satisfied: cloudpickle>=1.2.0 in /usr/local/lib/python3.10/dist-packages (from gym[Box_2D]) (2.2.1)\n",
            "Requirement already satisfied: gym-notices>=0.0.4 in /usr/local/lib/python3.10/dist-packages (from gym[Box_2D]) (0.0.8)\n",
            "Reading package lists... Done\n",
            "Building dependency tree... Done\n",
            "Reading state information... Done\n",
            "The following additional packages will be installed:\n",
            "  libfontenc1 libxfont2 libxkbfile1 libxtst6 libxxf86dga1 x11-xkb-utils xfonts-base\n",
            "  xfonts-encodings xfonts-utils xserver-common\n",
            "Suggested packages:\n",
            "  mesa-utils\n",
            "The following NEW packages will be installed:\n",
            "  libfontenc1 libxfont2 libxkbfile1 libxtst6 libxxf86dga1 x11-utils x11-xkb-utils xfonts-base\n",
            "  xfonts-encodings xfonts-utils xserver-common xvfb\n",
            "0 upgraded, 12 newly installed, 0 to remove and 19 not upgraded.\n",
            "Need to get 8,045 kB of archives.\n",
            "After this operation, 12.8 MB of additional disk space will be used.\n",
            "Get:1 http://archive.ubuntu.com/ubuntu jammy/main amd64 libfontenc1 amd64 1:1.1.4-1build3 [14.7 kB]\n",
            "Get:2 http://archive.ubuntu.com/ubuntu jammy/main amd64 libxfont2 amd64 1:2.0.5-1build1 [94.5 kB]\n",
            "Get:3 http://archive.ubuntu.com/ubuntu jammy/main amd64 libxkbfile1 amd64 1:1.1.0-1build3 [71.8 kB]\n",
            "Get:4 http://archive.ubuntu.com/ubuntu jammy/main amd64 libxtst6 amd64 2:1.2.3-1build4 [13.4 kB]\n",
            "Get:5 http://archive.ubuntu.com/ubuntu jammy/main amd64 libxxf86dga1 amd64 2:1.1.5-0ubuntu3 [12.6 kB]\n",
            "Get:6 http://archive.ubuntu.com/ubuntu jammy/main amd64 x11-utils amd64 7.7+5build2 [206 kB]\n",
            "Get:7 http://archive.ubuntu.com/ubuntu jammy/main amd64 x11-xkb-utils amd64 7.7+5build4 [172 kB]\n",
            "Get:8 http://archive.ubuntu.com/ubuntu jammy/main amd64 xfonts-encodings all 1:1.0.5-0ubuntu2 [578 kB]\n",
            "Get:9 http://archive.ubuntu.com/ubuntu jammy/main amd64 xfonts-utils amd64 1:7.7+6build2 [94.6 kB]\n",
            "Get:10 http://archive.ubuntu.com/ubuntu jammy/main amd64 xfonts-base all 1:1.0.5 [5,896 kB]\n",
            "Get:11 http://archive.ubuntu.com/ubuntu jammy-updates/main amd64 xserver-common all 2:21.1.4-2ubuntu1.7~22.04.2 [28.1 kB]\n",
            "Get:12 http://archive.ubuntu.com/ubuntu jammy-updates/universe amd64 xvfb amd64 2:21.1.4-2ubuntu1.7~22.04.2 [864 kB]\n",
            "Fetched 8,045 kB in 3s (2,839 kB/s)\n",
            "Selecting previously unselected package libfontenc1:amd64.\n",
            "(Reading database ... 121627 files and directories currently installed.)\n",
            "Preparing to unpack .../00-libfontenc1_1%3a1.1.4-1build3_amd64.deb ...\n",
            "Unpacking libfontenc1:amd64 (1:1.1.4-1build3) ...\n",
            "Selecting previously unselected package libxfont2:amd64.\n",
            "Preparing to unpack .../01-libxfont2_1%3a2.0.5-1build1_amd64.deb ...\n",
            "Unpacking libxfont2:amd64 (1:2.0.5-1build1) ...\n",
            "Selecting previously unselected package libxkbfile1:amd64.\n",
            "Preparing to unpack .../02-libxkbfile1_1%3a1.1.0-1build3_amd64.deb ...\n",
            "Unpacking libxkbfile1:amd64 (1:1.1.0-1build3) ...\n",
            "Selecting previously unselected package libxtst6:amd64.\n",
            "Preparing to unpack .../03-libxtst6_2%3a1.2.3-1build4_amd64.deb ...\n",
            "Unpacking libxtst6:amd64 (2:1.2.3-1build4) ...\n",
            "Selecting previously unselected package libxxf86dga1:amd64.\n",
            "Preparing to unpack .../04-libxxf86dga1_2%3a1.1.5-0ubuntu3_amd64.deb ...\n",
            "Unpacking libxxf86dga1:amd64 (2:1.1.5-0ubuntu3) ...\n",
            "Selecting previously unselected package x11-utils.\n",
            "Preparing to unpack .../05-x11-utils_7.7+5build2_amd64.deb ...\n",
            "Unpacking x11-utils (7.7+5build2) ...\n",
            "Selecting previously unselected package x11-xkb-utils.\n",
            "Preparing to unpack .../06-x11-xkb-utils_7.7+5build4_amd64.deb ...\n",
            "Unpacking x11-xkb-utils (7.7+5build4) ...\n",
            "Selecting previously unselected package xfonts-encodings.\n",
            "Preparing to unpack .../07-xfonts-encodings_1%3a1.0.5-0ubuntu2_all.deb ...\n",
            "Unpacking xfonts-encodings (1:1.0.5-0ubuntu2) ...\n",
            "Selecting previously unselected package xfonts-utils.\n",
            "Preparing to unpack .../08-xfonts-utils_1%3a7.7+6build2_amd64.deb ...\n",
            "Unpacking xfonts-utils (1:7.7+6build2) ...\n",
            "Selecting previously unselected package xfonts-base.\n",
            "Preparing to unpack .../09-xfonts-base_1%3a1.0.5_all.deb ...\n",
            "Unpacking xfonts-base (1:1.0.5) ...\n",
            "Selecting previously unselected package xserver-common.\n",
            "Preparing to unpack .../10-xserver-common_2%3a21.1.4-2ubuntu1.7~22.04.2_all.deb ...\n",
            "Unpacking xserver-common (2:21.1.4-2ubuntu1.7~22.04.2) ...\n",
            "Selecting previously unselected package xvfb.\n",
            "Preparing to unpack .../11-xvfb_2%3a21.1.4-2ubuntu1.7~22.04.2_amd64.deb ...\n",
            "Unpacking xvfb (2:21.1.4-2ubuntu1.7~22.04.2) ...\n",
            "Setting up libxtst6:amd64 (2:1.2.3-1build4) ...\n",
            "Setting up libxxf86dga1:amd64 (2:1.1.5-0ubuntu3) ...\n",
            "Setting up libfontenc1:amd64 (1:1.1.4-1build3) ...\n",
            "Setting up xfonts-encodings (1:1.0.5-0ubuntu2) ...\n",
            "Setting up libxkbfile1:amd64 (1:1.1.0-1build3) ...\n",
            "Setting up libxfont2:amd64 (1:2.0.5-1build1) ...\n",
            "Setting up x11-xkb-utils (7.7+5build4) ...\n",
            "Setting up xfonts-utils (1:7.7+6build2) ...\n",
            "Setting up xfonts-base (1:1.0.5) ...\n",
            "Setting up x11-utils (7.7+5build2) ...\n",
            "Setting up xserver-common (2:21.1.4-2ubuntu1.7~22.04.2) ...\n",
            "Setting up xvfb (2:21.1.4-2ubuntu1.7~22.04.2) ...\n",
            "Processing triggers for man-db (2.10.2-1) ...\n",
            "Processing triggers for fontconfig (2.13.1-4.2ubuntu5) ...\n",
            "Processing triggers for libc-bin (2.35-0ubuntu3.1) ...\n",
            "/sbin/ldconfig.real: /usr/local/lib/libtbbbind_2_0.so.3 is not a symbolic link\n",
            "\n",
            "/sbin/ldconfig.real: /usr/local/lib/libtbb.so.12 is not a symbolic link\n",
            "\n",
            "/sbin/ldconfig.real: /usr/local/lib/libtbbbind.so.3 is not a symbolic link\n",
            "\n",
            "/sbin/ldconfig.real: /usr/local/lib/libtbbmalloc_proxy.so.2 is not a symbolic link\n",
            "\n",
            "/sbin/ldconfig.real: /usr/local/lib/libtbbbind_2_5.so.3 is not a symbolic link\n",
            "\n",
            "/sbin/ldconfig.real: /usr/local/lib/libtbbmalloc.so.2 is not a symbolic link\n",
            "\n",
            "Collecting pyvirtualdisplay==0.2.*\n",
            "  Downloading PyVirtualDisplay-0.2.5-py2.py3-none-any.whl (13 kB)\n",
            "Collecting EasyProcess (from pyvirtualdisplay==0.2.*)\n",
            "  Downloading EasyProcess-1.1-py3-none-any.whl (8.7 kB)\n",
            "Installing collected packages: EasyProcess, pyvirtualdisplay\n",
            "Successfully installed EasyProcess-1.1 pyvirtualdisplay-0.2.5\n"
          ]
        }
      ]
    },
    {
      "cell_type": "code",
      "source": [
        "import gym\n",
        "import random\n",
        "import torch\n",
        "import numpy as np\n",
        "from collections import deque\n",
        "import matplotlib.pyplot as plt\n",
        "%matplotlib inline\n",
        "\n",
        "from gym.wrappers.monitoring.video_recorder import VideoRecorder\n",
        "from IPython import display as ipythondisplay\n",
        "from pyvirtualdisplay import Display"
      ],
      "metadata": {
        "id": "PELqVdYuE4Da"
      },
      "execution_count": 2,
      "outputs": []
    },
    {
      "cell_type": "markdown",
      "metadata": {
        "id": "1Q5-_lmKQZZl"
      },
      "source": [
        "### 2. Instantiate the Environment and Agent\n",
        "\n",
        "Initialize the environment in the code cell below."
      ]
    },
    {
      "cell_type": "code",
      "metadata": {
        "id": "GQQKo9k5QZZq",
        "outputId": "0be933d4-2f60-4d35-9882-813b280c5802",
        "colab": {
          "base_uri": "https://localhost:8080/"
        }
      },
      "source": [
        "env = gym.make('LunarLander-v2')\n",
        "env.seed(0)\n",
        "print('State shape: ', env.observation_space.shape)\n",
        "print('Number of actions: ', env.action_space.n)"
      ],
      "execution_count": 3,
      "outputs": [
        {
          "output_type": "stream",
          "name": "stdout",
          "text": [
            "State shape:  (8,)\n",
            "Number of actions:  4\n"
          ]
        },
        {
          "output_type": "stream",
          "name": "stderr",
          "text": [
            "/usr/local/lib/python3.10/dist-packages/gym/core.py:317: DeprecationWarning: \u001b[33mWARN: Initializing wrapper in old step API which returns one bool instead of two. It is recommended to set `new_step_api=True` to use new step API. This will be the default behaviour in future.\u001b[0m\n",
            "  deprecation(\n",
            "/usr/local/lib/python3.10/dist-packages/gym/wrappers/step_api_compatibility.py:39: DeprecationWarning: \u001b[33mWARN: Initializing environment in old step API which returns one bool instead of two. It is recommended to set `new_step_api=True` to use new step API. This will be the default behaviour in future.\u001b[0m\n",
            "  deprecation(\n",
            "/usr/local/lib/python3.10/dist-packages/gym/core.py:256: DeprecationWarning: \u001b[33mWARN: Function `env.seed(seed)` is marked as deprecated and will be removed in the future. Please use `env.reset(seed=seed)` instead.\u001b[0m\n",
            "  deprecation(\n"
          ]
        }
      ]
    },
    {
      "cell_type": "markdown",
      "source": [
        "# Game Info"
      ],
      "metadata": {
        "id": "EGagFtjnZr1f"
      }
    },
    {
      "cell_type": "markdown",
      "source": [
        "Landing pad is always at coordinates (0,0). Coordinates are the first two numbers in state vector. Reward for moving from the top of the screen to landing pad and zero speed is about 100..140 points. If lander moves away from landing pad it loses reward back. Episode finishes if the lander crashes or comes to rest, receiving additional -100 or +100 points. Each leg ground contact is +10. Firing main engine is -0.3 points each frame. Solved is 200 points. Landing outside landing pad is possible. Fuel is infinite, so an agent can learn to fly and then land on its first attempt."
      ],
      "metadata": {
        "id": "HyEn6FepR4Ar"
      }
    },
    {
      "cell_type": "markdown",
      "source": [
        "State space:\n",
        "\n",
        "*   x coordinate of the lander\n",
        "*   y coordinate of the lander\n",
        "*   vx, the horizontal velocity\n",
        "*   vy, the vertical velocity\n",
        "*   θ, the orientation in space\n",
        "*   vθ, the angular velocity\n",
        "*   Left leg touching the ground (Boolean)\n",
        "*   Right leg touching the ground (Boolean)\n",
        "\n"
      ],
      "metadata": {
        "id": "Ioio7TWNSGhF"
      }
    },
    {
      "cell_type": "markdown",
      "source": [
        "Discrete actions space:\n",
        "1.   do nothing\n",
        "2.   fire left orientation engine\n",
        "3.   fire main engine,\n",
        "4.   fire right orientation engine.\n",
        "\n"
      ],
      "metadata": {
        "id": "EAp8kj-CIyLb"
      }
    },
    {
      "cell_type": "code",
      "source": [
        "import torch\n",
        "import torch.nn as nn\n",
        "import torch.nn.functional as F\n",
        "\n",
        "class QNetwork(nn.Module):\n",
        "    \"\"\"Actor (Policy) Model.\"\"\"\n",
        "\n",
        "    def __init__(self, state_size, action_size, seed, fc1_units=64, fc2_units=64):\n",
        "        \"\"\"Initialize parameters and build model.\n",
        "        Params\n",
        "        ======\n",
        "            state_size (int): Dimension of each state\n",
        "            action_size (int): Dimension of each action\n",
        "            seed (int): Random seed\n",
        "            fc1_units (int): Number of nodes in first hidden layer\n",
        "            fc2_units (int): Number of nodes in second hidden layer\n",
        "        \"\"\"\n",
        "        super(QNetwork, self).__init__()\n",
        "        self.seed = torch.manual_seed(seed)\n",
        "        self.fc1 = nn.Linear(state_size, fc1_units)\n",
        "        self.fc2 = nn.Linear(fc1_units, fc2_units)\n",
        "        self.fc3 = nn.Linear(fc2_units, action_size)\n",
        "\n",
        "    def forward(self, state):\n",
        "        \"\"\"Build a network that maps state -> action values.\"\"\"\n",
        "        x = F.relu(self.fc1(state))\n",
        "        x = F.relu(self.fc2(x))\n",
        "        return self.fc3(x)"
      ],
      "metadata": {
        "id": "v5iObkmuJWND"
      },
      "execution_count": 4,
      "outputs": []
    },
    {
      "cell_type": "code",
      "source": [
        "from collections import namedtuple\n",
        "\n",
        "import torch\n",
        "import torch.nn.functional as F\n",
        "import torch.optim as optim\n",
        "\n",
        "BUFFER_SIZE = int(1e5)  # replay buffer size\n",
        "BATCH_SIZE = 64         # minibatch size\n",
        "GAMMA = 0.99            # discount factor\n",
        "TAU = 1e-3              # for soft update of target parameters\n",
        "LR = 5e-4               # learning rate\n",
        "UPDATE_EVERY = 4        # how often to update the network\n",
        "\n",
        "device = torch.device(\"cuda:0\" if torch.cuda.is_available() else \"cpu\")\n",
        "\n",
        "class Agent():\n",
        "    \"\"\"Interacts with and learns from the environment.\"\"\"\n",
        "\n",
        "    def __init__(self, state_size, action_size, seed):\n",
        "        \"\"\"Initialize an Agent object.\n",
        "\n",
        "        Params\n",
        "        ======\n",
        "            state_size (int): dimension of each state\n",
        "            action_size (int): dimension of each action\n",
        "            seed (int): random seed\n",
        "        \"\"\"\n",
        "        self.state_size = state_size\n",
        "        self.action_size = action_size\n",
        "        self.seed = random.seed(seed)\n",
        "\n",
        "        # Q-Network\n",
        "        self.qnetwork_local = QNetwork(state_size, action_size, seed).to(device)\n",
        "        self.qnetwork_target = QNetwork(state_size, action_size, seed).to(device)\n",
        "        self.optimizer = optim.Adam(self.qnetwork_local.parameters(), lr=LR)\n",
        "\n",
        "        # Replay memory\n",
        "        self.memory = ReplayBuffer(action_size, BUFFER_SIZE, BATCH_SIZE, seed)\n",
        "        # Initialize time step (for updating every UPDATE_EVERY steps)\n",
        "        self.t_step = 0\n",
        "\n",
        "    def step(self, state, action, reward, next_state, done):\n",
        "        # Save experience in replay memory\n",
        "        self.memory.add(state, action, reward, next_state, done)\n",
        "\n",
        "        # Learn every UPDATE_EVERY time steps.\n",
        "        self.t_step = (self.t_step + 1) % UPDATE_EVERY\n",
        "        if self.t_step == 0:\n",
        "            # If enough samples are available in memory, get random subset and learn\n",
        "            if len(self.memory) > BATCH_SIZE:\n",
        "                experiences = self.memory.sample()\n",
        "                self.learn(experiences, GAMMA)\n",
        "\n",
        "    def act(self, state, eps=0.):\n",
        "        \"\"\"Returns actions for given state as per current policy.\n",
        "\n",
        "        Params\n",
        "        ======\n",
        "            state (array_like): current state\n",
        "            eps (float): epsilon, for epsilon-greedy action selection\n",
        "        \"\"\"\n",
        "        state = torch.from_numpy(state).float().unsqueeze(0).to(device) #prepare input data\n",
        "        self.qnetwork_local.eval()\n",
        "        with torch.no_grad():\n",
        "            action_values = self.qnetwork_local(state)\n",
        "        self.qnetwork_local.train()\n",
        "\n",
        "        # Epsilon-greedy action selection\n",
        "        if random.random() > eps:\n",
        "            return np.argmax(action_values.cpu().data.numpy())\n",
        "        else:\n",
        "            return random.choice(np.arange(self.action_size))\n",
        "\n",
        "    def learn(self, experiences, gamma):\n",
        "        \"\"\"Update value parameters using given batch of experience tuples.\n",
        "        Params\n",
        "        ======\n",
        "            experiences (Tuple[torch.Tensor]): tuple of (s, a, r, s', done) tuples\n",
        "            gamma (float): discount factor\n",
        "        \"\"\"\n",
        "        states, actions, rewards, next_states, dones = experiences\n",
        "\n",
        "        # set to zero the grads\n",
        "        self.optimizer.zero_grad()\n",
        "\n",
        "        # Get max predicted Q values (for next states) from target model\n",
        "        Q_targets_next = self.qnetwork_target(next_states).detach().max(1)[0].unsqueeze(1) # detach it from the computation graph\n",
        "        # Compute Q targets for current states\n",
        "        Q_targets = rewards + (gamma * Q_targets_next * (1 - dones))\n",
        "\n",
        "        # Get expected Q values from local model\n",
        "        Q_expected = self.qnetwork_local(states).gather(1, actions) # gather the values along an 1 axis\n",
        "\n",
        "        # Compute loss\n",
        "        loss = F.mse_loss(Q_expected, Q_targets)\n",
        "        # Minimize the loss\n",
        "        loss.backward()\n",
        "        self.optimizer.step()\n",
        "\n",
        "        # ------------------- update target network ------------------- #\n",
        "        self.soft_update(self.qnetwork_local, self.qnetwork_target, TAU)\n",
        "\n",
        "    def soft_update(self, local_model, target_model, tau):\n",
        "        \"\"\"Soft update model parameters.\n",
        "        θ_target = τ*θ_local + (1 - τ)*θ_target\n",
        "        Params\n",
        "        ======\n",
        "            local_model (PyTorch model): weights will be copied from\n",
        "            target_model (PyTorch model): weights will be copied to\n",
        "            tau (float): interpolation parameter\n",
        "        \"\"\"\n",
        "        for target_param, local_param in zip(target_model.parameters(), local_model.parameters()):\n",
        "            target_param.data.copy_(tau*local_param.data + (1.0-tau)*target_param.data)\n",
        "\n",
        "\n",
        "class ReplayBuffer:\n",
        "    \"\"\"Fixed-size buffer to store experience tuples.\"\"\"\n",
        "\n",
        "    def __init__(self, action_size, buffer_size, batch_size, seed):\n",
        "        \"\"\"Initialize a ReplayBuffer object.\n",
        "        Params\n",
        "        ======\n",
        "            action_size (int): dimension of each action\n",
        "            buffer_size (int): maximum size of buffer\n",
        "            batch_size (int): size of each training batch\n",
        "            seed (int): random seed\n",
        "        \"\"\"\n",
        "        self.action_size = action_size\n",
        "        self.memory = deque(maxlen=buffer_size)\n",
        "        self.batch_size = batch_size\n",
        "        self.experience = namedtuple(\"Experience\", field_names=[\"state\", \"action\", \"reward\", \"next_state\", \"done\"])\n",
        "        self.seed = random.seed(seed)\n",
        "\n",
        "    def add(self, state, action, reward, next_state, done):\n",
        "        \"\"\"Add a new experience to memory.\"\"\"\n",
        "        e = self.experience(state, action, reward, next_state, done)\n",
        "        self.memory.append(e)\n",
        "\n",
        "    def sample(self):\n",
        "        \"\"\"Randomly sample a batch of experiences from memory.\"\"\"\n",
        "        experiences = random.sample(self.memory, k=self.batch_size)\n",
        "\n",
        "        states = torch.from_numpy(np.vstack([e.state for e in experiences if e is not None])).float().to(device)\n",
        "        actions = torch.from_numpy(np.vstack([e.action for e in experiences if e is not None])).long().to(device)\n",
        "        rewards = torch.from_numpy(np.vstack([e.reward for e in experiences if e is not None])).float().to(device)\n",
        "        next_states = torch.from_numpy(np.vstack([e.next_state for e in experiences if e is not None])).float().to(device)\n",
        "        dones = torch.from_numpy(np.vstack([e.done for e in experiences if e is not None]).astype(np.uint8)).float().to(device)\n",
        "\n",
        "        return (states, actions, rewards, next_states, dones)\n",
        "\n",
        "    def __len__(self):\n",
        "        \"\"\"Return the current size of internal memory.\"\"\"\n",
        "        return len(self.memory)"
      ],
      "metadata": {
        "id": "WyZ4Q5nxJI4_"
      },
      "execution_count": 5,
      "outputs": []
    },
    {
      "cell_type": "code",
      "source": [
        "agent = Agent(state_size=8, action_size=4, seed=0)"
      ],
      "metadata": {
        "id": "EC7wXZD1hqE3"
      },
      "execution_count": 6,
      "outputs": []
    },
    {
      "cell_type": "markdown",
      "metadata": {
        "id": "_oeCIVToQZZt"
      },
      "source": [
        "### 3. Train the Agent with DQN\n",
        "\n",
        "Run the code cell below to train the agent from scratch.  You are welcome to amend the supplied values of the parameters in the function, to try to see if you can get better performance!\n",
        "\n",
        "Alternatively, you can skip to the next step below (**4. Watch a Smart Agent!**), to load the saved model weights from a pre-trained agent."
      ]
    },
    {
      "cell_type": "code",
      "metadata": {
        "id": "F_hwnANiQZZu",
        "outputId": "47a562f3-5d84-426f-d618-a2fbcf7ab9c8",
        "colab": {
          "base_uri": "https://localhost:8080/",
          "height": 570
        }
      },
      "source": [
        "def dqn(n_episodes=2000, max_t=1000, eps_start=1.0, eps_end=0.01, eps_decay=0.995):\n",
        "    \"\"\"Deep Q-Learning.\n",
        "\n",
        "    Params\n",
        "    ======\n",
        "        n_episodes (int): maximum number of training episodes\n",
        "        max_t (int): maximum number of timesteps per episode\n",
        "        eps_start (float): starting value of epsilon, for epsilon-greedy action selection\n",
        "        eps_end (float): minimum value of epsilon\n",
        "        eps_decay (float): multiplicative factor (per episode) for decreasing epsilon\n",
        "    \"\"\"\n",
        "    scores = []                        # list containing scores from each episode\n",
        "    scores_window = deque(maxlen=100)  # last 100 scores\n",
        "    eps = eps_start                    # initialize epsilon\n",
        "    for i_episode in range(1, n_episodes+1):\n",
        "        state = env.reset()\n",
        "        score = 0\n",
        "        for t in range(max_t):\n",
        "            action = agent.act(state, eps)\n",
        "            next_state, reward, done, _ = env.step(action)\n",
        "            agent.step(state, action, reward, next_state, done)\n",
        "            state = next_state\n",
        "            score += reward\n",
        "            if done:\n",
        "                break\n",
        "        scores_window.append(score)       # save most recent score\n",
        "        scores.append(score)              # save most recent score\n",
        "        eps = max(eps_end, eps_decay*eps) # decrease epsilon\n",
        "        print('\\rEpisode {}\\tAverage Score: {:.2f}'.format(i_episode, np.mean(scores_window)), end=\"\")\n",
        "        if i_episode % 100 == 0:\n",
        "            print('\\rEpisode {}\\tAverage Score: {:.2f}'.format(i_episode, np.mean(scores_window)))\n",
        "        if np.mean(scores_window)>=200.0:\n",
        "            print('\\nEnvironment solved in {:d} episodes!\\tAverage Score: {:.2f}'.format(i_episode-100, np.mean(scores_window)))\n",
        "            torch.save(agent.qnetwork_local.state_dict(), 'checkpoint.pth')\n",
        "            break\n",
        "    return scores\n",
        "\n",
        "scores = dqn()\n",
        "\n",
        "# plot the scores\n",
        "fig = plt.figure()\n",
        "ax = fig.add_subplot(111)\n",
        "plt.plot(np.arange(len(scores)), scores)\n",
        "plt.ylabel('Score')\n",
        "plt.xlabel('Episode #')\n",
        "plt.show()"
      ],
      "execution_count": 7,
      "outputs": [
        {
          "output_type": "stream",
          "name": "stdout",
          "text": [
            "Episode 100\tAverage Score: -164.29\n",
            "Episode 200\tAverage Score: -113.19\n",
            "Episode 300\tAverage Score: -49.61\n",
            "Episode 400\tAverage Score: -16.79\n",
            "Episode 500\tAverage Score: 129.39\n",
            "Episode 551\tAverage Score: 200.98\n",
            "Environment solved in 451 episodes!\tAverage Score: 200.98\n"
          ]
        },
        {
          "output_type": "display_data",
          "data": {
            "text/plain": [
              "<Figure size 640x480 with 1 Axes>"
            ],
            "image/png": "[encoded data removed]"
          },
          "metadata": {}
        }
      ]
    },
    {
      "cell_type": "markdown",
      "metadata": {
        "id": "gpJwVvXDQZZw"
      },
      "source": [
        "### 4. Watch a Smart Agent!\n",
        "\n",
        "In the next code cell, you will load the trained weights from file to watch a smart agent!"
      ]
    },
    {
      "cell_type": "code",
      "source": [
        "# load the weights from file\n",
        "agent.qnetwork_local.load_state_dict(torch.load('checkpoint.pth'))"
      ],
      "metadata": {
        "colab": {
          "base_uri": "https://localhost:8080/"
        },
        "id": "trUMtgqoj6UQ",
        "outputId": "5f98835a-bead-4981-8e55-863718344946"
      },
      "execution_count": 8,
      "outputs": [
        {
          "output_type": "execute_result",
          "data": {
            "text/plain": [
              "<All keys matched successfully>"
            ]
          },
          "metadata": {},
          "execution_count": 8
        }
      ]
    },
    {
      "cell_type": "code",
      "source": [
        "# used code from https://www.anyscale.com/blog/an-introduction-to-reinforcement-learning-with-openai-gym-rllib-and-google\n",
        "# for the video saving and display\n",
        "\n",
        "before_training = \"trained.mp4\"\n",
        "\n",
        "video = VideoRecorder(env, before_training)\n",
        "# returns an initial observation\n",
        "state = env.reset()\n",
        "score = 0\n",
        "for i in range(1000):\n",
        "  env.render()\n",
        "  video.capture_frame()\n",
        "  # env.action_space.sample() produces either 0 (left) or 1 (right).\n",
        "  action = agent.act(state)\n",
        "  state, reward, done, _ = env.step(action)\n",
        "  score += reward\n",
        "  if done:\n",
        "    break\n",
        "\n",
        "video.close()\n",
        "env.close()\n",
        "\n",
        "print(\"Total score was\", score)"
      ],
      "metadata": {
        "id": "4svgmZdDDoGZ",
        "outputId": "0d9c79c2-d536-4244-87c4-39128d113712",
        "colab": {
          "base_uri": "https://localhost:8080/"
        }
      },
      "execution_count": 9,
      "outputs": [
        {
          "output_type": "stream",
          "name": "stderr",
          "text": [
            "/usr/local/lib/python3.10/dist-packages/gym/wrappers/monitoring/video_recorder.py:78: DeprecationWarning: \u001b[33mWARN: Recording ability for environment LunarLander-v2 initialized with `render_mode=None` is marked as deprecated and will be removed in the future.\u001b[0m\n",
            "  logger.deprecation(\n",
            "/usr/local/lib/python3.10/dist-packages/gym/wrappers/monitoring/video_recorder.py:101: DeprecationWarning: \u001b[33mWARN: <class 'gym.wrappers.monitoring.video_recorder.VideoRecorder'> is marked as deprecated and will be removed in the future.\u001b[0m\n",
            "  logger.deprecation(\n",
            "/usr/local/lib/python3.10/dist-packages/gym/core.py:49: DeprecationWarning: \u001b[33mWARN: You are calling render method, but you didn't specified the argument render_mode at environment initialization. To maintain backward compatibility, the environment will render in human mode.\n",
            "If you want to render in human mode, initialize the environment in this way: gym.make('EnvName', render_mode='human') and don't call the render method.\n",
            "See here for more information: https://www.gymlibrary.ml/content/api/\u001b[0m\n",
            "  deprecation(\n",
            "/usr/local/lib/python3.10/dist-packages/gym/core.py:43: DeprecationWarning: \u001b[33mWARN: The argument mode in render method is deprecated; use render_mode during environment initialization instead.\n",
            "See here for more information: https://www.gymlibrary.ml/content/api/\u001b[0m\n",
            "  deprecation(\n",
            "/usr/local/lib/python3.10/dist-packages/gym/core.py:49: DeprecationWarning: \u001b[33mWARN: You are calling render method, but you didn't specified the argument render_mode at environment initialization. To maintain backward compatibility, the environment will render in human mode.\n",
            "If you want to render in human mode, initialize the environment in this way: gym.make('EnvName', render_mode='human') and don't call the render method.\n",
            "See here for more information: https://www.gymlibrary.ml/content/api/\u001b[0m\n",
            "  deprecation(\n",
            "/usr/local/lib/python3.10/dist-packages/gym/core.py:43: DeprecationWarning: \u001b[33mWARN: The argument mode in render method is deprecated; use render_mode during environment initialization instead.\n",
            "See here for more information: https://www.gymlibrary.ml/content/api/\u001b[0m\n",
            "  deprecation(\n"
          ]
        },
        {
          "output_type": "stream",
          "name": "stdout",
          "text": [
            "Total score was 308.3454307734696\n"
          ]
        }
      ]
    },
    {
      "cell_type": "code",
      "source": [
        "from base64 import b64encode\n",
        "def render_mp4(videopath: str) -> str:\n",
        "  \"\"\"\n",
        "  Gets a string containing a b4-encoded version of the MP4 video\n",
        "  at the specified path.\n",
        "  \"\"\"\n",
        "  mp4 = open(videopath, 'rb').read()\n",
        "  base64_encoded_mp4 = b64encode(mp4).decode()\n",
        "  return f'<video width=400 controls><source src=\"data:video/mp4;' \\\n",
        "         f'base64,{base64_encoded_mp4}\" type=\"video/mp4\"></video>'"
      ],
      "metadata": {
        "id": "YAY-i95WGD7G",
        "outputId": "eb703be9-739a-4204-c763-4c4caa918a14",
        "colab": {
          "base_uri": "https://localhost:8080/"
        }
      },
      "execution_count": 10,
      "outputs": [
        {
          "output_type": "stream",
          "name": "stderr",
          "text": [
            "/usr/local/lib/python3.10/dist-packages/ipykernel/ipkernel.py:283: DeprecationWarning: `should_run_async` will not call `transform_cell` automatically in the future. Please pass the result to `transformed_cell` argument and any exception that happen during thetransform in `preprocessing_exc_tuple` in IPython 7.17 and above.\n",
            "  and should_run_async(code)\n"
          ]
        }
      ]
    },
    {
      "cell_type": "code",
      "source": [
        "from IPython.display import HTML\n",
        "html = render_mp4(before_training)\n",
        "HTML(html)"
      ],
      "metadata": {
        "id": "Fz1GSCDHGKSo",
        "outputId": "34f63f5d-9eb0-4239-c808-e67ab8c7cefb",
        "colab": {
          "base_uri": "https://localhost:8080/",
          "height": 288
        }
      },
      "execution_count": 11,
      "outputs": [
        {
          "output_type": "execute_result",
          "data": {
            "text/plain": [
              "<IPython.core.display.HTML object>"
            ],
            "text/html": [
              "<video width=400 controls><source src=\"data:video/mp4;base64,AAAAIGZ0eXBpc29tAAACAGlzb21pc28yYXZjMW1wNDEAAAAIZnJlZQAAm3dtZGF0AAACrgYF//+q3EXpvebZSLeWLNgg2SPu73gyNjQgLSBjb3JlIDE2MyByMzA2MCA1ZGI2YWE2IC0gSC4yNjQvTVBFRy00IEFWQyBjb2RlYyAtIENvcHlsZWZ0IDIwMDMtMjAyMSAtIGh0dHA6Ly93d3cudmlkZW9sYW4ub3JnL3gyNjQuaHRtbCAtIG9wdGlvbnM6IGNhYmFjPTEgcmVmPTMgZGVibG9jaz0xOjA6MCBhbmFseXNlPTB4MzoweDExMyBtZT1oZXggc3VibWU9NyBwc3k9MSBwc3lfcmQ9MS4wMDowLjAwIG1peGVkX3JlZj0xIG1lX3JhbmdlPTE2IGNocm9tYV9tZT0xIHRyZWxsaXM9MSA4eDhkY3Q9MSBjcW09MCBkZWFkem9uZT0yMSwxMSBmYXN0X3Bza2lwPTEgY2hyb21hX3FwX29mZnNldD0tMiB0aHJlYWRzPTMgbG9va2FoZWFkX3RocmVhZHM9MSBzbGljZWRfdGhyZWFkcz0wIG5yPTAgZGVjaW1hdGU9MSBpbnRlcmxhY2VkPTAgYmx1cmF5X2NvbXBhdD0wIGNvbnN0cmFpbmVkX2ludHJhPTAgYmZyYW1lcz0zIGJfcHlyYW1pZD0yIGJfYWRhcHQ9MSBiX2JpYXM9MCBkaXJlY3Q9MSB3ZWlnaHRiPTEgb3Blbl9nb3A9MCB3ZWlnaHRwPTIga2V5aW50PTI1MCBrZXlpbnRfbWluPTI1IHNjZW5lY3V0PTQwIGludHJhX3JlZnJlc2g9MCByY19sb29rYWhlYWQ9NDAgcmM9Y3JmIG1idHJlZT0xIGNyZj0yMy4wIHFjb21wPTAuNjAgcXBtaW49MCBxcG1heD02OSBxcHN0ZXA9NCBpcF9yYXRpbz0xLjQwIGFxPTE6MS4wMACAAAAFu2WIhAAz//727L4FNhTIUJcRLMXaSnA+KqSAgHc02r/DTtv8ARlqIWu9Q0wCnhJHVbHz0dvuK54llQKcL+2Kau/lw+kCRfba86ZrOgbzhCB8Uegk3AXRHPp5NmipVTkqrgkq8Zqjgh88cbEmAPGLuJ+x6BBT35HXpRdfLPzKNf2P57rsSmi12oucBM1tZ4MrWDn7P3Xg4Uzf5JvlmqMHTZunrGrHYlY/+daZEZU2Sc57bwqnh7YYVxEjnFLGdd2PJjhvlhC8Z1G1snbgAAADAAADAyXd909eFvnXjunIH7xAAGUD+nogHaGFGOHMI4PYbw5RukOLoC8FT3Lm2WvjX3LWe5uGH7FIBWJo1gYKesohhDCMhy1L52Xm4gPbCv1WPOlAIb3sG88JHnKoxBLO28Y0aFsIJPJSzzyz7txSaf91LsgKO4LAdQVhrYoF4utC2s8XB3KeqFhgcpRqsl6BSh10kW1j/B2ZO2uyvMMEvGnrunwRDubx0UgcE7yCBxyjo6lpCeq9zqxaNorAdQ3C/nZoBjjTFB3TU837jLuk2JOszVQ2aLSkkwSAobTo0dWHrb/LS+UiDxXK3oR093LlYg6/lv25EAGz9xJBgfMEv+VRK8H6qOI61eerxdbIibsPDts0jTRmABj8yAx2sfVG3jaXt6kPoTlYcRy03XITf2hkDNUm+w53lDmJa2zaDdPiglLL5X3CqV2m4vXou6q7vRXPtRgaW65lNc35kFF9ZZGHXjpdcpdO2Sxj0LUGravg2dIyoxLSknbInAp131IwbM+ISdC1EjyKdd1Xc8+yZ+2x5ByGCrrXj+LE49H/4KepYtGUY8+qVU4+I1BXeiyHaGhGVqqKlcorz0zBc1ewHQT5nZZoRgt6DE+EMjBoGkphR7V44vjZwKVZgmCVrOgTtz8BDPWje0GAk/tsgxQowcWzwyphopgavdqWI1QO3DyRLPKFzIBYE9YjBRgH58l5GpHoWWuHPioGL+lG8Pb+K+1xm1jZoVK4Cw5EvEXOC+zlR2IgrflwmkjUxfIAKgXwp43AL10Or4voncTmRQLSRecieBm3BZ9/5N7sHUE4RMYrBw9kP5WoyKpObSXijeuNQStrSMpvxilHT1+pA64hhSwYGV8Lq4O8znuAmv7GCwaThGT2ohMrwPRqZecAQg3Uwtb3VaoT8Grl5a3s+1MSuXq67bZBuv9fs59cfmL64cRWezX5xkATQIyNeq5ZiUdk3DzjdcZ+cWCOJc/5DpY+W+3gEkK7SQ/VOOaSbLTEBfIa2va7F1PR6QyY5tJGOiF/p05skNmsxfJmZPNd/8lO51QrXCT75gxDEP9jDKjZwFqephEdlLx0ILNg4X3LpPjrPYhxD7Z94gatuhxJ/lDUqu2E/S2RmgHEqOd7gOzKjEXiqEcBV6Dzswi1VeT38oASjJRvm6SZgndu74GNkpR1YLKuYLLMyZRt4WZItnB+GjIxUjbcMM3TlkZXsIHew4YH8NcdC0hNw2Pw/p/loYcfaMkUyfwb/iAMdtTFWONavtST+dj+8yVYIUoR/2jjiMz54wyPBSrGPxgX/S4XiAEDpMUkytmCf5x5pLb6JjyozRafVhlCgDhd9zAtlBm6PbKB1kkBK7MUZ1j1mPahwtPrQd1eLfcAjZLscUlCV5f/fOGA+q6t3zWWUUHwS+0xA0si565GXxXw8tI3+mJI8r+jD9U7u1t6KR7B6m0yUAit1PcerckGQVUea4rPffqjJbld8BpOR0TyAtZwDTXAchI89F+rS/vsUhgqFycEGQrgvHvPhgMv89wYOSKd2YSygEZq00JWATJNTTcRRjaSPVVNRG2l7dDsLI1ZneX7gSE7gA5/+4HnUY2tPrEvEoc96r4dtn3YiWsTWMuBy7xIcqu0KTbuq1dp0t3VDEHWBndDjREIH///KkeFfeitVpiL8AdzHKHJAABaAAADAAAFvQAAARdBmiRsQz/+ni3Y/S9TvrVaAACs2SGC6k1XkxINz2CbMM+14k8AWCOEbMq4LZlvqQ3AzEBRLJ7vOFrmaZWdsBQL1Jp4AAADAB+sjd22pVIBU0MkUEeXNIc5ljJRe5y/cBK6i1dtBt1P0AyGOAiwETNIPTTzwhSPzFTFPTprK++qqcwinPPPVhUEoRYqB0vnuabmjxvON5nbrpYOnx9qEEQVof8WEyjmMWAP8oPuMX7L7GC3dvMHr/fwYS3RK6V1cpnEQkOgrfat8UjO39vuARE64TVv3cZcGUryvXcdRQQ4ZJNZ+3546X/jyBMAB+P+u+v6jx4vf3tOPmGbQIPQDEGV79ht7PzR2T6QOCe3oj8ARHzKqNqwB+QAAABaQZ5CeIR/D2iJa9/u9qF0QogZRCH0lzlL5SWU6p9AAXIqiT1P78JQHTMYktLrcUYyQAbDDG4VKsvkNYZp+ravnZpg/gm464pwLbGS/TxptthRwfRThnLfQBSRAAAARQGeYXRH/xTq+Yeay0EY/KhBp4IHvPLjB9kAATrLYLYuYYTwAEqu/nbihEEg59nzJHewJ2IlKwG6M5lepdX4ITx/EIBZQAAAADwBnmNqR/8TNOvmdgMY+cZLBjJ3Uu7gAOHx5J62TYRFxsnqp94/6tQ4qjgtVU8a7BzvAkkHEm7ftfnoArcAAACVQZpoSahBaJlMCF///ozGveyyR3mcEpyFkDEx4H6lsU11sF8v8DMrRKFF+PZpD5AgSsdXjzVG5rY6CsMe4/t7XAUyupNTfvZGY49BPS3UUKHzk2qzslPprsjcCepFwAAVYui7ttSqerJ8OvLyP1v9B+L8gZ/IdVPpzMrFKhBX9lGVvKj4txKx6i66dE2c+Eti+m4cCXkAAABKQZ6GRREsI/8N+xHatgvOhRM/X9OYnW1AzNgAXUA8L61PVQS9gAMI6OvJCbhHGV3KtvQKrX6L7HTPJ4tCEJVwCbPBk4oe2GjwB4UAAAA+AZ6ldEf/Ety3L64rXE9NNd0vf2idEZTWb0AJNJprgADTb4BlnzZAni2e0qL2cda12NbsB/wcWdkD8nzgAXsAAAA4AZ6nakf/EwGfk8cWj+7oGEwDHgAFhqt8jdYAAo2jQeCPN1rxUqOX0pK+cWsVp4aatWYqVaTdIhYAAACIQZqsSahBbJlMCF///oy+D3+CiEAJporuewJT0UqD32erkUSD1AQ9j+ZiIpvOLJoXynmVEXSDsxVi6dWdD63nXIU39UXSPSDoCAs9SsspFCwAAAMAdm4OUO497tqmukemNgz3CpH/gdhArv7oSFyfCiTmvtQZ6DCRsnK3u0fpMiClWHqLcFBDwAAAAERBnspFFSwj/wx5SQF1rmAAsfW16yxVRwkvNdms26bWesRao87AApkc7c768nV07nGnImJZp2brBd0HzwTUQ0/v4sBHwQAAAC4Bnul0R/8QlOw/XfAOrVNluHpZF6AAfu4foJLMNo8aKGpoVrTzNikm1AA67tj/AAAAOAGe62pH/xFFUuBaAgAugPj8JLHXS9mEEcvYi7NZo4AAZHlf96ElJMvXNQ9BlSGZr/oRCz6OwCbgAAAAhEGa8EmoQWyZTAhf//6Mv2Cf1J6PgBqs3XPQAC8CxSwBdCVbWxUbA1OXDtp8qqd+y7LPR+k/4FelvSLrIbBvb/P++K7etv4u0Oil/nAXAAADACAyWuufuySAU22qZ/QTbic/F5HWbXdK09Ogx0NXV3jLkw94SeemXao6SPCcfr0jv84LuQAAAFZBnw5FFSwj/wwA/gp2rAClRAtbhe4wKzwJbAhMHaZX7XnlJeNZHymMKpD2F8V8vkWcw6TGFDA+l5+8deelkAED0AVGJy5ot0q840L67j77MyPy6dgELQAAADEBny10R/8RXPRBzMcACCI13xOqaWKanmFTIMnqk0TCABRv3hSgKokhXGZOtODPfAGpAAAALwGfL2pH/xGIablTVrmJgE8oAPrw0V7qCjd9E4+gdV7R1G3UNGUQADvG7M8mU0aYAAAAqkGbM0moQWyZTAhf//6MuknDcT6efSbAATn+u3yoqTETh7TPUQIeEQfUwWigFtedAD9GQwVzLbGeJwlkCne8y+iQVPSXAQSujxdN45VnkdtBsQQOkRICRAEkNXMjlsuTornMoa6H/5O3balvmIWVdqjLGUrpNt7kIEkN7OyvJehKJFnVrN8ZOLuX8cdFric+J2JoLmhOTiiBhPRPNuBfq+BYQgX6Kn5wiYXsAAAAPEGfUUUVLCP/CtjO5+ruifheApfxBKpyqgA2P2KLD8l7hQQMZV9SQC5FbdoAYQf8+QTNBbQlLGsGk4lxLwAAADEBn3JqR/8P6Xs9rOyjHtXCuPFACT7Z6HCn7wdCcANHgHbhzCQA7Z4bOXOB16N96BlQAAAAp0GbdUmoQWyZTBRMK//+OFok/5AwAqMk84oQAJxrGQStOX0hJoTgV+gnKx/lwydgmz1zdkcjKyF7f2MJYXlvUpbxFQ5A9s/ArIVMZmXK5L7iuVI8hx15InY+kQ6rJ4ifwN0YlPa0Y5X4UyXfgAAICaOMo8ttvoq/rHc3KDXfdtTfREud8EOwCfVsZf+SphLrUhGaPpDoEKEfDl3lcBLq37wTiTJKQBnwAAAAQwGflGpH/w/5GeE+1a8DgAJSk/0+BWPCAM0KIEBvXh9z+8va5FwKMvkhPZeZf4YJcRdgA6GFC3UXqyXCc/at87lQDrkAAACVQZuXSeEKUmUwUsK//jhQ6ynii2vBuAZuwzoALd5zkuS72eBcy+kSmy28Dzau1n2l9Wi0LYecdT1JcWcO/SERHFS2d5sAOgc3NVVAzMFYAAFBlcJQPC883kYSevthH6zR3JnSInHlgIuU2cO/QkwqEtGBP9z33a0raQ0eTSld6xCpCK/UvMI34TGWjIrn2S+kyUWEBywAAAAvAZ+2akf/DgWZcqJHdxMS/++sgBa9sX2V2RlMPJGQ5yCdF6wAJBdxV4A5OA7gDrkAAACWQZu5SeEOiZTBRMK//jhSN5H41m6cAALMz2LPZZG1o/uNBhq+0FtGWNLw/QYJikiI6vgdCCJYwU/888gZ568lwcuby1Fm5cqYAABAPIkHjA9jEqA54En4B76nSyhKMsptKwXGI2gda9wvwLLTcnOW9Nh9+SfThnfZ33bU085Q9MkJOIdDbukC2fvEKNCqg5gyCb1EIDahAAAAMgGf2GpH/w6o1sT9X5nCAAWH867yKuNMR4Kys1OgBiebdWaxXpF8eh1WAAM5LQyaM6ZUAAAAj0Gb20nhDyZTBTwr//44Ur//uksx3HI6gAWlGP8v8rI+A3cj6so7gSaG4RA5ZszHdhJjox+xzH3cTOc+2hEHbxxZ4caLaoAABg/X39WKQMr3+dAEpysV2t+4X/RY6UpO+9jOyktb/n1vuRtzI5Uip77taWTtI1k/xIsrCB+yk7sBdulTdERuh5An8NRGwLuBAAAAHAGf+mpH/w605euQ1oDDQiqN3fFwAEV4MegybUAAAAB/QZv8SeEPJlMCF//+jLT84XWMaglCDke/oRLNQLI6KLN4I49I4RmkEjI0CCTfVbnhiXWAANbRu4MjQZ6fY+qNi/tK5VPmBUbMtkTjdstbn/b/XCaw8N9jwcSmGVoXZDwWUhNvvdtQMmYrucGToJMJHcvByE5+F81EPhyxfADPgQAAAQhBmh5J4Q8mUwURPC///oy6pN/OvACVglDAB0vmY/Opn5va0x11XYHqr154kub58826o2VtKmHc4nYn5vnz+fNlIp9A4Uut8n6iCWQzAJY3VEB6ERGH008hchLwju3VBXOyvoHfbxybeSb4TWO5MMXZ1nhjCS/EXEriHjxiyBh/Hmo0HwlWtmOW3xjb2l8DZumb9zYcDuZ0bKZRkZvVDDpWlsPRWSaP+6Fd/klXIgKyZDFFlmBjeLamvuNUmX4PgDnSuevQ25u0viIiV2Mt/h+dvQAAzf2lg5T5oNWvjCTlImc5pxqoeQlq+hsKP/aCFAPHByPDdnoW11Y+NhmfNMQzcIO5GamG+S8AAABNAZ49akf/EBtA/2ZogogABuwqrG6s3I0vwjkmbKIsurxyeynaxIxcjUexTgM5q3lBD5u34a9YH51oYrvGhLSY56Qsc1mjjmUAN3/hB6QAAADoQZogSeEPJlMFPC///oy5tzfep2H9EsNL3fVgBMXTxmYwtiNk9uhYJmq6aMC7/gqWoKYwbzQxrvH0MPUGUu6eB0ZilBcMwi16ZOXgAC9zYJwm6UvWxsoPpBHr5DoJYh/eeYWmOjVKxfxqS+e1kg7ZPUYN1Rpi623Y7v/owgtj1VkUsRvConttQpZX2AvfQ+yrbtpQkyQJDPW9S0oYzjAbyPqG9+Vkrr1O5R/Sez1+pdLLWE31kyNjKhBRk1raXFRzMy92/kTAMVAEhmfUIIu7pIIgOpVW4W2GeuW0q9gIANlIUMmcw5MBMwAAAFUBnl9qR/8Rx/gAX3OGN2GI57QEc+Fi1NnX3lh0BuCRA6K0XWAN4sSvctMyyApN0wEKdmmLkctfnTFZ5a8VJoZLTGTx3OPK4c+B5keAC9O9ud3/QArZAAAA1UGaQknhDyZTBTwv//6Ms3UDISxUgBshC+xfZ97OaIbvj5EouSVBwwfqcgSDYc5sF4l/wqk+J9ethi/bvNFUaWmkFfeW8tcGFACCgKK91vkzvhDH4SGh9Gpw0ZL3bq+yDtd7qg677pTElN5xHHu5Q6GA0UcdqB9MMbUJS17bn+5SM0qwOl2V02tq2OdROy3mIhxKx3s5epVt5QbXJGn3sMo5l/iWJztaU2MBE40xS9ZMXPs6uTLkU8/SU8DROPscZWyjMTBw0GbuQVYnnLGLL0K1MJbsoAAAAFUBnmFqR/8MnMp0DeTf+26o6bygAmqjuu2GtVYMeyt8RAgEWoWwhDobShYXjV4aTlDIt/enPMWMEod/ycSNeHbJ2E5PDQTAf12d9NmmSE+QGBAs7E3BAAAAx0GaZEnhDyZTBTwv//6Ms36F6atgFJO+rA/2q7la2tclD7lFO4t0s4SBg4gwlF4j1AAA+yXos1aS3PzE3KvyhGWsYCwXh30HdX0CoEDr+Y689A77tYOVGd9wYifDHAtI5VgUQJTUdI32kcFkAKEZzHhJX8NZ0oKQv7phHOJgSODVx0+fOyjYDsNLJBhmFXqfy2UHKEJ9/RFJCGLRh/6tN2CkC9kou2A3+1ts/nBCLlOkQ4muDIdkGukF/M77YMGDdgAbGQs4Aj4AAABkAZ6Dakf/DL1W4xHi/PgmKxABtXvcGx5ijbJlr+ePRQ+5KIgFel1dkaw6UthQ/pVs21UDnWPK93FCAci7j67i6GMfc62DivcWsAnHX+3J6LCWdn7W/kZmKRfPLRXhjJADvgAYsQAAAMtBmoVJ4Q8mUwIX//6Ms8TL+M4YceFBniFvJ3vlYZK0kz0slK9n6kSQAVYdk3RjX0WwWEjQ2KwDF/ONe3fdrRS7LXc+Zuk8e3TeWskRWTq8Gg5HRIqrQuMG6ikXx6hF3GkJHUX6l3yQ9polL6CbG9q3PBlm5UdNPtS0Az+Q7UOkoCGR4ASPxQJSj58ZEme0YEb3AOTi+Ihj1YsAl58ydCjgxWLqlmyHwq9oBclioK/yo3y6tN3pY3l5W4Uq4jQTn3IcdmHgl91rPqL5xwAAAKtBmqdJ4Q8mUwURPDP//p4So6f6pj1nFTRCYzLABDfBshgkfaaYVa82JTo5CuMxTByHMxNrhKpXbn5EeWiwTqX9XkMnV9ws1T4ysJyulBjfdy3+I+nXoaXzCevGobBIDN9u2ovFphbJOe/DQe7t13chzQXGZP3qeQmlc54yaH9YSk8rKSRV4Dp7pPuMqfwPicN/ObOT1JiWLT/Y8LcLGoAd+BlFQtZx3x8OAb0AAABwAZ7Gakf/C+Z15+txAAA4Fw3q4WIFXP+nAj/wZR6w3ndN6b4B40aAXlr3NnO7BQMLZbEcJsJwLGJ1ZSPz4w7DNf+PPLmMyEfMtdZ3VY1N4IcQHYIowjyCm/AQ38KoT+xHyWrs9G9ScIkv4B7W9xB3QQAAANpBmstJ4Q8mUwIZ//6eEAdvsdzp1RvlYOZETyLfmxAwAsb6JehuXhjJv1FCytZpM8Q3Z0J3Vh4ra3nsb7xtKNrpL0uwjNz56AW6VWOqpEttIpJE1y227h+ip1jjgANjRXUAUSOPiT7YS2tCjaDpkG88it+l8zyTsrTmrNIubm0KWpKqu1MPujOeQNEcFcjsQJ34z+xCvirD/JYEISUB4yMtIpov+FDm8Y54nJ53OFjabXZqknb49KaooFqRvazoXWXznWC8Wds6oH9VCAl2j/nwWRZgEBbAxeChgAAAAHFBnulFETwj/wdwf+GlBjLTLUsyiz9qegFnSeZmgAJ0jOvKW2ckG4x5D+xgm2Bn+gX5SIuGklyEliIs9WXGtqfC5WNmLsqhzHMAoKpNTyGsaLX4DNfWN/An8QRgqp+mN6Eeah6EnMHW9Z8/djxOOAAI+AAAAHgBnwh0R/8LDq3rkXAIU7qpDcSnYVieEUl3Qc0OHfVletY/KItw+A7VRpDJR4jQx8qsSMYpVZ2hG/Zc/ULsbqUNCU8PKFx7uNiCeQbWRe5YCocp9dK6MKrcKr9EfAUGf6pnU/57H/CXv7tNAfrBp0SNn7AAoZYAAVUAAABWAZ8Kakf/Cx2zgLNoAOjVGMss5FvG4n7S7BxwNB39xvr/7Ee52N9vc7k1pskzQ8SOm1AjXxsTBk25Zu2NxgSGvPfVl3UPztVA6BOizYH/uTWhAAADAuIAAADHQZsPSahBaJlMCGf//p4QBocytqTvJJRiyUpvsnG6FO75IAQmd5N348N0bl0Uv91SGCdfu/ffud62wYmZIED7m0S7Gsdg5S/8oV6Ea7SIUXLz6S6sC2fSYKEbaYCzFKp0rdBYrWQqHqrkTNp3FyFLAhZssoGR85zK8Zyoa173ZDUz/NnK1yfuN1suOj25yYEOM8QGcR2iFb6U+BSP6hBon5hQYG8MpVxAsxeudVIDSdadTIHaIHrRp9RuEzRRPDzZShftknBEwAAAAIdBny1FESwj/we48S3be3Vp9fLsSA2yhqAFr5uMpFhBam8f7r6efWB94JBfog3QfRu2JT9jvCQrkl60VYGhckiJAERsQ7TOaIIZY1yOHuQMfXkf4yLxW8GY65DKiVUFAy5oQsQAXNiURHlTWRZGswIM6ga+gPUSV3wuqwwH46lMkP2TUCAAVMEAAABaAZ9MdEf/Cw6tw4ByEVeyKvMMFTQLNQLRE7YD5amhAB4S39FFza89Jsue2VFqqMDUyfd0Kjk2PfqfKCm8qS3ish5mfoRRPrT4zZ5xGSrPVYCWPSKO/hhEAAMvAAAAaAGfTmpH/wsds2Mb7ioAKCIsKnnH3BFfkGfaF1ioE+apLjhzpfJdltDGCtN+0AaBomsrUx6qc+S2+3pHcm8tNENX+vTFU6YGR1tzste61mylFxn+Z+s4fdqM85LkSr5fBcBtRU9hAAPbAAAAw0GbU0moQWyZTAhf//6MsAJBnp95+fmMB/JHllrFAkvLCAG67Ne1IR+vJ2PCNgR0awUBOKNfbnh0DyPPf07UHKqmewHUJ9zNGgIFViP9eO+RYrHaedTjFlPl6g+CbbSlXkFPQHrr/QaP0FX15lfECmblNSgUGVhUd4Bwtu2418c+amOkEDuR1rCoI99rC7dmnqLWySpUKlTEYZtmNNqMzH4cDyPUUEXvVn2v1AEF+9DAn+zlkdJz8DN50CJlACl/KUDPgAAAAJhBn3FFFSwj/we48SxWxoe3kBSgJ6ABxupNTNxFP51Ia3HZHqKc8Rik91CtX4VhLnOqbqAd/f82fgYOgsslPSpj/fNVviX6UmfwmSkqDD6PsTpZmmiLOvQ/S7h5oX1KzVMCKOzcvzflSpD7jum5lt4f/vSiSUJJr4fy+olw+HbcmVPTeJsV9bc2QLvoWUGs7heRxPJ5QABvwAAAAHcBn5B0R/8LDq2650wwQYn0qwl9yekBfQk7P30yOqAAluf/io2Pbz8ddr91AwSIA9bH3kb3LUIPdcivCFHafuw/anGBdQGdXPvy209uIMmItr+6M6lgLqp6LpUSJCoFrrbWFbEq/tGkmVW01RjCLtHfugbkcAADAwAAAGwBn5JqR/8LHbNbIYxt6oBipIe3Dw2ET/3gDsSvBdD8C7iNHHRL1fUMehMK+TJnLvWIE4wcYKHGgPyRKOyfi+SWEtHs61JXDBGMqvr+W6uVrad25eh6/5bXd27kffiuEW/l9wgsq8/W4hgAAZ8AAADlQZuWSahBbJlMCGf//p4QAj3Tefdr2kp6j30Bi4+u1ztY6uR0Xi0YwhyY3Q6Fvqe5W72r5jMnEMjlRagDXydtVkVPctMmdxzE0qQcn94dPANz2GyETLY61jXIRbq6/uIIDkzjKjUk1SVsRajoVCs56AlUkJ1oWII2ZUoGxMFhS7dHUZdhw2cJPNOOX03esxhX8ZyF9eoYitiSv1iDk/s2RKruucXs924gDduKo/VioJ80lT7mesQx5tJoE43fglKz57fGE63x+YONOa2Ec5/9HoD0cA4g7XgCa8APjt/0nk7e1WA7oAAAAH1Bn7RFFSwj/we48SyTJy8/OpRGMF7qLZGhI5pDl8UAEtVwvaFULMQc+0K3mLxo2WtOyybjaczQBPVh79X2w4anskYOliRs8nDLrKGz2lBimifK6UNU6Oa/8w4+5dKO/4gevdxTHzskyB5nxyIxQtMEdL2ieEFjQL7ZIABUwQAAAFoBn9VqR/8LHbNbIYaKliRvnjOi6Toc1/vvEHg7ABwwJq62sKClK4ea1wrDqWilUvyBKXrIvwAK6/H0BDP1nFu0lT1Oncn9qwFUfnO51kO/4ZIlx8elUAAAQ8AAAAC1QZvaSahBbJlMCGf//p4QAi3Tej0TPLcUsx6W4aVHucCw3DjbsALqH76fGHrkzKUVvW3DkHO9VQbze/el6M0R5nsX2LSSCCD7jSbQ1P4wn/woGUQ58VYouXjj5JdfNTFBp9V38Y+8r67R5fTNk9bN5FUVxbSeFdZosUMjgAtezdqhW5wiwbeVKxyR4l13mUpVLpBmEZkXVFE7Ng9QhilgS3tDVjkGGE8OxOFsENB3DSeJSZGGBQAAAHxBn/hFFSwj/we48SyTJN9Ii5ZqwAR19jXaz6Pjo4aOqTL/JmiZbBq4Z/8o8Y+7/nOceQRZdC5HszI2AsO7pgL9OqxZPN3aARDZFl9ZMwW0M+5DSqbZmZeAWzcAMKy2T7emxa+Cs3Ae3vxSzwcShD/ju9Ozs9GQEdAAABqRAAAAYQGeF3RH/wsOrbrnFnKfl5/9hEYANdWqsbqzoT01r/QZxIq+8Gj0OWx8rV0sYFX4CvJxLryoF6wwFMEnKvTmk639S2c9mjnov9m4Z/BK1AphDBpC7TeCwJwZx3s8eAAAVMAAAABdAZ4Zakf/Cx2zWyFd0zvnecuyLJU/J1srUaACzo7LnEBAvaHCZqQZRQmWDv0elTBeg63StRJgiQ6dUVj1h4N5DCg1J5SzFkcY5lleHFMnYGifygbHVnylCsAAAPmBAAAAvkGaHkmoQWyZTAhn//6eEAId8WL57/2cA6N/JKyspPhyKBXCK3DzVtb5MMZR61t9Ax4Rx0P7DSCugt17NJN3iJEVoqJ44+0LuBKmjE5EIAmOcraWjfOsTemPwx6k+pNs0ZkTx2wMdH8oLR88mbMdeWodnPRwdYdAyXtdKfw5uejxDe2+vGKAeraw34v0glmEbvSUYZPeNlNbvjfn/2PVNOrfspgOMwPjaFdXZZxUOFgv3ZR+6ojbfwe7X5WzHpAAAABvQZ48RRUsI/8HuPEskycflZOKgpnTPQuOo+Yid27MYA5hdd0699p+SQalcIkWXf8e9HeZWT/x4uH/S9PSBlKoZkZ7ezJYyyUuz70Vfaon8bxZAv1fbz+/hdVQl/iA8iMHxlyMpLR9dOSbTeJAAA6pAAAAaQGeW3RH/wsOrbrnR4ZQTp2LQWMqZuYmF3/cjwBThJHrglBALD2o8VxnbP9j2uXvRmu6cmlUnmR0u/xt0ZiaQ3RvRXNeBASHVCxd3kX//2dDn8I5Sq/2YF4OdAxiBQyv75FA+mbPAADUgQAAAFsBnl1qR/8LHbNbIXSnmrqX5oG5Vv0YVi6fn3jiSlwPh0p3JCFt/7egFCr5RC5/+/2iAFYnONTDx74wXgTsmwnpiZJG4eRe/wiTAflpUQG/S18xZDQvU4liAAGLAAAAzUGaQkmoQWyZTAhn//6eEADO8J0eiZ4sLr2pmwABB2ogzvp0230r5PnhUQKU/gZN8nBHXm3K+/pg2MC81PdlzGuKx3/M1/0eAfG7EjBB/BMRtZVkmyDphBxql2U5lfitAgUR2ZODHLhem3qdjta66pVgNl4ptY+haIcd5xN1/CrFe8RQZoaLnxTP/5cxqta6mXBDnchMuP5FvYJY4pJVrjqwxjgf00qENckSsDLg3dCWw1UhPh+Rr8tMfVBQd1qoZglgIbjKWxpD5Iq4BJwAAABtQZ5gRRUsI/8HuPEskyYP+LZMjKfoOV6NCcfAJ/7sIaYxraAK30pzRkbfRY74YWF/68UVp2yYfcwv62t0McOoZKwS1lWSMlDrYt57JzBRZMa+PCYY+Puyrb+sFV6Tr4tatkViHsKyiesNdIACLwAAAFcBnp90R/8LDq265y7ONbvN8Tu0TcpLlaLadn7ukj8z8z2qACZpweLP5lBvltQNZcSEvj5VgXrb31SwZKNRdvuzv7GfpvZKpEuPGlGTfjA6Jswc8AgAUMAAAAB0AZ6Bakf/Cx2zWyF0MayDWOLTHk1Vm5kXnPygfOqyWnQB94sKTN5eYR+p4FYhDEj6reA2hYiT/+LDtx1dLnBl1tcbvSTCzU3mXJ56iXY5j9YKF5qrSpIppLRvnkUSetx8c1WBSDhk1H9XuVWyiom3+tAAAtsAAACtQZqGSahBbJlMCGf//p4QAE/5lzrOqb//nCX/aAALlDx7MgqtDUmQO3/cn5OSFM0x9pAy5pawwxrjktxxXV0XbdRej412HxSMExwcwxKKCjhryv8uIA18We3Epxzx6C/R5rj4K/oQfodRwEJH224MkvQt347UMUZe8rYIH1n3EuKlzrCcWML507n6FnFY0UyAZ1HxmFdQzObn8gCyZFmAkzJdGzE6PHm6kVKfE7AAAABvQZ6kRRUsI/8HuPEskyYJw7s8WAPP7b/bXBhZFkL+5glTVEXRyu1ngt6D1h5v91SAEld4ufL57kiM9lDltx9x0y7EOc8E6f7fHkAbUjdQRTOxJJYlflfW8UwVDY2bFt0reShXeNYD+WhXPwHskARdAAAAWgGew3RH/wsOrbrnLni0NkQK/n66sclGnKQRqpw2yd3bMllE21iACS52zazepslFZTMGTl4PDOE6d12wzbVh+01lYMj7fvTWJOFVkM9F4H06slWM4rYTqAAKmQAAAF0BnsVqR/8LHbNbIXQ9c8gacPKGyVx68gpjvwssRIiEgJHBN9/AA4mAAAJqmkup2RZSqOzk77/lv/YgytuFY5YV6twEMZQvU07k2FTnd9XSfNa5Y3BHCBUJpfAABvUAAAC5QZrKSahBbJlMCGf//p4QAE26bzxOWeX/H0AfzMFBYGFZLBXnTkUferwAv2lvGcm4F77sEAcIOAjqDZftEiGIfE/DgD+YtRFwfZHn5XHPIxMoARprdAgC3Wn4oUACXiTBcBHNQ/WIdUTa1+tDq6thU3176CEZofGt8N66kj2wOTnfkZYF9qzxaK1vEUR5eKbaaUsH5NILnLzIvmPRieaIpTL8XSlqbqmZGl07+8zmBcZxyoH85f7QC2kAAABoQZ7oRRUsI/8HuPEskyYL8wKGVum4+RWMa1c9O0A1e8bUjaOV+i8i51BS92WQWgegbx8FbKEFsES/W3NxnGVt20ldTtK+FtegsyQUYmtHyU2S+P12LwPF0ANHhBaHprxL0dh1foYABDwAAABdAZ8HdEf/Cw6tuucueLOhb9Ihi4ZuUzFhsAAKz//01DbUpbTyhFZNY1FsBV9gHBcwdAfZ1KiqCFYWslpzXVk7kg/+9i6WmV3FH0vQzeGAHRUVJmjFjhsLEwqQAApIAAAAWwGfCWpH/wsds1shdD1zv5b3NkELchqmNDG5SdMOolf1OAKDMhsIYC6chbT4ZBlyzzJNJFeA6k5Iaz+KqXFW5eTOnMTFdNs9MYeNHzy2S7BklaJHPf0gAwsYAr8AAAC1QZsOSahBbJlMCF///oywAEx6b011ULa4GR35AAcXXw7HVLuwedTqD31AfCLE4lANNTYKScL9s3sSbAjyMMJ6XOT9wrdcOH34NVCmiB8i/9TqABY2yZAryCZonq7lM9dV0OgCxEirsJRp9tCzTcsl1u/cpORRU0pofcw+92d73DxgKZBzk9+qo6erSkdsBcTsNw1aja67WZ6YAERtVrG2hI5VKnayLV/7oA2p65DGZGsJbrAtoAAAAGRBnyxFFSwj/we48SyTJgvy1YXm1VoBMcG3iaaljmZk30WZ/e1f1eACWnEGlJ0ij87HbMLbLopWINwFkDVONo12/0VsGP5bMY0m2FN/t74s9B3Hismx0ZpwNQKol4G4cFoTgIeAAAAASgGfS3RH/wsOrbrnLniiAdwuRJaz6wZZtMToGmg9wpsfWoF7+qtPaXNvVBL4u2Yu4AQylHYb0AEaph0AX1k7LnEBAvaICKUgAEXBAAAAfAGfTWpH/wsds1shdD1v+Q0ypDaE4pAb/H8ij4H7p3mSOR0gfWFkr64pnqAD9oDdQT1Ga4yFkN671F2KDuGebJCkkq+ahLC7ixDsAzmQjLn8ZNS69RVOdqhpdFZbqsawcobdI4sQPS8TFT4XlpnGTjCLxqiVeRIdx8AAAi8AAAB5QZtRSahBbJlMCGf//p4QABzvcsZr4EWpVUEoAJVHHMJAeB9UUUgc63Z/HO81uH+w+mRaYXENDDP7NkYtt8o1KkUl7mWtiMesjhrAQxAVUhkkkBWokvyIP4nZRGKGoFeurrQGQpwQTGCD5EYPrjnH5PwcVMQcSlJDjwAAAGZBn29FFSwj/we48SyTJgvy7aJTWhi79h7yWuI5+uDmkW2On44Sr67I5AB5gwhtq2WMd+bHW9CifeUVkgwYZepUpEcsPl+dy6WPLSE/me6aKBqNlLwaRNczmXCyF5JSDZkI+rWeA2YAAABjAZ+Qakf/Cx2zWyF0PXN5egBauhyEAZ4seQceWYxt84CvbiwtAgWnWO5jT7hgUddEfcmvqJrYPkoha4SQrjMYV9SqB1WaoACw9Cn96WHe9kEvisbZWlkxVjHq6NBFpEhTYBJwAAAAvEGblUmoQWyZTAhn//6eEAAdHhOd01KC39PeHd7uU39+u2XkdhA3GWq1ONDs3xLqaABF1UTHsP39qUdhi1f3chKlU5Nuj2UlcfA8IRpzExZl57nDxswWMxsVdcjgEleEPOzDcelNIezFSdYP9XC8cV/mcWWEGudLQruwq8hhCYUUSLtLRju7BlorGAvAnCxIOie+NZxe7uPXogDRhKPjuEeEIMqXeXH0nKPzVXnHTZV9q6iJVJ9HFYwhdkHBAAAAY0Gfs0UVLCP/B7jxLJMmC/MAZpPtARaX113x3DlN2HtJTAhdzIbNmsY/LrSwAzvy4OuMmqXoaqlhfnlyk0fbH0g6tp9ZOupLLlPB4C2MQ/uB9QtlPQ7M+eifdFxRYfhEawANSAAAAGcBn9J0R/8LDq265y54suqwW0IWj+iXXJWbZzCev3D854FpgBbn4BzZMMI7RfKYbuoHtbggYQ99bxV5QcC/Hpg90NP7tXdKtUM9mPKSkgNVtklbv5Qzi/67JL6IXTaMhDbTXZ5ICAQ8AAAAYQGf1GpH/wsds1shdD1zeXml520eRsX/Hbc3RSfefZQ0k7kIARrJ3P/Fu1k0hSted2HfgJfyJ9Lp5dt/uINX/EpeZ3P5jOOYEB2MzSYMWVo+LPtx5ifw1zJ5oPmvj1AAJuEAAACRQZvZSahBbJlMCGf//p4QABxuE6PRM8bJ/8Cj0atACVPlWAvgi7HFgTwvHjClFDFSyCgMe2cm96TZw1UlAajT93rGslq3htIWET/qPkrrw2JPNg53OCdKPyhiUA3GG6gpF/OVaenn6e6wEYJwFKALt5HJa9Pf387L0wv7BMUsG/gPniwff0tFClqX8E+iFuMB3QAAAHtBn/dFFSwj/we48SyTJgvy7UXe5ABg0tBUUctgSvEyuekYO2qsAokK6x2VZUl4AF/sS7+Ebw4ZmSbJcymybnTFkpB0tTar2u9eIJ6EaAGRmFNsAC4AWsG56uKEyejveuI7cLpLEwtaPCFMbql4hfCeYpflLGuu8HYAb0EAAAB8AZ4WdEf/Cw6tuucueLLqr7EU22BRjEIHgrAZhzZHP80jagBVBUbOWSn3K+EYOWsk3tccFMi7LG/yUTY7AQ1GXxmmWGw3l7beQCvoVyqyAQvZze1MfRElefJn8PjmGZHuGUalZmWFnoCfxzTOaAKaWH0CfkhW9NBZwcAScQAAAGIBnhhqR/8LHbNbIXQ9c3l5qtwGb59rH5ThwAACW6RZ8QlaoMIqaLlxk1hJKO5wNP5orLolKO/wl8x4QNzS7/ZZujt9x+b2osxc0y7EbahdUiuylp6oZLevXhQVHz4u9gAFTAAAAPdBmh1JqEFsmUwIZ//+nhAACsgpvSuobAAuVIYT2VT0vz4oXplhHnBm0eA8wcmFCQAo28dZSIiSKaMaKprq/oAAdPMEudd64jVcCMNpYWXlGoMXlNjh9ASUliVhb2Z7Fyrdzeg/w+npNBS7G7GYNwcCR/WeEZMsx8nCBV7d+7/scAwhTwNBRxJtzWTHul++YD0P/1MDA2tOe+h6omhf0b0reIc3Fr2bAiSaeOzyJkZIQag6ArHTxfzv+U+KbEBFoujLvsTKVldTOXlXGFER/9kbNTHQMwZF/D8tywRYPtWwsfqKM0EUNoB5YIc6CIF8MuJFViJAyx0xAAAAgEGeO0UVLCP/B7jxLJMmC/MAZoIH6/4Ei0WgDfRcph82Mn7OL4Ug72wgl+g4qaeaVmGU4z8UmW7oAW3vLIAkVxq5cmCqPwlBsgT0/iuN0Hoa7xqPYOTOaQPFpqvvbG9gIwdxdDGPudbBxUY3p9tSv3MzjrGKI2WZyZhekBKQAAyoAAAAYgGeWnRH/wsOrbrnLniy6p0SO5JxOX6n1H8I7pdjRDbcIEww1VN6AD7o/m4Rt1FtfQvNXisjip5s/TL4al7+mKBJWV2SRhI3sZrknsRTPHSdGJpoTLmhukWpNCub5FgAAPaBAAAAVwGeXGpH/wsds1shdD1zeXHAfp+MKcPb2hpd4DxQIiJZHGcCoAPv1lFZu5ao2RAdQBn7jO0hwNZX2N9SRFgWZaYiLnkCoXl1HWTg7ZTEWTmsyKG+OAAZ8QAAAMdBmkFJqEFsmUwIZ//+nhAACtc77aT1BnlBNBZQ0rNPpKRz0AN1KaALihgMyC07XC6yyOlJ+2AGiKrt3hRWbhzale8IStID/E93R8PLOFXKg3qDuWCg/+RH8fElYb10OIm5rP3jJ3+isRnQqYjcSEnhfqeKxzNfOMZIHl7bA3bsXZymLDQUU3n8rOZDcaio+w0m2oFH2datkJX3X/v2OJybT/S+o0PpIk1o7xdUpx5PQhH3y/LiJREtMjQxMUyXF7g4K8t5AAq4AAAAakGef0UVLCP/B7jxLJMmC/MAZoNdYNdSQIqbC+KAFWqmap5HZuwUCylXtTIw8mH8WnuQ04Og+O/P9Lwo7yk/J4/6a6mwBSa+6uYKr2XlBh5N46H6ceu4EAo6rC8JVcAYHDNJDkMxa72ABqQAAABsAZ6edEf/Cw6tuucueLLqnU2TDAndV8xBLwgDmEtP2FDRz+31FxYcKN8a+MVPgsMp3NTZs3vxmHtx7nbC6rI9S66XVlZKRxsPgHGrrjeQjqdi/cNOlZEQVJYceMgvNumf6qVoelhqnjH0AEzBAAAATwGegGpH/wsds1shdD1zeXHIvsrGQ2gSAGewZQ76+Xp0uTQATV2kHl8NS9/TFAmtnpD5WXCmrTteZY7U7adigTUk4UFXDdLBWpZvXfgAGpAAAADWQZqFSahBbJlMCGf//p4QAArXMra6UEcqN+fYjEo/MHENLayCSHeEsxGDPTNdvQPTk0tMVZ/jLj+foQiakmUhjll8dUZi5SbQ2pqF4Xw1sMbq9MInbJcbnquk2+OP+K9fBO9txWtgBKkPRfkXYMD7QWkcDWuI4BbfxUPCKf97NtCS6M7YlcyU8Ni4pI1/fKADMXVRUNX5dsz0+DRQQ8FKF6sY1rZW2ST7fta+LDtE4SPTe7CpMmGPnLyl+hLfh/jTaToCc9ERW6ZR9PgUug9/2FjQHoAHLQAAAINBnqNFFSwj/we48SyTJgvzAGaDXVxWFFLXB/cAHFdI7U1Hhs+Sz9PhqZLTSQ9G7RJFytFgZCg78MjiCRjJnJh3IPA++yDoCFWDZxGl2eRaA/ECnHAw+OqPmfIPBcr53RfwtHuG/8zzWQibPNjkRM599zYoDRTx12QbW4rzKOSkiiAC7gAAAGsBnsJ0R/8LDq265y54suqdNLcVj+RNAA0VvbFCAci7jLqmRf6u++m5iw/TlgT1NY1ytew/3VuvKa3yZUoJCcus49oZYvVeBCCIq6uKq3JsnkJZjlVq1G/QwDumRaxWzop0/gQEk7cTa6gfMQAAAGsBnsRqR/8LHbNbIXQ9c3lxvCb18n8QHgBzu7q3t3khe2CshTgoPhJIUIiaod8It3fvUqYdTSaTH3v8wwF8/CRNSuUivkBSiWx1YNkKFo8yyprbmP8/U68g0rO68Vr4cfIEMqYmFM/u4UAakQAAAJNBmslJqEFsmUwIZ//+nhAACf77+BpGgAQ1iYYbFB7GPDBqREpzl2cHlCMOyBjSjQVOSYu7en7P1wX/Qxr+rnaPLMbf/IwETq7XtnysO0q1wWu89I/ymeUGM1vYmLAHXPfwxz+dZJXOTp9JYGQMg5iDmnVr0Wg4Xh82QSKThln5Mgt7VvTiY02iayujACnMMsCAD5kAAACGQZ7nRRUsI/8HuPEskyYL8wBmg10lCLXur2gCHKd4qrHadvl7U5aIC/Xr3XYsqDM2VoFtNq1wTNeS3b77y/Ff1QE/HKWtC+4tPr3S4y5xUyzTmGQOCTCw03Fyct4fj4X0WnbhxRaHzrk3G60xgcJVFeh5LdUPPTdNrWbXyNWnGx5HqTwAMWEAAABkAZ8GdEf/Cw6tuucueLLqnS+s/J/Vt6B1hyEK3PFp6oQFfRKRMS0Cax/ADddpB5kNlpDcQscsE+W9+aGu1ORNm4RseVtq1p+JH8COuTUs2HMty2nHS6fORhBimtybmBBr9QAUkAAAAGABnwhqR/8LHbNbIXQ9c3lxwEPx+Tlv5A+RFgpQAbTP+2YC7AFwgcTp2ksGOVgsQNJ45C+QE93FBq0nXwJHO/ZfdR5NKSdA06R/ThDrLEunm42N7P+hOxODjxGLCPtYFVAAAADYQZsNSahBbJlMCGf//p4QAAn/u/f1uZuXGYA2uSmpggiiseplPcS/PFa0okdRVll1nkJ4birSgqSqy+3/jJIIHD6kReat+1VTJeNJbboGd/6MfYvDKih82UmawBuI14E/1sFGuNIVaaDvHCXcNpnJsB22raNOSvlZpP4XNcb43/lWVWt18GrC8SJIM6lJiT3/++WjlaByZXptfcoxGAyb0GeKUno/cQAAWxD+EcOiG78KjUL1Xbjj+3RmoD7i1aIJs2ivBt4bfBD/Nm2bUWFWVL7YUtB0hEHBAAAAYUGfK0UVLCP/B7jxLJMmC/MAZoNdJlKqvs3JFtVbU+RxuB3ozUjcYJBMygtYGUVGZq68Kuh9aozy4C/0WuTNLY0AOC4B4QUQxcHYVBxdMZK31dcvHsC1ubMF6ZI95KWAEXAAAAB7AZ9KdEf/Cw6tuucueLLqnTQUWopADmFthVSjfe2xbySNLB2d+Hw26XbJv1a6LaVd+47WP7y28B3IX/U/gmU8IyOPJCjwZVfc31QZHN1qdTMLBI+qO27rRKjRde5YvdprUGQnFzwd8txHp/UZIEFtCTN8nOpWG9eAAJ2AAAAAXQGfTGpH/wsds1shdD1zeXHAMbT7eYDzesgoDI0EBcp2gEG0p9Gd5mnP23wzHm9otPHmRuPedZ5/AGrZw93gyXGACrPL3FmGFKWYq2fQgaj4bQYLinQ0i5YCCu8BBwAAAK1Bm1FJqEFsmUwIZ//+nhAABBum86xYMzLngwG0en302ABo1mZ+2LkrOddUfs9Hr6sUy0bPhJ8umPaqWvujSvimz1Mj1bRdv8u/35pKk2IKNK+R5lLQ4Zt0WnbfJkfwxoHZJyKcM1HRFx+EO4mbP9oB9oy9BBqFuY+2HnRvb32Efp1mcz8Tm0ineR3XS+64NqKJsgjgQNCrH09Xn3KEXAAixdjIHfd3u5UB4k4CmwAAAIdBn29FFSwj/we48SyTJgvzAGaDXRGFWwQP8RVfsMiVWtS7UycwygARVu/PQeqfzT5F6UAZgH1PUv8vdMuSLOInfRofbm1QR3l4iX7eBTXh+KlblUn8+QFIo/uLDd2DYCJQOFrpRFFwf0QC2tSvgwwfVU4GsqHQy9KdYdqCFxzmbhlkxVZgKSEAAABuAZ+OdEf/Cw6tuucueLLqnTPnE8sM66oOJz1vSDr+cSSl7AHsgJNHq0300okYAFxMa0NhIFWzgcmOplHCGFwVkYHIyZiPfwKz7ogNYsWge7dEfKxN/az92VhsXxAK7Xx4PaCclSvYdcDRj5/AA7oAAABmAZ+Qakf/Cx2zWyF0PXN5ccAxtQjeO9XX5iKcziwkzm6kACxC17k8KHDh9sgwhRGWnnZAs4PY7MfrhTrKjXJpg4orAKlOZz1OCjdMGcOHjIMyCtPHiXf7TzQGiElUsQNtdw5aFAMWAAAA00GblUmoQWyZTAhn//6eEAAD+/0fTpMJA/M7R1A8BHbnicgtLMEGJvxZYC/5OIZ4Ul1+SOT8Y6m5vXK01m9ZRpNwlr3t2wVum/fMSG4KowNfmPGF5s64dQxt6GEH82zSI0aV/nzBarMdG1M14z7QyZpdz96bNxeYVCMw6fsLSSaDT1xWqI99zIL54s/HqUvAMKkDJGn1LMHYyDhskqUuo8fjE/1pVz9kOZpaRIpheuq0zhtx3vV50RxobDFdKiwNeFhdR3LWesokXBkn9h1w3f9QvYEAAABmQZ+zRRUsI/8HuPEskyYL8wBmg10RhV09oMp+ijWStxQ75K8AOMMKuE0MYkVrM7N99NEtxdgOS04Tn8RpweA/yJQyxTwxiPWkmg9DdUpkiMzB1UzpA6o752lf43fBZcKPHkBPJ4EfAAAAeQGf0nRH/wsOrbrnLniy6p0z5xTu/ETbYyv+0jABYchHrts88/0Jf4gPIffiDXDuouseswsGAp4Q921w8laIp7P5UD/DIg6vspW8LT90gUF2K865fIFvnklt/Ut+eJkBZimy+yjB2IhlsNvQcQ/NAvtnIYTZhCOgBBwAAACFAZ/Uakf/Cx2zWyF0PXN5ccAxtMF47hnVOstYAAcUvTbpzklBNuLZn7xfqK6sOvbXvE4wewEsZ6rsMKCG6b2GP/hy8m3f6FRSNZ0xeodjA7/1lawIN2E/y774JlY79l31pLafyZbyu6DnyVyOvRUFFdAfselNWvy0OFzFeoJg3jsaxXABjwAAALxBm9lJqEFsmUwIZ//+nhAAA/vCdIYyp5z5Q35aOzeIfjzADOL3AEPtErWTQEj9NovZLfFqJL1fEekDVFRJQc6ryP98YuzFuvd+3cISZRbosEXIYBS68lMvLDV69OKYhEHWPzf+XdWLodYBXNyIkaql2Dt899taa0+R+vCjfp/N3cIwfIktXSFKxcTnLaxyjT7uvFkA3XK7wXrjBZVTLMcPhihYG5cNGapWHcgXwN2sUtC8TU9lHHhpH+NjFwAAAJBBn/dFFSwj/we48SyTJgvzAGaDXRGFCT6qD7S9fcAHHrII9f9Pbb32FRlXU1Vug2mt73MBEPnhMmpkOnIe9hF2uxtaffgX3VE9FyEjogp4EBLmjVSfGLQKFhdzyT0kLg3iDI/NC6zDSXa8dzoeXdr6XxCOUALMFBgt2Fa38AncdraqkVjjzaO71P+I0AAA1IEAAAB6AZ4WdEf/Cw6tuucueLLqnTPnEiAmb+05RAGiywFgJiOa9wXLHNCS7W9tD9NWgu3fuSwqPfH/TAwzjKNuWCeBPj0V6fHt4KI+n32xGCG/6FMqZEGHvkB/qvkxG90cJcJ21q47Su9T3g2Lh8F0MP3/fwDCI9SiMAAAu4EAAAB0AZ4Yakf/Cx2zWyF0PXN5ccAxtE14L/MwdVXrBJYLZZGdi5AHD68ylzmfTltecYioyNPDdz1vjB3y7tnYiK3r9Q4B5GyNdXVkH4SEr4QINqKZReGHR3o252DJV5hwT5O3tISQ6w8lxgt/6j2p75Z6SzgAFtAAAADUQZodSahBbJlMCGf//p4QAAPlwnSTyghU0L7ZO434SPJbP+50ALFL/U94SV3y7/hN66KYpIybJsgoIqDGpeb/frQvyHrp8ve4cLfbinRBnG6FadpBUvFj/6g3MFtDzwaAXhTrhg7vRqGTIOvZcJGA5gsMtTkWYjm2Ir4N0oL2LUh2w9sQiI/is8K+KMrFM0UTyql/NqLK/7lgO94u3afIgGbZ39ITWkbj9CntN1pDNet23c913rEuEIBX/Y50OMcvyK7rxttZOZNecY+8K3IX5p+mn+EAAACQQZ47RRUsI/8HuPEskyYL8wBmg10RhRVJSLuXwAcex2Qu+qQ/dsj89GUIDl2kAEzTIbOl3Zvv7aSLeENdqXr8NJvG9LTDlOZ4ERp0n/2Xxb2L+WYvER5X/L4QdZiH1rVFvp8IJXf6uz4wfrTd5/eNhak9PoqoAZ3/TTX8dF4L1hUW3K/y9FG11Qv+NGUIABLwAAAAZQGeWnRH/wsOrbrnLniy6p0z5xJnTMdEta87kBWUEWBOeK/omELzEg0bWMRM0/bG2dygBMrcyCzIXI0cEuqkWC579nJsJu/D96WPYwDT3yLRaAT0e1Yph18Zl94aH4nLCZRH3AddAAAAagGeXGpH/wsds1shdD1zeXHAMbQJzPZbYAoAanioU1Pww1A/kXKrL5RHw7lapcaXNnmXwT7yHTu2vQlEDZJrCprQ8Q39yAm8FAsF6clJm03dO/wUOEmK7PxVWljaUf8Af7BTcrWpZmAAI+EAAAC5QZpBSahBbJlMCGf//p4QAAGRtWIdAxN3bkiSVx8A1GJ9+tDZddPwAcVMQvHoi9uwTAQduI6pONwpqoF7cfeR/vFySjuSqxukqCiYqCXJAY64gmAyn46PDNyNpdF6b02DXvzwRAGmz50g9nU4AS0fSAs9diKcgeETitSs5eVs4JomooWCRnanHTXdq1OS4yDZjP3/8B7LhJSM/okd63Wwc6Z6uvFQzK8owBEtpLa4DQt4N4R0DYnWpDwAAAB0QZ5/RRUsI/8HuPEskyYL8wBmg10RhPGh1c1IUaV5fFFAylPLOoAWHK0PP7+F1VCX6/UOUwKq4g+URYmE+Ev+2BQPzmrDUInIW3RhMBm10OzDU+SB+zsDuO1L+PeaVftXGIlwiO8pAZnyFDnWO1K5K0AAZ8AAAAB5AZ6edEf/Cw6tuucueLLqnTPnEZt8AKGW08N6OcKWlJHCK0MAU1heY3XsxlcnvkV+79vPoIGlAuPES35LPbR/Ee1qtQzelL/XXu3a8lioBGUYGX0xSVVUpfhSAdgbgPe5okEPUCTi6NFDHObzXj2q/P8u6lSv24AWUQAAAHYBnoBqR/8LHbNbIXQ9c3lxwDGq1ssanICHw80bsqwRBmJ8Acwu+dG/Qgm6wqud0qI/UoRstEvw8bvTkmwu5l+wqVb4UhS58DpMnsFAyavHtVPmnS9YixQEbT7a8BnJBslnyNffpJo/fPIso7kB2pCpgcaugAVMAAAA/UGahUmoQWyZTAhn//6eEAABk+EytdQ0woS/rwWi/KNGN+trD4891CWcwVmQPbTGGIeESUmPttAevDC9xfHZsIVIEVJaiGcU5sZbm/kEDAj8Ggj2ISjbxXjnGd1/c9EedMVWWRlc6L5APJY8VlpV2Iw2Qpgx1/7wvKzkaOK20o1oGQvNcnt5PcImvtsdi0Asa78+1dpPk7egPnVDzQXS6sj2lZLGjqrYIHgWyvOxftEgn/6vdW/hAp28h69huGdJ+C08ODSso94yMl93/G8x/3REVXj1jRuXcFcYWc4P6Y9imXs8MivbrD3KegN3zm0HVdfEt4rfY2Dqx14QwcEAAABuQZ6jRRUsI/8HuPEskyYL8wBmg10RgS3TQZybgpHBdNBapog9gkmIz42ws0vRz2T+Wfg3SYY0xo6J54AR4KPdloThyXKsM+/p8tH7+mJ5HnhuEi8ip9Xj3lWOm1QyUQbr7V8z4wEbwVJ2N5H2B8wAAABoAZ7CdEf/Cw6tuucueLLqnTPm61pzxRunknxnF/P4S+y1cx7qVOhk1bENfLdLxN4NNkpgGi+hwNYqPz5DsFodlwMG3XFtl9xWWlbcaVjHHOXRl4ZjlNO5AvZlafJHBvVeQNLBeYeAAakAAAB6AZ7Eakf/Cx2zWyF0PXN5ccAxqsTLxnkhvABf6yEjOIAtrmigWvMV77NaLwYNj5RiBgvGVYqKBHIvrmo/+DOf0RtI3neLDLZIhrFot/kEJvb0s2fB5hrrJjEreHtJDyg/uVBg6ozkS1XS+FQWohkc6vJwIs0y3t9JAQ8AAACxQZrJSahBbJlMCGf//p4QAAGJ4TpDGVPUn4I8l0yQg11IdPIZ/QZDR/34RACz4++JBWfx4pQV0x1BeKiRt2AiePtb0vQY+26LyCHelPJPmFqqYTLWh2ZhM7OKM67SNeRAGbXfQJ99DPYduoO+f61Yb+ldKgfpIujQ6cXG6T2V4PcST0225tpj2E6KhFP7jKIMJbqIRMrGWqoRO7qWHNYRM/L4dFphemdB4F8o3tBCAI2BAAAAiEGe50UVLCP/B7jxLJMmC/MAZoNdEYEllx3VIeHDP+QL9WsL6U7L3U9n/+fQA03ZCcBr5ue0KSitzXybpBgUE0IPNlQEl0z5P7YOdpnb/LrYyMmcWtYr308jplJvOeAxToicDUGC2RRR7Sqm9XFSg842aGy82NcICylbGUjpq8NORnSROGQAJuEAAABfAZ8GdEf/Cw6tuucueLLqnTPm6yfdg40AOUAas57VoLpdiNXybloAZ+ehNLohWqPtHDRpfCfV+6OvOFIPGvN9nOSEIXnv/+MQW3ioGDaBwZxhjKF6mWTSwqfrG1UIAz4AAAB6AZ8Iakf/Cx2zWyF0PXN5ccAxqo5Xq4R4AAjT6Dy+Gpe8Mhof5+nNWCJvpFPMgcHOCPXFJxo0vGwNAIlPc5R5uksGgQNGKR/3PmWVZnCjy1uF3RoLIBjdwfncwWk5wbhry9+wxaIXuRipBO9hZfE1/8KPVBTSK0mIh4AAAAC9QZsNSahBbJlMCGf//p4QAACf+70nT2pGYAOEhVV7n7MS5KRoFH8H/IOavyIEq7IRrQ4tFZjo7zInOs5w9DSn2WfiuTu/BBeHZQ++7T9U9CfTnPk46ty+2ujBmvi8Pnpdtcb00BspbGN528UGYsIFz5n/dHggQBxFpF0yxqTDHqnIIudeEdljXJH8K3o7Oj/FQamTDQyQ7YjuXw/DfFp+DvC7S+4BrCDuilPsvAikLAuDOqVr9OrMG5yXpYO7AAAAjEGfK0UVLCP/B7jxLJMmC/MAZoNdEYEO7XgA1KIQeg+nfg/bWr2/cWDWK7FW+KcDHKFep0rW8Bfje2kOZjAzH0xA61gBJRac/5NRjxlzT+xXKetbPTIDzQDm44ZagVw9UM2f442g96DiM36xnywTC7d3Bh4tB/XHT6S1cWhULwvuHkYP8PiU2vIcAAK2AAAAbAGfSnRH/wsOrbrnLniy6p0z5upcnVaXQZ50oAAJSqqkNyfVnJllYrEfKw7TRagcnMdNK0ubuKDVpOxmWq5SXkWjycT4ix6ABAKFmvbX2aGh9sYJVJvzCc3Hi1WeJhDOStCOa2dV5RJ3+0Ag4AAAAGEBn0xqR/8LHbNbIXQ9c3lxwDGqfFhkc0AUGl4Y2EELE8A72yy8p4z1/NEOPyqPM2RZ2HftjG3YeuDYNIRpJ94WNuNzREERLZy/+3SD78wERxpSHyWXO/XHysRqlFwC2AMrAAAA9EGbUUmoQWyZTAhn//6eEAAAm390jamEkNEyFYr4MkbOF9Od1TP0andsAK5o8utw+4sP8n2ELiNZ8hS2G0zl3qX9zFUiiVQNTn/yZ2JCMbmZ5+JdgEFVHDgHtQ3NG9UcPLni0hHVIa/lNkYjytplrYuSpLdGY0zr9181qCh3ycc9v4IO7QQ4aQQVldexFaA9avC/ZsEy633JL00lz+0ZMMqRArKO5WSfnfW6jFVLWBlHZbrCrA/FAahqtQURaTN9pqqHEmHjMfyjKVb4035RghwF4iIhkgTU6eaqReEN1SDryWYeY6/doRpl26W/bzpGcsx8IeEAAACUQZ9vRRUsI/8HuPEskyYL8wBmg10RgHjnvEh2pcrX+aHl64lrOHQAijxrNYlNb/Xq8abp5fI2/QiSRhlSUlfNh9++GtwDgIaU2XtvO7oKPVDfWJZjmqBlpWyHkZG0zZYOBtI1tuQaqLAOjmNBvhtdkoiWqONEdzV51NBdfp3iqbqIgdlARVb4ZPuBYJQaopghu3AGzQAAAG4Bn450R/8LDq265y54suqdM+bkZMSGZDvqQeqO/LaAOJVHqp4YzGp8I7cV91u/B/Gicvad3YPV8eZtLQos35PQceftvLdcul2KA0DUBZZ5BMndaYpaq00cfc65eMmmCmxof6XBja5CC+EzZeCbgAAAAHkBn5BqR/8LHbNbIXQ9c3lxwDGpDasDNdeJff6TfAARjx36as/EswCoOtpAumbabeCwJwSLmXFCW/7L+9ATUCbV3AqWMQ1N1QoqEzX/YX7L5LNAAo4jFSzr4GYjD7bLlc36zu03mqSLoQ8NH8xDHzoLrie7dn9HAOuAAAAA+UGblUmoQWyZTAhn//6eEAAAl36U07biZvz92EhmKoSXLzB7VRJzYoB562EDeVEjEcqn/td/5HS3bXXabNmw7uWUX05nmPg7TyY8XWpvsoHX+scyNdxfJjSAW7aqQL68S1pCGVCD8ihYzrzUX+1Vku0wkpIc+wcJuHY9xjLuzvaPtL+V/rqmFEe1lErvcGdbkQCwXwRx/q7MC42gjKOT/YULRSctsuBoSHzxJILoAFCETN4CS6YD3xduQtT37KWEEE7WvYzAnj4rwYy5LF3X8Cg9trG4FDAg9PPy4wH/4V2KrCUDZg0P82tr5Sb9zXXiMkFeOTGCP3jwgQAAAG1Bn7NFFSwj/we48SyTJgvzAGaDXRGAcWJbeRb2G6aAFbYHN6PrgSw+OETLbNXpdrjGJDODqPdQkgr5aGnpIOC13LUwR3waEpMFaeigMsxPq44jpLpZyChBTeM+uqKnviJDrBuRkmtCDlP2AAW0AAAAVwGf0nRH/wsOrbrnLniy6p0z5uRnmoQ++lIOABf5kSKWunPX0M4i4SOzC4uQHSzuIGAs3Aqzt3Yx74oS6qCH5ubf35VsSZEDbot1J4B9ta6NF/7Y95aBZQAAAF4Bn9RqR/8LHbNbIXQ9c3lxwDGpDafga1H1lLIJWaeAuq0AAAS0l//TUQ9NBtgZfmoY6z8IRyTKdZlOW12mCg/j/MVNrlePRh8KiwEeZZlIEcpMqu5KZWSKJT7YABbRAAAAwUGb2UmoQWyZTAhn//6eEAAAO0cyQmEcbcm/d054hm3E4m24uz5VSZkwAafAcfD+szHEBVZUpygDFotNpdzO9dGul12fAgg/03/qgOtAGicWwIagDVRSEVRlU+dVycb42O5SciQi3C+9DPmkkHQKu9uO/iKJl9z4Ouz3VjD+17hiykLXouFAw3Nf04p5w05kavufZ147uI3OWfDMseYE9IxY48vVQE632VrY4nhOg5wGpTs5Vydtk1FQrYAIPX3rS8AAAACFQZ/3RRUsI/8HuPEskyYL8wBmg10RgGuLMFqsY6GLagBpui7hQ0AxPFWyuR89G8riz4uyYlAC3pBIdFocftnowkuLRNVJDM1wQ7srBuMDD05pRSeBKlvAercB7u+I3MoO64zfbjR1fAU+b0gl+57BnMXCFLFjRTpCOqV/iuR1Iwg1KgCpgQAAAIABnhZ0R/8LDq265y54suqdM+bkAXoq87+hf266AFcRXBMbLDXef/Vg0lWs92R7x4PE4PHOT9EEutbFRvcYTf+ioCtybVfp/O9vriYMcv85wbCS/QtmxpMvOigzg8mI9PCvGEiZy3HbJ9gqLQ67b8WdzGyOgvlVS4pTNAZz/KiPgQAAAIkBnhhqR/8LHbNbIXQ9c3lxwDGo92WiV/G8AF3nwoiJCfYMxrSMma/9JgBBNLEGWYUxJnhA+w3HMKzTDL0NMS7scETzvP0xCySWv5hkH0hC+0jcEwNwlj7RgTYAbPcWu/Sf3Wq0KmHPI455inYvnycbjal8XXHiNIfdU0+4RGXlXbZcpHO5o8r5gAAAALlBmh1JqEFsmUwIX//+jLAAADurafwvfcpieCB1uGYWyJbuoIDOsBzO64kBpSusl0791zOtln8LWbrsVF/4bR05SvMuAtZDEdpW5/kB8qmxPchGT/NusE2AmN1czIHTJNoKB5E+cwUOu7ywYEoxhFd8sg5HJla1Ump6lx8Sgwtax1QU2yGCOIWXJxyi/m5OluYxP98oVKVHV/ePtsmuWtiJ12blyK0O0ayyy46nN3De+JoXyBuHrQZC8wAAAG1BnjtFFSwj/we48SyTJgvzAGaDXRGAa4swWhxkj492d2OuLwop9OqxnYpUwbHfL8KJUMsZzS6me45E4B/01wEMqCjzrHTKuqe2mJSaLTCUWULf4btADbivt5sixLq/fR4rdBrA8GQ1+/X0jZNwAAAAaAGeWnRH/wsOrbrnLniy6p0z5uQBeipGsU50ZkRYXTdxCxILVsAOU30GhLVYl8nz0ned0SfV0ilJm6/txzvRfaDLrO1hIiHkguVU9M9rqEeuCUETi16uJo2iMES8bh85lDrIAM0nigGVAAAAYQGeXGpH/wsds1shdD1zeXHAMaj3ZaJACJk+xSe3i75joAAAR6jurXTt7Bj17HJT0oAI0J3sWL1NjyfDWxog9Afzmu4FqzhDeO1GpzRT8ZLrymnWp+kPMgbDn1T2M5j3Q9cAAAChQZpASahBbJlMCGf//p4QAAA6PCZXeUUYdGva+EQFgjTcsuzVmI5FNjm23B9Hd5mAFxjI5GoPMLMRL1JBHTFJ2L6xTK0pqKIWL1pdIjP7SiDaE+0lPm7OX4u5ElxBSDqH1lrWTk7YCwR8YWibyvuCB6AxmkA2fEgucviPyCUh/wcfzBoOVAuG25gm5z1hQ5m3GFKAbVHf6gY0gtgjziRnsW0AAACUQZ5+RRUsI/8HuPEskyYL8wBmg10RgGuLMFiLGeB4jyZAABPWSURW/LKvOt9si7S9v6FrXJN5qW/Rd/947Pr8xzLqE9BpwUKnyyw7d2reWjERSUHCrivlyJ4JcYAkPTAoL5ziGy3bf3Mv2mk2R4YphNyRYf6SY95goKYfFcCBH2MS0uF6eQzvKXB5vmR1Ab57hxhNwAAAAHUBnp9qR/8LHbNbIXQ9c3lxwDGo92WiLI/sVvbxoAWN3Vvb2bZFWX1FhZQTR1kt4LD4ThwShLYpRtcWefFqOvPax5bSpocl0+wVj6GtxtPlYWh3fZGIH74494bCmL1fJVsUbuc2Bl0B8eRTAP4joMaxlkUAf4EAAAC/QZqESahBbJlMCGf//p4QAAAX16y5ACr41bQYMvnrJLDbnHR8MfkEh0Rl3lPC7sE8StPkjFq07mU69ahtllZvFRDqOvlXWZXSqqF/a+NMsNlUemQCdM488063bxnXT9brD0k4UMLFWgW0z4RhrAwUK3qS9zAj13M63m4aKVpkCW7kMHiCU/+1+XJwByeeS8XV/ev8yhfetNGV+Uz3GNHbegDEl2tWhBS+Ng1dxz1R9kLsHmygu7eQmMMOjUmeu4AAAACFQZ6iRRUsI/8HuPEskyYL8wBmg10RgGuLMFMEJXorJL6f6n6AFgABmEeqYavdUsHDqKBLuwLYoqBnF1itIrOnaRZFx3pxkqY6SlAzsi8u4rV40nlvZFtzlAD4eFnKhA1mhrfGfIvKTbvbpSlzcfZ9UQkAB5zZoCO5M1RZ7WBgoFlK+CIccQAAAIEBnsF0R/8LDq265y54suqdM+bkAXonp4xoFXhOxZpv9iqRLOgAAkX3oEa2UvMN3IrEm/TgnKYNEnn16F6XpZWk1AvRwyDuMViNK/rBwahLwzil3JsFoZP7hGcu/TM3jlscfToJXfWZ2qHkpd+I4aHp1Vow83/++6n3LobydjBowIAAAAB7AZ7Dakf/Cx2zWyF0PXN5ccAxqPdloetzcoT4fAHMD3oLCVtE21Fnh9P6jiCadLXPSp/SdAdTpCt4VzDCaCbYe3pbDqJ8wvqC4bDlPR3zmH+Fn1VdDyvnh6OWuZFtPcZseFDT+wXqQixeQ/khkZ7iHu2RdBcGqW/isHHBAAAAykGayEmoQWyZTAhn//6eEAAAF/9jVLgoElymXGUK2yGNvvJ9sAbwvfKVEkPOcz/GuLwlN1Qm3WPTCFbrMfwhAavB6Iu20BInVDWP59t4P4OZ26+/bOpLVI0UlHjCzkDMBZ1rGjDbbCVxtIReIARCizucxs4cNYCkS2YITmYlUH/mhitm4ehGTvUzAW3fjzAGQP45hYVYhQbPDPXcH4uEqYCJsvtv/SX4kfAgOMEu8WDcuDrRQGmDr0MuBn81mlA/WnY4PfENjEOOD/EAAACkQZ7mRRUsI/8HuPEskyYL8wBmg10RgGuLMFMEJXUB2dogGqfbduEL5sDiLjiZna/9NWkCT6qk27Yd3Us9PD4wfUfoLT25vPaOsqFPjTvBDgd6YFFB9sRa6NJze4GkotWjZMrA9KpWXZ9X0duZAUzVUv6y/WgsO0wWsn66gwMrdDqB9RXZyRUdVsy0lH2mY4xx0C4PRYFVQzvifz0R6QCLYNQsQtsAAACMAZ8FdEf/Cw6tuucueLLqnTPm5AF6J6eM9gP5QBNP91MIT1v9nV8pA7WpPLkSiR1zII9p9+xRvkMtTaKJ6emZLsOzKTbx3enAU2AnyoXPfsgykHP+Pp7odUXVF5kTZAoD9x6fwmeUYRpkT1cV6TojaKR4DlTwDdto3vw/bAtWCyt2V9zpOlcVfrzeY3cAAACIAZ8Hakf/Cx2zWyF0PXN5ccAxqPdloetzcnCipQ1GglOzcs/HeAAo0caqBg2gbKf4gcJK5q2kriqCXFgQYfC7GozltLyzpBxi3EyHUX6JgkmhBLXmygxGANgwWFhEWVgzn4IHjl1Te2cxPAIoUaxeiZj/dmHa5sLN9/qQCSqyj0k/fuZ1YAD5gAAAALVBmwxJqEFsmUwIZ//+nhAAABT3f2rnTUvHWqzXvwUfi4AKSn24j/vm/WMgAk8sMSnOXUL0K0Ll0xrn5+Rgi5/BDJ35EmeYJLCY6GHGvoKXlT79efcLvNYU9kJHeE23jiMfnvtmK/yj8T5tiKcgLw8bdzorAGfcnXeiqll5rFiaMqtS7VnLKEcCtwaKrPkWeaVNNdNbg9uIitJPAfyoBsFJz4XgkwfQr0XLdyPcditdTs7wXIJeAAAAf0GfKkUVLCP/B7jxLJMmC/MAZoNdEYBrizBTBCV0iUwC9skDmgCt4ogkDdNBqGPP7zBiB9znmcpcI/4/wf/atELmIIii5RzOPs8wI6c8+7HjsAeLgvbTIhXkOyjzk0j3IaiV4THl/J7fGSUUkvnD/F6hXTk3qE8hivh3TLPgR8EAAACVAZ9JdEf/Cw6tuucueLLqnTPm5AF6J6eM9Evp2lDqC5wPcmYACw9n50b9DAM0yLWK2d4l/gqqnrLso5tVVgGyjKgCfUB6CuOk6gU+Fk4Gd3ttk1u9HL7dYOJkwr7qKFsBU8wJ5RPJpPxwlBKbrqJDtDijl25FkRXTu0ThyIUFJAo4o+1ZCOQDVyWkXtVcC1+y3qAAUEAAAAB1AZ9Lakf/Cx2zWyF0PXN5ccAxqPdloetzclvZjUOmGPf+7bWcXElap4K/G1QAcbCH5urzXcgWhn95qWR+hTG/iMO1pRAtHeH+/dW5BfdFQDFLxNc7PS4Y3zCpPgrrpwFUvr9snuOdCI51QXI00BFwDQVpQANaAAAAu0GbUEmoQWyZTAhn//6eEAAAFR936wbKx/3xYVMTi9pr6igb+1s9BahkAJwxMKnlIzKQvMNReegk15ol2/w2Ca5lTYFdlc/JSJN1hE557WVDMxS3RkMQnNECQ5dm1CbtJdvNxEK5kSUyRFeDZo4RlGnKcTnJr/kYYeEFX/3pkZ8s+4Gf/suNVJh3HqQq5+J1Pc9/LstadL2ahIw2y0CErmIiKg/9QN8gjEQT2BDz9f5NYoIIft/tTs+4PCEAAACnQZ9uRRUsI/8HuPEskyYL8wBmg10RgGuLMFMEJXSLJJaABwBHZ/+PhSj2LJebp684PWYdZMw3EOyvWmq+9sb2Ahj1Mi/1d99NzFoUG4cOjxuy3fTgEgwD+6Da4Oj8Y0rhoGvMxuVo3NRNDEJkv4Cdb5nuxAxgUvg30aHQeEsZCDVnvryK7AE4Hn7IWBMJHBfeBnL23uxwFL8XZnXVl/RoRVZ18O1wYcEAAACGAZ+NdEf/Cw6tuucueLLqnTPm5AF6J6eM8+4uyRJNQArSN5PmPiwd9qmR+nBMQcG07lZ2oDDsHgMZDimZw75XfDa7WSr4yHU358RrUuUP+K9GEu08+o00F/JKARoKfr2rB3HqULL7pe0juse1pxYDFWx/rJ1naIp1uSINpMoY12elmdFgA1MAAACJAZ+Pakf/Cx2zWyF0PXN5ccAxqPdloetzcgj53pljTBss9p8/z/28fAFHceCw+E4cEoS2KUbU1bOYYqCkFQxXqs2k6ax3krnU5kIl1qCeNqRP/cHGt42FtWysqTyA0y/L09TZHTmJ9ltt86Rsg6wZAugu8MKZccf6idyDaNAMFb2NvY1evyn31tAAAAC0QZuUSahBbJlMCGf//p4QAAAIt03K7uQlUajY/+XiPeB0ApoeCvs5ABoLonL5RQK1Y2jG2Xb+fmLXSpHs+U3Nghu90DSTfyETViCHk4XPZvxeVhhb81u9At75YkxCEso3bR6LHjfBYaU5ihsYaBZuU6tL3OIoIHU2hIJ3hM1HTE5NqhGRlKnuFIN6w4N6UVU+ctZXGIYrkR2lqg13rtOj4dejuebYYKDf0tnDA+M/OggB1FOmAAAAdUGfskUVLCP/B7jxLJMmC/MAZoNdEYBrizBTBCV0BjRHzNIEbokAHE94MHu1KdIy0h1j/q/zM14FACs/jrwlHnIFJgmSt63EmtlHGfOSw+5GLFjsHyHmyLFK4wRXMpLBrsyPZrgq+jkTKIaUpfAJpvAMXxA44QAAAIEBn9F0R/8LDq265y54suqdM+bkAXonp4zwQFwW20iAiGgztAV2VABZ8Ozl2+5FDE9AGEm+7N5E4na/ndd/WnsCGOspU0Imf+i6aK3hCf86fTSilDNDL5QoSEuRbiP+lhcv3WA+FY/1nweddgwgmQ1WJXWncQcNJcJcqjr1K0GHA7oAAACPAZ/Takf/Cx2zWyF0PXN5ccAxqPdloetzcgH5jNJAF+CbpGixdp+d1014L1PFaxf506B7tpRwnZPW0OOcB8gwpAg7N9O+fwcOktWwlAzkMoGDqgxWKckWZbGgqQPq2UUjtBteScRuGjEzQxmhludUU7Ymh572dn6r1/zn89whpsUpcp6Ho5t3Dr9uOQFwDpgAAAEbQZvYSahBbJlMCF///oywAAADA44WwAAuoAfBMYqJZp+Dzb3WbLtIJlVl3coSm53zQsVOSbxJyUDmXZg7LqyZgvtV9I+9wiUCWkFT6FO11qFrb4O08aEvEU1e2bWbMVK0NfYHYV1Hx5GeIz+QB3c/DAp5sXJMY+XsfUMUA0ECn3MEfKBYm2+vT6HZU/5Iw5ZcxbPhetyzFTOFH/kLp3RrGnwjti8+KapaIBZUXD5dI4MWw5gq5cc7+WuEL7TvtQPC0f7spaMCOsRmvxO0n4YrB0nyBqyVDWqf2Hd30TcWdje3BKvi/yacsJ6pQkDeE8Yd9Uabe3gHZhHtjLbLR8+ZYf9tPyZ0XjdlrngKGdeCFfGl9xTeV83iHq/rQwAAAIJBn/ZFFSwj/we48SyTJgvzAGaDXRGAa4swUwQldAKHh4IJgVhZ4VceAI1GHW4UpVxedbfULGILqA5qlJjw8FxEvDpoVcjA+j/qA4DiScLbHvcUSsHLanzHn6WtVyyH8E5cX9j5mE63p9GxxPyKu7HRFG+QG4gg8L6xFdglUEPWC0MuAAAAbgGeFXRH/wsOrbrnLniy6p0z5uQBeienjPAZgkOBVNyPbU9YYAAiGhpu0QuWG6Vrm/TgnLEk+iRfe76COY/A8OY5bOY6dZPsS/p4zm7BQa//IbWPY5clkxzcTqNZ6C3IkCyYYulm4H4OKtLNCelDAAAAZgGeF2pH/wsds1shdD1zeXHAMaj3ZaHrc3IB+SgXjYDA/byz/XkJDEEj08d+97OrhKw8+opkHyZy18YACAOA5TukcmXXTkdn6JN3aVH9k1vfKldH/3IyG+WhXPtXI+ENAepgoTerYQAAAPZBmhtJqEFsmUwIZ//+nhAAAAMDjex2D8e0XV3RwUJy9e28j4AHLG1ZhIcRufzwH6AX33nkesQaTUq3/JuzdqkrDlgymTGEwxLC+z6J5GJaSjAtkb9Bpx8RtO2+ZQX/BPq3NDf3RSOpOAd+XAvQmS4M7M+RwqdtvBDv+RRX6ZFqjpGDe55dy6DQ8bsjuTE8ScJy30jvEaiq+a0etYar3YMNbrVw8mVj8Tn1I+YmpwKSFZPfZEGBCCzGqD3m8ECr0XSgeRFEQhXejlBEWPJsRp97ckLzi/HgnhB6Hx3NIoh+nNPBGFe+7di3tdpPmiGNMlOmqKeL40AAAACYQZ45RRUsI/8HuPEskyYL8wBmg10RgGuLMFMEJXQCm9+IAUGp1k2jE42vDYV525EAM+3wbGTm1mBawy4O75cQVromLEpgr/soucIthVRz1GPg7QVQBnX6erfwLXJTGwo+i4ZaSaLwAPYL1f6Bv0+KWzqsw1ATbkvhBK02rNcPfHYq7LuZtJsEy+4c8I0OkL8MflbbZqdgrYEAAABtAZ5aakf/Cx2zWyF0PXN5ccAxqPdloetzcgIMfrt2LxANPPBzvgZSP6pzDn4MNJFzZgcQVdi8hnCnd3P04AJ1hpJkVPYxFtUhByELGcfjqzfTMxfjgaVFZtIpBYhpHUquBN3oTAWP3JeJ64ArYAAAAQJBml9JqEFsmUwIZ//+nhAAAAMBT643Xq0aaT380lxRsypFoABfXPE5BdYy9ZCGeX8b2lEymI+69z+EfA3C7pkII6tUiDyOHMju/3hH7eU+FYgX8IPnyiFTwpmbB+t/8TXXcx1MoHtWVUJe9u1jRsIIMnAaTMQcTs1pDPNdSaGK5a49piZvcC4hoM5tgV+wuI8jfYBR6EfuYFN7n4MYMe4pQGXMqWvgYDtkNh7OTqAK0ZNaXhbmASd/6LHW7Qq6A0BFKWu4z3KSJaRQTKnEPtnlTfkjKbS6rDkPZ5+ibb1NJ4IsBcTn3axMdtzBWm1AzSQRX5DhytiANVSaqOGlBTdwx3UAAACrQZ59RRUsI/8HuPEskyYL8wBmg10RgGuLMFMEJXQCEiOVpWIAhzzIh+RYbPksdYNyECMocN/q4e3zLmTx4zFphT6/eXTKbnuYxeXjAoG88Viekqfs80lxKgvknnazqUUWSKn3KuxYwFwPGtdx4gTh0aZjaoYwyXsoadGk+KrFSQ5NBNrtK/DC7rasQ6CQ5tvYQwnJlyazyWHKDQseWRaQtQAT3hlm5Wvd94GzAAAAiAGenHRH/wsOrbrnLniy6p0z5uQBeienjPAKb0ZB6E1/k+AIeqdSBQPD8QN64gHl9PawZKkxEBgrVs+I4htHLrIImEg/d5dmAUpJhOllkRiJdBMzGzo3aSLjZfAZD/i5CNhtxJGtB58MeYoDerAEUTa1OVeZLOhMnmT42kOKM9VZVI95DduABZQAAACWAZ6eakf/Cx2zWyF0PXN5ccAxqPdloetzcgDM+iMADfeEeuCUC52tQiqOHce3/Sp8K6wrm8c60erQzaaZrG9JsRqwkod5z4ZTBX8Nz8h9P2CKrZFJANXZf/KO0Bi9pVBexZSNM3VWu1H9v6zHIWiDsTOUW2a7lU7RjsPE8Qm5baLyIIhfV8V602YtznBgHkiDBqH1MgJeAAABQ0Gag0moQWyZTAhn//6eEAAAAwFPrjderCzje8wnd+dLHaJ7kaAGvnHcpm/ejhkgeBMWCIT7FfdXfe39fbGgDGHcQy3aFc5waRSDd7kemG/VUsvDpvPt+8ciPfcH/NkolIol1wicqm30TvT/iUntyumAk1nDQ1qT8cv77FkeKPPdXrIzn7hxub+VL4gAuvQvyukWnp7qMiOKuRlmG9cBjXkszYGT4EWeNL/bLt0doxZPKYiZi9mLTAZi/7vU7eh01pXH8qzxilntGfD/s5COGe6f2A9SBYxbpVY4JaGiVGrx/f1vUbo4CSMM8gQjaki9phzfT0W1T/OfF3r9mpXRpHnHSCPd+EA0Q3Gu0hQh9oIt0T9fyS4J92F19k+DS3h5xjysgiJEb/ZVUvBCfSMvOUhkXdHCFt01JMWqwCkZOeUHoNCBAAAAo0GeoUUVLCP/B7jxLJMmC/MAZoNdEYBrizBTBCV0AhIhoKVuWoauNc/5NEALAB3m+MZ2oU0UDe5aFXxVkll9YJ8xiPEaGcPRvgEnXsbn8xoJOh9o2emPgShEZmScyDNq+KKGeSXLk7LosdbCkETVUnII0dA6xf8iZhVxOo2iZ8hQ61ZpiNPGT4Wht54MWFI5XaOzCXmDvdHs+CS2s6T7XjIMFpAAAACHAZ7AdEf/Cw6tuucueLLqnTPm5AF6J6eM8An4lABhPeF1nMGzesY9AAC/uZH9VLnkXZHErryiwKtfYZ3k3T8JUnnfZvjHAmQBSzhehXEtADBeXe14rGHTJ3yOCS1dPjZfYw3fhHrAx1IpCwgZIrJXLhi3ePlYa1MgxSQTQZ/EAdOsHZ4YgB8xAAAAggGewmpH/wsds1shdD1zeXHAMaj3ZaHrc3IAwRjtKp9wGItq54gKQMPq8AHSLr+deLwOKtLKHQ1EkmYYOv8PIPL3oLt2JiH7O9nFAChRrbpLSMqObUUwGmDl41SXZ0psrAw9WSqYTg2iU5fxTWoQeg1wxTWA/vFr/rmchlv2alNLDYAAAAEjQZrHSahBbJlMCGf//p4QAAADAVHmXR6BxfruvSq40aSWia5bmuET37Xmu79SO5/8rmVYAMpyKdqfp+7hirWpzphgLnASuYs6IY1SfFdscPLv0kzfzMpE5C9NKJZktvLp89BeSH0N6jJ44AsvCrdGSxm/ygXEo3XpH/2kwoNb3oBpuaccfEOPtOYqbO+/J/HSgclMKPRYmV26xA+r/HcQiFIbl0Cc4jiBo6xK7td3vhQd+KNWwX4JMjcOp/HeC57SJXUfP6dSR0mrE+vVw/vAoYC4hrcTycrgRU2XQqQxtWdHXwvVuG/0oG11ZlDPGcOI2MBiHQX10Z9uKcOTPyuO6xpCtdKVXsLLvCsTFyhk/wbuR3mtxacUlCi/5Dw0P/WPOPvrAAAAo0Ge5UUVLCP/B7jxLJMmC/MAZoNdEYBrizBTBCV0AhIhjvclXY0z4AQyUW3xkRVrL09raMzFrwMNc8JWzsMUXbYHczGCkS/gfB/nNTS5bLDZrS0ewjJ53esolCm2oPM0f9vfk82fL9ijlhefouSQjRfpt6GUmdEmW93OWeVYuf0RBXOu13hq15+Jw8NFyVJbjXWujYkyAv69wylsvQWahpgAGBEAAACKAZ8EdEf/Cw6tuucueLLqnTPm5AF6J6eM8AnQCkgVOIXyRDsxuxjtRJ8fSdVoJELCkAIk1WGWZL058PxHR8fOyLB7wg1vo6oQ0b2O/3jW2sWmOg7prTp7qTa5kUkiELKxB6NXPfodwgT7KSPOgeD8IlkL+5T4T72ewc7+fhsxa90A8rPGa8UhDbrZAAAAegGfBmpH/wsds1shdD1zeXHAMaj3ZaHrc3IAvu7s8kEy7mnvx7y10EjNjk4a/AETF6EIm491yGial4QptM/wzi27TyVvYBmB3twAJf3zqSMsTnLv0mWa60rKsBuhcnsZcYe95jAYrfUuWcdYZjT6ahQfWXXooTJ7qAPTAAAA6EGbC0moQWyZTAhn//6eEAAAAwCDdN51orqsOeFa4GNy62AhAAQQTQTEvXredqb0Wu/MqF4+lNM9Yd6clRzJq+2fQGosNS8/HFEHBPoUMgXcB/lzuGGzf65+nh1mV4c7i2cKv+M7cSfbT3TPmu2/GsvKpi2BqY8L/B4pl243t9lc0mb4pCUj7JvHgX/gy2+Ak8CBx2e/NMY5j6AOucbze1Mal0Z//aj4Mr5cUnC5w0KmFk7zJKjd4/oqrSlKufl6li8CX/GEwPL/uzsTHol1SntfSXt04eZZldXS+hui1mXP/L6OOrR8944AAAChQZ8pRRUsI/8HuPEskyYL8wBmg10RgGuLMFMEJXQCEgkWqFJsOkvcuAADPnuuOQRjcbFJSRzna5yo9osvntpOYV0q4qJV/C/RNQNIp8to0x2lrsbqXgEFLqtaqDsrQQccEfFT6dCq5sfg1X1D3G5NLRKAv5+7BGPig88VDB/c0axbnQrQ0DbpzqAJddtmonVZWmUm76wiYnJ6dgAw78rSgYsAAACQAZ9IdEf/Cw6tuucueLLqnTPm5AF6J6eM8AolcQyA44ACwI3k+Y+LB32qZEmqwiIop0jio9Tx+/tT3ONRUAV4/gGARoabXAdoBbrM0+tqyNpYHOjU7emZDGtjsuFeqxomPk6snlT0ZnVY7qtw2JsG5W3Ro8lA+OJsahoYaGgPeBw/cVPMRyaIE0UT+x/3AHdBAAAAeAGfSmpH/wsds1shdD1zeXHAMaj3ZaHrc3IAw8kgYee8Xvh0MsRrU4wEAJYVKEr9XG1xt4cyBREWJ95IU7c8dYZYnRYPvoc6b58HgBrfjk7KDIjrpxkIVIKN6GYkC992ahMmT+Dq3uRzr7Nb+PyvtuhZurY1dothRQAAAOlBm09JqEFsmUwIZ//+nhAAAAMAftTndtiLShRY94F9oBYVaxMiiyMbghTsDX3d07jkQbl0cr0XlXIk5RwHlWnfHtngLNXSvS6FwUAD3eBu4fBf/+v/GGAxbLz05CSIWG6I9M6uEPddaNMDosBfVinW6lctZoGaV8y9EoKK0Ai1B2EzA8vu/S2m0XS6U1yJRNEfp8JfcQ0J+kNiNZZRZdcEJcNGzHtAMHSTsU3wifJtB3M4hheLdhfbiy6D2zinMyyRLeSqIzdv2UqmvhbKx5nXhbvT9K6Mp/7ciaaBglWJo6lPH81A0oZoWAAAAK1Bn21FFSwj/we48SyTJgvzAGaDXRGAa4swUwQldAISIEFiXxK20+fnZNAOEfACE5VuZw/nkjRA5XvQ+mUlOviyHvrtEQ+/KoTpuJJlbHDHEgWUtbv2U61jJusMnqfyG/a46JU4DppAzMPDlIu1zsaeEAEm5K7ykNahVj3+Skc4EVBQcs95U20ZKVmXc3Yn+xcjl5pv/E7Z6ttG4nka74uWBXdPnWEWIZMCCjAB0wAAAH4Bn4x0R/8LDq265y54suqdM+bkAXonp4zwA8aLc5/c5RmOrZsv0YJQLjowAXFBO4I4608j157o730s379d4gbja95hmuxXYwlXw+9tHNZ+B7lwyMjEUw0t6lViNZOwz5V26DJyEJFqmUj6n3m5klrLMFWJzlKUeTR9wEnENmEAAACDAZ+Oakf/Cx2zWyF0PXN5ccAxqPdloetzcgBJV8yapNIMoXHdZwAbCcRoQbMgykZ1KSjnAKlt6YxyXOjTRBPz6F8OBn2cpksDA/jolKwWn1hs7Vgy0PzKEthNKxMVviZ3qhfJ2vKvTBgExJFKMfCANyvrx5/x/CJ3SOi209RABKG2NSEAAADnQZuTSahBbJlMCGf//p4QAAADAH94TK7yjVeRiAKOC0i+0u4EuORSFp2PUhkKjGMMg3JI7rBkomFeN959cac0Rv80P6no9Jf/PEKz133ArTBRtHQijsN4LZLHcDPcuuK+nnYPy5FveKV8kJp+Juj8GZdGsV+p8/5tvIBo8GOqWNdwLCAJKorFWilQ9q3XH3TlBaQvMwu/J0+qyZWKl5PJzlknFq62FJVEE1Rl8AGHDd+mAbXB9tkoec8ymjIDzkFPCZa4L7y8/4qJQDmWyZeOFjKyiwwv0mMItAIC1tGpTgyDgA0xfjpgAAAAjEGfsUUVLCP/B7jxLJMmC/MAZoNdEYBrizBTBCV0AhIgQV+2rhbioGQLB9+aZU0n1iv5aAdlSZMXqhdX3+YBcBLRmqthO3OTbXKmnn+x57z/Vk8F5uGhSfB3jtClkSPIibzlaSDP6eJOfcBnsWo2kFCx6cgwrgkM7MJkKuaWwCwbkbmZgzigMXgV9I1oAAAAYgGf0HRH/wsOrbrnLniy6p0z5uQBeienjPADwoLRn5hC48crerxa/N9CpQSJTSAC6i23gF3jHFG7qTeylA43wfJg8oRyELccNgUwZBVpJtJBcGkTU1OJzn0366SLIJIMNQHHAAAAfQGf0mpH/wsds1shdD1zeXHAMaj3ZaHrc3IASY97jYeJYJce3iKyIAPowWxQatJ2My1XJnlJe4GEt1MapcPX1roRZqCYFy2QTQGJ9lbigOjz4zbFpBEKF0215shNZhjvNli3Ddyjat/+d03RxnCYfbh6u9FGgmELYA/SAFBAAAABGEGb10moQWyZTAhn//6eEAAAAwAzuuflwN0rgCqaM//v9x785wZXTQfHh9/rf9rfc+6cBhKu1g63EX9+6o+YEpsqjnzocbbF3ypwKx1fo28qIHYCahKzLXR1kbWrkp/kETK+eAs7lQrfvxQEDSFYsEg4wQWBkui0R+AvAUMYOo090J5faCazRXPuGyoGM1slKYip8mZZ05O0A+wUHGeSVrtR3VhnztWB34hckWz0vWnXB25SAYcZTpuj9MqCwBsfr+yu0Z+f6vRigm0S9fpqYOEfXYxG5G2R0srpSt0FTc+s9/UOwPSQevlnKh9PFISpUXrJv5thyUumZTFzWzpWjJ/SEp9vxpIhpRHyOJHMaxEYzHutVV8YCsUAAAB/QZ/1RRUsI/8HuPEskyYL8wBmg10RgGuLMFMEJXQCEiBAYyp8fvOVqoQldHUfDJkxAAL63nZ1MjAZHyFeRq8F06dsuaCznAyVNvbpNP1Rz83izEp2dJmLBZnlGEkZgIRLzl9upzD/3JqTnuDnCzmM2R8+C+Ox/etDUSX6biBlwQAAAH8BnhR0R/8LDq265y54suqdM+bkAXonp4zwAYKf/yaciajBj3jvwACBf41UDBtAcTwoK0QkY+NTVBXwpkY5wGmcmwP7Ad7ZT0vHvQDj6AUJYtRDcdKUKzYRQVhCZ88epvj7l09e2aqwMADluq9BubWmrpW2Wzs0a8WKqt03dgfMAAAAYQGeFmpH/wsds1shdD1zeXHAMaj3ZaHrc3IAHMqt+IJkALm+nnfbIAJafgkqHasg76k3hih7Vawya1MxQnbKuOeQVwgpclbPbTkZN8c34jWzlLRICD7P+l9zB3y3uVcXwu8AAADqQZobSahBbJlMCGf//p4QAAADADSrxup2Foz2uqoAce1lEUY97nnaC5jS8KyTnlt2qE1CN/yCn0fBPfoIxOH8rAGoZYMjTwLZhMieVNWxyyPnOXR+IZUijfNO5mNUbjonXjokEztv394A89RYxtHTdtOkWT7Yvhkwj8QZXpFO3O9i7DSq9VTnWaB9Q/i+SUMuOjCkD7ZopRfbGLRCwujTkXlRv3ugCqC+rAVaVTPO1Hqn0ElZsaCkyqfjYns/YY3da0yazQ/NTnwNzqKNvpl14sw1i0f5zRFwLO3jWJE2BkrBpnvuPaHnpvMJAAAAn0GeOUUVLCP/B7jxLJMmC/MAZoNdEYBrizBTBCV0AhIgQGjtB0AFfJGPBN7R/jYtP0K7pFtjV11foagzvcYNTyj6TE4Vcrpvwv5eijy7/SAdeOW+75pRbcRasndT2Xh+9H/jLnzoxaf+T6Z7rwx2rIsLlhaC8UEkbNE3uW9ZK0ZPqvrS0jkDivTtBzXNxS0EbrwulmsOYlwHo3P3+eADggAAAFQBnlh0R/8LDq265y54suqdM+bkAXonp4zwAZlJdNi1vfTJ2R8hJjC055r0Q8LmmcagBYhEdR/i+v9KD+wjjJnS7wvkCGvSRW1PeRnpWIih86XQr4EAAAByAZ5aakf/Cx2zWyF0PXN5ccAxqPdloetzcgAer/bSAEYAWoUsV6Rf0fN0TA6EnOOjzmhqhDqh0ooIphggh50wigOD6Zpzz0stdDQcm/YzU0mUR/CigxOuyhuHvvn77xm9RO9SHzGiNX8MOnwS7n2gAD5gAAABBkGaX0moQWyZTAhf//6MsAAAAwA1XCc9zdXqhgC+PU10STmJb/0vYSTVnxkNAwXtV4gxKrMiCS56RRpJpjorrS9Gaqq/pT0jevRsGbi+R/wOIK+eD6n3d9vklXZ5I1M/EBVL2DxYmY6eF+xSCyOBxnmig1AhX1OFE/32uIF7ZppmtqaBxE1JhMkHsIcPueGkJRCJ5c6xIst3TE/apRwQ5pu3G3RwjOnzSNfCsufUn654g2asf3gbT93ekf/xMQAHVCb6FSYpLA2Mi6H78OeqjJPSWJaeCzFgImrJiF7rXyqhiWoweOTQ1omeq/E8bytdQ+IWQy/8mPDKgVG9LYL/UXusq9wpQYEAAABkQZ59RRUsI/8HuPEskyYL8wBmg10RgGuLMFMEJXQCEiBBZRKAa2AB2hyDAjfUQ9msLdca+wY5rlhybyNB6P2GYwNT/jtysX0f21CzSptyK6z7VUDnTMXJLJobDiX7QqxdcAASMQAAAEUBnpx0R/8LDq265y54suqdM+bkAXonp4zwAZ0PqX5oq83tf9ljw+w1LVleaXmD2aSn8ElKaFTtMxJN9hA+/nNkPY9AAaEAAABWAZ6eakf/Cx2zWyF0PXN5ccAxqPdloetzcgAeSMkaUAYMVyyf+owABO3RIQ6ze492/CpMuVZiqD3RkMgY3icKq8hgyOaN1k3kQp4VuDlGmjnVjwAA44AAAAC6QZqCSahBbJlMCGf//p4QAAADADc29BwvMnEJQfUYanwBEhvBaArJwMa4HMwRVPrQRSfJ9Uo/vOWSXQtDZYmDVONNbgXglRE6sHmPSDYfAuF41bEIxSIM5cU67aQaZiFG2Bcmbu6EeP+yzoKeE0WBdw/s5Vn/TdCWXFanpaeoWwlww43WQOVT9SjIfGGQb6565i3FeQb/nMLzVD9Q1LTJJC9gcQTjtQyQd/G1tIHHg1p2cXKYO8wiW37RAAAAZ0GeoEUVLCP/B7jxLJMmC/MAZoNdEYBrizBTBCV0AhIgQWURcgrAAj2MR7H/MAyQs+HsbO8+8YEnKL8rr431yKr3H+GwhokmJRDI6ze2Hj7jpCE0PjEgeXqu2AHoq2F8nX/VTwAA+4AAAABqAZ7Bakf/Cx2zWyF0PXN5ccAxqPdloetzcgAdmU9Rd0mjTOUNDSiTZlBEgBGPHkx1d/sXCHDv6UAAywBRh14AkM/uyWsdGve+LO49ASRRZAuYPTDfygViieIJksCGg/jQKnEb34BoJ3ABQQAAANxBmsZJqEFsmUwIZ//+nhAAAAMAknxThEAC/K5+ZOtlnUMAOJVdaMCLCX3UvPzBBiKD9P3ld3I/jVAChoKt8oOf7wnsFMscvvwzHnMC/cGs3+LiXwi6JXBX1Fldu6XLAaXYRXtDYtuq66Lwmu3x/1+WCdqyDxEdpYgxmAYd5daLaAYfako+z9ZgDmkNbJXL68xa6SU9ReSlSh98YDvonDdWLFrHLjCPNr13wDH138dG/WaWk6/XBgxcVp3JHiMpLtmwKoyOBC36zsli+NOYa2N+UbjAzdPcUW2uCURQAAAAekGe5EUVLCP/B7jxLJMmC/MAZoNdEYBrizBTBCV0AhIgQYwC6PIAgAtmMGP9l7YQmZMwN3uo8jT0GxesPk80Ze/vkGUQzwWDBBLqd7QvOkt1PNkHTW5KZNbqBvDOygMgFephYtbKW8rq1UQo6pLsmlFAiNAWoJnygAmZAAAAQwGfA3RH/wsOrbrnLniy6p0z5uQBeienjPABmUE1HTPbDRe0qmaTDe0FACZcMesMiRZIhd11nlbmIW0bgY3DEf1ADFkAAABRAZ8Fakf/Cx2zWyF0PXN5ccAxqPdloetzcgAeSNhEkwcxpm0+IACUwXr8nDvwUTwsmzrstxo8F+Qxv1hIch1dVsipuo2vtPxBDP4f6dyDgAHpAAAAokGbCkmoQWyZTAhn//6eEAAAAwBz0D2ZgxokAHApUfKrLdm0d0ocvaCpuNG6ef3Onyc54B8eMn+Q+trZf/hVfnKMOEgE5C8IBMvjlmSfqFXlJTJjRhjC6jDoTPg2/p1smFdfUsR2vpTOkVcIn1mrCncyeXsBjznmnCfds1T47jFIABbrmC8omrxgO6LGUk0gtuWrEDjb+5y+wsYqpsAxqeXzoQAAAFZBnyhFFSwj/we48SyTJgvzAGaDXRGAa4swUwQldAISIEGKexHtyLnqoLmNPQ78l6ow9+E0mPACppwz4/IV7RZmP9bOkGSoLqQHE/+UC+PK1Q2XfAFhFwAAAFIBn0d0R/8LDq265y54suqdM+bkAXonp4zwAY0fy8ARMXlTIYhkugbR+km9giCodF2q/xVVjr+jGlJQlnCA8ObsB3yaoS7pzvJMQQdCGraKAAxYAAAAXwGfSWpH/wsds1shdD1zeXHAMaj3ZaHrc3IAU514EZfvvgAIwE/OjguoRs+F/FgI+0LMe8dfg9r02cXfbJUS1CLXPR5Jeri2KLQgE803BSxRbdAA5f1+3qcy3WrGgB/hAAAAqkGbTkmoQWyZTAhn//6eEAAAAwBz1bV6Awy2usf31jGrsWm8mkkdY8FgLhIAYi42RiPa263E17H6FFPn1/1oiCvb5jWM5CnCn/2TZ4YCDzqGUI1yqyfQfv4BD9AhlbJAfl7GGwoQSTFIsfZwicoSGXavSZYALVDCvSbaguY03yvGlVVCs0H9IOyNam4pzNPWbcznxvWjbdu0sgXFTqXD0FYFZVAMftXeT+/MAAAATEGfbEUVLCP/B7jxLJMmC/MAZoNdEYBrizBTBCV0AhIgQN/BuDu1buS6bNP/9g4wimO6+dIkWYd21g+Of/UAGaVTbm6aKAOhwZLZCHgAAAA/AZ+LdEf/Cw6tuucueLLqnTPm5AF6J6eM8AN/yP6zNZTk0JB7X4AS0SIzvHzZV5oq3OC5h2Z5wYQGS3q3QAEXAAAAMQGfjWpH/wsds1shdD1zeXHAMaj3ZaHrc3IAHawiTNeGmFp0yDaW4qxTy4EaipwAZ8EAAABtQZuSSahBbJlMCGf//p4QAAADADTr6y/RgwBnFkbrR8acK2hDnYvsV7GjhUrvqST7JVLN3LTJB06fTKqKhtvPFxJH+1zG4rAKlg0IHyXAwImcJZ5uJIxiAL3ZijfgSfsI0zXCKebp5zWSqfmubQAAAEdBn7BFFSwj/we48SyTJgvzAGaDXRGAa4swUwQldAISIEBmjcNkpBBQWk4eFJ27V/2WossHiXxF+zT2f+0GFmOTTPZq+CaCtgAAADkBn890R/8LDq265y54suqdM+bkAXonp4zwAYx84J0C20AAm/67KR/yXRS9xgN23xB124QzTkkAEXAAAAAzAZ/Rakf/Cx2zWyF0PXN5ccAxqPdloetzcgAdobi1BFUyQGktnhHeNspVwdxy02PTwAg5AAAAf0Gb1kmoQWyZTAhn//6eEAAAAwA0tqn7bixG8DyGLmUGrg9e+AllGgAq1k/8YW3EysEABweX0p3oktqAGuA2M5cfSZ8AnzcF7Hj/hdnca0I8XdL0e5gN0wzt5eVz9wOG0QKZqLAACx/zvscUCWPUZqZYZhd/3RsjUUnbjYV2FkAAAAA7QZ/0RRUsI/8HuPEskyYL8wBmg10RgGuLMFMEJXQCEiBAZjlAkh482ZRv8Wep+vD7JROQ9kkAOl4AUEAAAAAwAZ4TdEf/Cw6tuucueLLqnTPm5AF6J6eM8AGMcky0wIE5+vQ65MACAiMaPXjRACVhAAAAMgGeFWpH/wsds1shdD1zeXHAMaj3ZaHrc3IAHXd9Oh4CR8zwmwC0heTOP3++/alqgAKqAAAAPkGaGUmoQWyZTAj//IQAAAMADDy56kxunKO8sBQiORnT0vNn8Sd2stebAAhrPlHQju5y9clI43NjJq4QUQWBAAAAOUGeN0UVLH8LI/6y6NKH7qs4DmTAPzkBpyf+rEriWYwZb9zzGNUAH72CF+uJnD5pn3LZ/Touv4gGfQAAACoBnlhqR/8LHbNbIXQ9b9tA5hATzcFTIzhfBJYWWL3tMo1lEnFc4R8qA8IAAAeKZYiCAA///vdonwKbXmGqgOSVxSXbT4H/q2dwfI/pAwAAAwAAAwAAFbekZYZCdC/yYgAABXwAsgXYRISAUsbwqBIiSFwOMvwIaZ+6BGgdUABQfKY+D7GY6RhtEn3rcKeRfKQSciA02MAh5VFxEVmPHaLHcBJGExT8daEDlaezA4Ms5JgfInJO4TRH8+NQ1roxd+eR1nmK84pkN1uxq89xIEr0/2UUZRe/47OpK2KW0B6jHijkavvk1G2QTei/Ik7Nc5wKfVCPetzzi8SV+tpSuzP0i8SSQjevEcSeMTq9Bbc5svxmi286fi4YU8NM/B+eCXUOY44gyxwxf7K62vhhCUJ066hmJGS/eOZEqgcp+8tvDlHDWtVpSwjNEC4b/4NbPiJkCw/8mfLAHKrgyheN37Mcm9/sdTPKfcACCcq/IFPWUQUZil2Jf2XtIKYNsF8NKt5kFzTizKDyQjHS6xLTLYV29ErQdVHPoBNYc9U+1ohv9XdceD1rCfEE3L8P/GhTqvdgzPckGt4LjJQcHcJKVs7wEYtACbywhfqWyHFiVTDJzgIAWbZEYex3YcjaV0SEZLNpyUS35OFvmbBXijR55effIiUqHHRLZmk7o28x8LLJZMzwA9lf2ha98WqjXG68DNAIgq5/SdK+o2B+6b4jsIRYdCqQsX7mLkg4SiwF82hZ2G7wzklS+y9AAS7az7S1S2AhQowumaWc4tS31v76IMKN2VHDAxz7FX6sYXj6BsnkC+kdC3JHvM1MF1l4/qtj2wf5gB7k16qbGYm+kIPcrWJjqzeqr/wWRC2DpuajQe0bbLp2+dbbAJxe5+ZsH7yYZ3H5ICql0AVkp59xAW4DGZ8lyHn2JPbZpwvNIYAbMb9M6H4plbITHSfC/kogN/Oq8PS0BEmMXB1+17jcvLQo6U8jb6V1hz85ZQE/gnlItL6Xn28MPHxJ4lD4ewkK9lUEChahR2jzaDy9aVL7qzui+HHX+sYTjnqRx213Czqq2/djTYnn8FxbvWZFzE5UOwq4R4UAKi6AUsuItQj3TWq/TODRU1iGczpydKUUrS0SLrVcv40mL/KLw3s8Vc8xvVr43vk8qDWyZRkV91Ft6tdWzabskOwvWXjuoaxO5cklmrccfFPzTWFIMZotA0XVEr6QzI1qrlcVS39VmstcBKxr4W4QHI0Mvel1mAp9ZPmIxDuYtqcQxrM4Q4keevw2SgB0WBakz/aWF3U59mwOnI3333OfMprb0eGd9dPfLe246nss/4flc6XSzwBCaQ6IIoOvei6H3ahNehggiWqoE4jI/S/i2yTAcU9AvI2QrXkyTIh18G0tbSwSLtqHBEJWodZGUm7KOUKv9I3QTEke/difr7GPilGenmIaMXznyeLimr+6ox5JvzUdd58nSbwI3efE++2ljsxLB9CdlUG4zSfvVQUj4vdI5dkPIfZ7R2xdkT14JpZST/6AZyhVVzSz0ovJV2atGqb+XWyEDMwbNwCT2x+dA+Kyd4zdLWzcAMqAeURrgUo8l6wRFHo2/KB60DjseyHekx51sYFEq6NnZPZhEX0L8yxLHAuQmKKIooyNtRsoenoPdGiD8TOb6FE+Hyu+x6T+OMRub/KiPsnlI1VPdEXKX5A0687Xe2M7lekzNWGmAkLEmaIt1GANQC9EzgOo970vzwblWkcYzxvD+6X9+yqB8issvhcudiLAp67lqU4ozDmDmypowfBip1naA0VDnoIbznF7oFa21obil0PS6RXyu4JWWmrAJl/RL42JD6fnGyos5zaLP0Yl6LVat9YfmtMoLilqrLgKRHy3idJ85b0bTPgRP5mrwHSREjgVyVMv8ceuBkWIKmEy7QY14jIce3H14Hy8Y/3/uHcL/NkceiXbyalNhHbrkw1l7GR1i/JIAy/AuKzPcJKC50mm+yyMRWM2Kp/ViXdVFhs8TUvG7Fs2lInnfkXxzap4TE7BbnM0rzm75V3tiUfsS8S/nFQr98jwmwynR/y1j1pXMMxw2722hGcSqwxejDijxsn30TkuZeXrErhHjXyDpmddXUqHeeAsGMQApxMjzr9R9fN+ZlH0+jEH//119DaC+THoP3XjfLOXxTezqdlUn95Bmiq9N6x+5V3M/uqn/3AfJmqJFqDkp9R2oxWlyCbNPdfWvVDDwqRdEpSlWNM86IzjRV7SCSNFWseWc0Nv5Px+kcTp3OKuJYbYgBhytOBHt32kvbVJWIgRQ+gssLvTa/x2ziLE18J9IPzNpb/L1faKirH4w3t/yBky+K8ZM8sDCQ3ArlTZG6gitWUoYuV4tmUteG+yavqqtG4ZHoCZKrM7+Nvtpr9opxRRfBVXEfSWBwKgjqxL6MS0SOzB6C+rWcEzc2dhaHHk3KVDqTiskbtjPjSv1zG9dHvq7BeGlAvskOe1eKMjT7CqqK1ao5qQIfDY9fmBi8cLv2WpMO2dgdj4+UiYx6BcTHqSl+fW/Jy7rvJBLGEmDVSyRpPUmfIzSk1mzd0zU7uBQowpIjFC6nt3x5DbwqEt+14QiT6cyQ2Z/94AmYi332XpOrzmhQubdBKVAVRH/YfQAAADAABxQQAAAO5BmiRsQz/+nhAAAAMANKbK7asyANIfUCx/m/um5WwPNaNvONY+OgqMm5/qLcp+Tuso4fNbif7qIeLWyLlcIYdq+5m4VLxW5HiHsLdgZRD5cEIlJgACX/71x/djzUAId8cJt22m/vBFBe+rmxy417h+kRasVIHNVD7p+6hmQHXu+R/H2CghyhM3PVBE2vq4AthYnJ2bKv2LDUgdLAACTEHL5Lr9JPfnAkBufoh+meLvspMZp/Nd8MrCI9C6qlRhMErTACyNVNYUaOAwH+ygUMCR/7LEGiw7N/6V1DCGtNEZoFt7cAUtFYBmsCWcWmq2AAAAREGeQniEfwAAAwAQ3tz320MjamgiklnvneKmEQAk0ma/BH+PXq/sa2A8OPcFlHUxamgI25nUEmvc9FhrQa0GStA+ugb1AAAAMQGeYXRH/wAAAwAbA6MP8WfZkwkycSvafVXTOALzgKaAD9s32h2H3LNPpBzfagPnoS8AAAAmAZ5jakf/AAADAAqI2cCAFOO6inZ1w2XR815WuD175aN7179HA/wAAACcQZpoSahBaJlMCGf//p4QAAADADTAFBAUyWALzVcKRu/DQ1z8Xgz6NrtR7JY5CQI2A2FZoIFF64uAVzog7/M18vmm4W2sR/GSWBfsDI/Sj8aFvEaSUQvBmMJqXVth9BndlS/O/qrObjAtaew1ZIYHhcShJcvi+nb6uHhGVnUli2sMUk8N3aVLgKjEZ+8FvrxiApg/9oqxZP8iwC4sAAAAOUGehkURLCP/AAADABDKo+koL4ORC5pjXZKoGJf8gBBwFN6S0erZjGysHYfK42Iv6MARUJ/lDgChJwAAACgBnqV0R/8AAAMAGvxPt0ti70vmMKHuk7fLPFxgDy/Dkro9frgKeAUkAAAAIgGep2pH/wAAAwAbDrs52FPtVLrXACrc3b+MZwo/0ZTMDKkAAABHQZqsSahBbJlMCGf//p4QAAADADTT3KVH+0EdSa+5fIeABVect4ylJYw7T4eLq6EwcZkFwad/dOWsiDGl/rG0v0H+K8UipcAAAAAuQZ7KRRUsI/8AAAMAEOJWlcmbT+QAzxcXbvnOfn/7QDT8dBElolmeEknUwFaHgQAAABwBnul0R/8AAAMAGvxQDc/ReBmbOwAoiAPDUiQRAAAAHAGe62pH/wAAAwAKgpgpx1IZrCpFPxrVnIEb0YEAAAB6QZrwSahBbJlMCGf//p4QAAADADTRR+olAF5u5CuMwWhJchJ/QUZQnxBjZWjIZ5Z5Ueov8ZHfh/v12OwFp8bELp30yKVtb3IWbPFRkaePBi4K2g3hY0pQ1Ym1PnnWvWcHJZfzoVG8QkBsVhFiySer67vVl9R7Pf/I7jcAAAAgQZ8ORRUsI/8AAAMAENg79lx6zy5UjDsfD35hYKIn4UkAAAAaAZ8tdEf/AAADABsMGp44CpSMSqBAz34AHHAAAAASAZ8vakf/AAADAAlvx0R8NdNBAAAAcEGbNEmoQWyZTAhn//6eEAAAAwAyNsJUlAHyt2zh8rnivgC6tLtOwI7pGc4TYnKA0DzL/fXGjKLuYaKaT68r60V/vRjQELmxHghna4S8G4K2kvFU8dYTBp6SQ9jdG0r1iRJf2jWvLXUBQ9XHwm+hXegAAAAdQZ9SRRUsI/8AAAMABppoGgPLvMHphqSIkUHAXYAAAAAXAZ9xdEf/AAADAAn3hV+pP0QjKV9Ry6cAAAAXAZ9zakf/AAADAAqCn2ST9mVDK59wQ8EAAAAhQZt4SahBbJlMCGf//p4QAAADABJUgavCQoAaqxBYcoKTAAAAFkGflkUVLCP/AAADAAX4pxE6yj1eNTAAAAASAZ+1dEf/AAADAAlrD4/Ua6aAAAAAEAGft2pH/wAAAwABPs1DIIEAAAAXQZu8SahBbJlMCGf//p4QAAADAAADAz4AAAAUQZ/aRRUsI/8AAAMAAO3ubQlGLPgAAAAQAZ/5dEf/AAADAAE+Fv5HgQAAABABn/tqR/8AAAMAAT7NQyCAAAAAF0Gb4EmoQWyZTAhf//6MsAAAAwAAAwNDAAAAFEGeHkUVLCP/AAADAADt7m0JRiz5AAAAEAGePXRH/wAAAwABPhb+R4AAAAAQAZ4/akf/AAADAAE+zUMggQAAABdBmiRJqEFsmUwIX//+jLAAAAMAAAMDQgAAABRBnkJFFSwj/wAAAwAA7e5tCUYs+QAAABABnmF0R/8AAAMAAT4W/keBAAAAEAGeY2pH/wAAAwABPs1DIIAAAAAXQZpoSahBbJlMCF///oywAAADAAADA0IAAAAUQZ6GRRUsI/8AAAMAAO3ubQlGLPkAAAAQAZ6ldEf/AAADAAE+Fv5HgAAAABABnqdqR/8AAAMAAT7NQyCBAAAAF0GarEmoQWyZTAhP//3xAAADAAADAB6QAAAAFEGeykUVLCP/AAADAADt7m0JRiz5AAAAEAGe6XRH/wAAAwABPhb+R4EAAAAQAZ7rakf/AAADAAE+zUMggQAAABdBmu5JqEFsmUwUTH/8hAAAAwAAAwDAgQAAABIBnw1qR/8AAAMAAX7yd6qUWfAAABDjbW9vdgAAAGxtdmhkAAAAAAAAAAAAAAAAAAAD6AAAFzQAAQAAAQAAAAAAAAAAAAAAAAEAAAAAAAAAAAAAAAAAAAABAAAAAAAAAAAAAAAAAABAAAAAAAAAAAAAAAAAAAAAAAAAAAAAAAAAAAAAAAAAAgAAEA10cmFrAAAAXHRraGQAAAADAAAAAAAAAAAAAAABAAAAAAAAFzQAAAAAAAAAAAAAAAAAAAAAAAEAAAAAAAAAAAAAAAAAAAABAAAAAAAAAAAAAAAAAABAAAAAAlgAAAGQAAAAAAAkZWR0cwAAABxlbHN0AAAAAAAAAAEAABc0AAACAAABAAAAAA+FbWRpYQAAACBtZGhkAAAAAAAAAAAAAAAAAAAyAAABKQBVxAAAAAAALWhkbHIAAAAAAAAAAHZpZGUAAAAAAAAAAAAAAABWaWRlb0hhbmRsZXIAAAAPMG1pbmYAAAAUdm1oZAAAAAEAAAAAAAAAAAAAACRkaW5mAAAAHGRyZWYAAAAAAAAAAQAAAAx1cmwgAAAAAQAADvBzdGJsAAAAsHN0c2QAAAAAAAAAAQAAAKBhdmMxAAAAAAAAAAEAAAAAAAAAAAAAAAAAAAAAAlgBkABIAAAASAAAAAAAAAABAAAAAAAAAAAAAAAAAAAAAAAAAAAAAAAAAAAAAAAAAAAAGP//AAAANmF2Y0MBZAAf/+EAGWdkAB+s2UCYM+XhAAADAAEAAAMAZA8YMZYBAAZo6+PLIsD9+PgAAAAAFGJ0cnQAAAAAAADRVgAA0VYAAAAYc3R0cwAAAAAAAAABAAABKQAAAQAAAAAYc3RzcwAAAAAAAAACAAAAAQAAAPsAAAkgY3R0cwAAAAAAAAEiAAAAAQAAAgAAAAABAAAFAAAAAAEAAAIAAAAAAQAAAAAAAAABAAABAAAAAAEAAAUAAAAAAQAAAgAAAAABAAAAAAAAAAEAAAEAAAAAAQAABQAAAAABAAACAAAAAAEAAAAAAAAAAQAAAQAAAAABAAAFAAAAAAEAAAIAAAAAAQAAAAAAAAABAAABAAAAAAEAAAQAAAAAAgAAAQAAAAABAAADAAAAAAEAAAEAAAAAAQAAAwAAAAABAAABAAAAAAEAAAMAAAAAAQAAAQAAAAABAAADAAAAAAEAAAEAAAAAAQAAAgAAAAABAAADAAAAAAEAAAEAAAAAAQAAAwAAAAABAAABAAAAAAEAAAMAAAAAAQAAAQAAAAABAAADAAAAAAEAAAEAAAAAAQAAAgAAAAABAAADAAAAAAEAAAEAAAAAAQAABQAAAAABAAACAAAAAAEAAAAAAAAAAQAAAQAAAAABAAAFAAAAAAEAAAIAAAAAAQAAAAAAAAABAAABAAAAAAEAAAUAAAAAAQAAAgAAAAABAAAAAAAAAAEAAAEAAAAAAQAABAAAAAACAAABAAAAAAEAAAUAAAAAAQAAAgAAAAABAAAAAAAAAAEAAAEAAAAAAQAABQAAAAABAAACAAAAAAEAAAAAAAAAAQAAAQAAAAABAAAFAAAAAAEAAAIAAAAAAQAAAAAAAAABAAABAAAAAAEAAAUAAAAAAQAAAgAAAAABAAAAAAAAAAEAAAEAAAAAAQAABQAAAAABAAACAAAAAAEAAAAAAAAAAQAAAQAAAAABAAAFAAAAAAEAAAIAAAAAAQAAAAAAAAABAAABAAAAAAEAAAQAAAAAAgAAAQAAAAABAAAFAAAAAAEAAAIAAAAAAQAAAAAAAAABAAABAAAAAAEAAAUAAAAAAQAAAgAAAAABAAAAAAAAAAEAAAEAAAAAAQAABQAAAAABAAACAAAAAAEAAAAAAAAAAQAAAQAAAAABAAAFAAAAAAEAAAIAAAAAAQAAAAAAAAABAAABAAAAAAEAAAUAAAAAAQAAAgAAAAABAAAAAAAAAAEAAAEAAAAAAQAABQAAAAABAAACAAAAAAEAAAAAAAAAAQAAAQAAAAABAAAFAAAAAAEAAAIAAAAAAQAAAAAAAAABAAABAAAAAAEAAAUAAAAAAQAAAgAAAAABAAAAAAAAAAEAAAEAAAAAAQAABQAAAAABAAACAAAAAAEAAAAAAAAAAQAAAQAAAAABAAAFAAAAAAEAAAIAAAAAAQAAAAAAAAABAAABAAAAAAEAAAUAAAAAAQAAAgAAAAABAAAAAAAAAAEAAAEAAAAAAQAABQAAAAABAAACAAAAAAEAAAAAAAAAAQAAAQAAAAABAAAFAAAAAAEAAAIAAAAAAQAAAAAAAAABAAABAAAAAAEAAAUAAAAAAQAAAgAAAAABAAAAAAAAAAEAAAEAAAAAAQAABQAAAAABAAACAAAAAAEAAAAAAAAAAQAAAQAAAAABAAAFAAAAAAEAAAIAAAAAAQAAAAAAAAABAAABAAAAAAEAAAUAAAAAAQAAAgAAAAABAAAAAAAAAAEAAAEAAAAAAQAABQAAAAABAAACAAAAAAEAAAAAAAAAAQAAAQAAAAABAAAFAAAAAAEAAAIAAAAAAQAAAAAAAAABAAABAAAAAAEAAAQAAAAAAgAAAQAAAAABAAAFAAAAAAEAAAIAAAAAAQAAAAAAAAABAAABAAAAAAEAAAUAAAAAAQAAAgAAAAABAAAAAAAAAAEAAAEAAAAAAQAABQAAAAABAAACAAAAAAEAAAAAAAAAAQAAAQAAAAABAAAFAAAAAAEAAAIAAAAAAQAAAAAAAAABAAABAAAAAAEAAAUAAAAAAQAAAgAAAAABAAAAAAAAAAEAAAEAAAAAAQAABQAAAAABAAACAAAAAAEAAAAAAAAAAQAAAQAAAAABAAAEAAAAAAIAAAEAAAAAAQAABQAAAAABAAACAAAAAAEAAAAAAAAAAQAAAQAAAAABAAAFAAAAAAEAAAIAAAAAAQAAAAAAAAABAAABAAAAAAEAAAUAAAAAAQAAAgAAAAABAAAAAAAAAAEAAAEAAAAAAQAABQAAAAABAAACAAAAAAEAAAAAAAAAAQAAAQAAAAABAAAFAAAAAAEAAAIAAAAAAQAAAAAAAAABAAABAAAAAAEAAAUAAAAAAQAAAgAAAAABAAAAAAAAAAEAAAEAAAAAAQAABQAAAAABAAACAAAAAAEAAAAAAAAAAQAAAQAAAAABAAAFAAAAAAEAAAIAAAAAAQAAAAAAAAABAAABAAAAAAEAAAUAAAAAAQAAAgAAAAABAAAAAAAAAAEAAAEAAAAAAQAABAAAAAACAAABAAAAAAEAAAUAAAAAAQAAAgAAAAABAAAAAAAAAAEAAAEAAAAAAQAABQAAAAABAAACAAAAAAEAAAAAAAAAAQAAAQAAAAABAAAFAAAAAAEAAAIAAAAAAQAAAAAAAAABAAABAAAAAAEAAAUAAAAAAQAAAgAAAAABAAAAAAAAAAEAAAEAAAAAAQAABQAAAAABAAACAAAAAAEAAAAAAAAAAQAAAQAAAAABAAAEAAAAAAIAAAEAAAAAAQAAAgAAAAABAAAFAAAAAAEAAAIAAAAAAQAAAAAAAAABAAABAAAAAAEAAAUAAAAAAQAAAgAAAAABAAAAAAAAAAEAAAEAAAAAAQAABQAAAAABAAACAAAAAAEAAAAAAAAAAQAAAQAAAAABAAAFAAAAAAEAAAIAAAAAAQAAAAAAAAABAAABAAAAAAEAAAUAAAAAAQAAAgAAAAABAAAAAAAAAAEAAAEAAAAAAQAABQAAAAABAAACAAAAAAEAAAAAAAAAAQAAAQAAAAABAAAFAAAAAAEAAAIAAAAAAQAAAAAAAAABAAABAAAAAAEAAAUAAAAAAQAAAgAAAAABAAAAAAAAAAEAAAEAAAAAAQAABQAAAAABAAACAAAAAAEAAAAAAAAAAQAAAQAAAAABAAAFAAAAAAEAAAIAAAAAAQAAAAAAAAABAAABAAAAAAEAAAUAAAAAAQAAAgAAAAABAAAAAAAAAAEAAAEAAAAAAQAAAwAAAAABAAABAAAAABxzdHNjAAAAAAAAAAEAAAABAAABKQAAAAEAAAS4c3RzegAAAAAAAAAAAAABKQAACHEAAAEbAAAAXgAAAEkAAABAAAAAmQAAAE4AAABCAAAAPAAAAIwAAABIAAAAMgAAADwAAACIAAAAWgAAADUAAAAzAAAArgAAAEAAAAA1AAAAqwAAAEcAAACZAAAAMwAAAJoAAAA2AAAAkwAAACAAAACDAAABDAAAAFEAAADsAAAAWQAAANkAAABZAAAAywAAAGgAAADPAAAArwAAAHQAAADeAAAAdQAAAHwAAABaAAAAywAAAIsAAABeAAAAbAAAAMcAAACcAAAAewAAAHAAAADpAAAAgQAAAF4AAAC5AAAAgAAAAGUAAABhAAAAwgAAAHMAAABtAAAAXwAAANEAAABxAAAAWwAAAHgAAACxAAAAcwAAAF4AAABhAAAAvQAAAGwAAABhAAAAXwAAALkAAABoAAAATgAAAIAAAAB9AAAAagAAAGcAAADAAAAAZwAAAGsAAABlAAAAlQAAAH8AAACAAAAAZgAAAPsAAACEAAAAZgAAAFsAAADLAAAAbgAAAHAAAABTAAAA2gAAAIcAAABvAAAAbwAAAJcAAACKAAAAaAAAAGQAAADcAAAAZQAAAH8AAABhAAAAsQAAAIsAAAByAAAAagAAANcAAABqAAAAfQAAAIkAAADAAAAAlAAAAH4AAAB4AAAA2AAAAJQAAABpAAAAbgAAAL0AAAB4AAAAfQAAAHoAAAEBAAAAcgAAAGwAAAB+AAAAtQAAAIwAAABjAAAAfgAAAMEAAACQAAAAcAAAAGUAAAD4AAAAmAAAAHIAAAB9AAAA/QAAAHEAAABbAAAAYgAAAMUAAACJAAAAhAAAAI0AAAC9AAAAcQAAAGwAAABlAAAApQAAAJgAAAB5AAAAwwAAAIkAAACFAAAAfwAAAM4AAACoAAAAkAAAAIwAAAC5AAAAgwAAAJkAAAB5AAAAvwAAAKsAAACKAAAAjQAAALgAAAB5AAAAhQAAAJMAAAEfAAAAhgAAAHIAAABqAAAA+gAAAJwAAABxAAABBgAAAK8AAACMAAAAmgAAAUcAAACnAAAAiwAAAIYAAAEnAAAApwAAAI4AAAB+AAAA7AAAAKUAAACUAAAAfAAAAO0AAACxAAAAggAAAIcAAADrAAAAkAAAAGYAAACBAAABHAAAAIMAAACDAAAAZQAAAO4AAACjAAAAWAAAAHYAAAEKAAAAaAAAAEkAAABaAAAAvgAAAGsAAABuAAAA4AAAAH4AAABHAAAAVQAAAKYAAABaAAAAVgAAAGMAAACuAAAAUAAAAEMAAAA1AAAAcQAAAEsAAAA9AAAANwAAAIMAAAA/AAAANAAAADYAAABCAAAAPQAAAC4AAAeOAAAA8gAAAEgAAAA1AAAAKgAAAKAAAAA9AAAALAAAACYAAABLAAAAMgAAACAAAAAgAAAAfgAAACQAAAAeAAAAFgAAAHQAAAAhAAAAGwAAABsAAAAlAAAAGgAAABYAAAAUAAAAGwAAABgAAAAUAAAAFAAAABsAAAAYAAAAFAAAABQAAAAbAAAAGAAAABQAAAAUAAAAGwAAABgAAAAUAAAAFAAAABsAAAAYAAAAFAAAABQAAAAbAAAAFgAAABRzdGNvAAAAAAAAAAEAAAAwAAAAYnVkdGEAAABabWV0YQAAAAAAAAAhaGRscgAAAAAAAAAAbWRpcmFwcGwAAAAAAAAAAAAAAAAtaWxzdAAAACWpdG9vAAAAHWRhdGEAAAABAAAAAExhdmY1OC43Ni4xMDA=\" type=\"video/mp4\"></video>"
            ]
          },
          "metadata": {},
          "execution_count": 11
        }
      ]
    },
    {
      "cell_type": "markdown",
      "metadata": {
        "id": "znRMHGZ9QZZy"
      },
      "source": [
        "### 5. Explore\n",
        "\n",
        "In this exercise, you have implemented a DQN agent and demonstrated how to use it to solve an OpenAI Gym environment.  To continue your learning, you are encouraged to complete any (or all!) of the following tasks:\n",
        "- Amend the various hyperparameters and network architecture to see if you can get your agent to solve the environment faster.  Once you build intuition for the hyperparameters that work well with this environment, try solving a different OpenAI Gym task with discrete actions!\n",
        "- You may like to implement some improvements such as prioritized experience replay, Double DQN, or Dueling DQN!\n",
        "- Write a blog post explaining the intuition behind the DQN algorithm and demonstrating how to use it to solve an RL environment of your choosing.  "
      ]
    }
  ]
}